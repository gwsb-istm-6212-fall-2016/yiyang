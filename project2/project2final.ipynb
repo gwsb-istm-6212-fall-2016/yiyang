{
 "cells": [
  {
   "cell_type": "markdown",
   "metadata": {},
   "source": [
    "# Project 02 - Due Friday, November 11 at 12pm\n",
    "\n",
    "*Objectives*: Gain experience loading a transactional dataset into a relational database model you define yourself and using SQL to explore its contents. Transform the data into a star schema, documenting the schema visually, and explore the transformed data analytically by writing and executing a number of SQL queries using common syntax and functions and describing your findings.  Gain practice working on these tasks with a partner.\n",
    "\n",
    "*Grading criteria*: The tasks should all be completed, and questions should all be answered with SQL queries, diagrams, and charts in the space provided, unless a text answer is requested.  The notebook itself should be completely reproducible at datanotebook.org, from start to finish: another person should be able to use the same code to obtain the same results as yours.  Note that you will receive no more than partial credit if you do not add text/markdown cells explaining your thinking at each major step in each problem.\n",
    "\n",
    "*Attestation*: **Work in pairs**.  At the end of your submitted notebook, identify the work each partner performed and attest that each contributed substantially to the work.\n",
    "\n",
    "*Deadline*: Friday, November 11, 12pm.  One member of each pair must submit your notebook to Blackboard; you should not both submit it separately.  You may each push a copy to your own GitHub repository.\n",
    "\n",
    "\n",
    "## Setup - select and obtain data\n",
    "\n",
    "The US City Open Data Census has a variety of [transactional data from all over the country](http://us-city.census.okfn.org/).  Select one topic and one city from this Census, download the data, and explain your reason for this choice before proceeding.  Provide a link to the web page for the data set you've chosen.\n",
    "\n",
    "I strongly encourage you to select a dataset from among the following topics:  Crime, Property Assessment, Campaign Finance Contributions, Service Requests (311), and Web Analytics.\n",
    "\n",
    "By *transactional* data I mean records at the grain of one event per business process.  In the case of Service Requests (311), for example, that would require data at the level of each individual report of a service request.  If this isn't clear, think about the bike trip data - each individual ride was included - and look for data at that level of event/process specificity.  Avoid data like the Connecticut boating data, which was summarized by year, not individual transactions.\n",
    "\n",
    "Please aim for a dataset of at least 10,000 individual records, but less than 250,000 records.  A little more or a little less is okay, but try to stay within these limits."
   ]
  },
  {
   "cell_type": "markdown",
   "metadata": {},
   "source": [
    "## Problem 1 - examine the data (20 points)\n",
    "\n",
    "Use `csvstat`, `pandas`, or other tools as you see fit and observe the contents of your dataset.  Review important points from any metadata provided.  Describe what you see:  What do the columns mean?  Are there null values?  Which columns interest you the most?  Which columns present some opportunities, challenges, or questions you would like to ask?"
   ]
  },
  {
   "cell_type": "markdown",
   "metadata": {},
   "source": [
    "#### The csv data we have chosen is Boston crime incident reports from July 2012 to August 2015. In this part, we are going to take a closer examinzation to Boston's 2012-2015 crime rate."
   ]
  },
  {
   "cell_type": "code",
   "execution_count": 1,
   "metadata": {
    "collapsed": false
   },
   "outputs": [
    {
     "name": "stdout",
     "output_type": "stream",
     "text": [
      "--2016-11-11 11:34:18--  https://data.cityofboston.gov/api/views/7cdf-6fgx/rows.csv\n",
      "Resolving data.cityofboston.gov (data.cityofboston.gov)... 52.206.140.199\n",
      "Connecting to data.cityofboston.gov (data.cityofboston.gov)|52.206.140.199|:443... connected.\n",
      "HTTP request sent, awaiting response... 200 OK\n",
      "Length: unspecified [text/csv]\n",
      "Saving to: ‘rows.csv’\n",
      "\n",
      "rows.csv                [      <=>             ]  44.06M  42.4MB/s   in 1.0s   \n",
      "\n",
      "Last-modified header invalid -- time-stamp ignored.\n",
      "2016-11-11 11:34:19 (42.4 MB/s) - ‘rows.csv’ saved [46205870]\n",
      "\n"
     ]
    }
   ],
   "source": [
    "!wget https://data.cityofboston.gov/api/views/7cdf-6fgx/rows.csv"
   ]
  },
  {
   "cell_type": "code",
   "execution_count": 2,
   "metadata": {
    "collapsed": false
   },
   "outputs": [],
   "source": [
    "!mv rows.csv boston.csv"
   ]
  },
  {
   "cell_type": "code",
   "execution_count": 3,
   "metadata": {
    "collapsed": false
   },
   "outputs": [
    {
     "name": "stdout",
     "output_type": "stream",
     "text": [
      "268057 boston.csv\r\n"
     ]
    }
   ],
   "source": [
    "!wc -l boston.csv"
   ]
  },
  {
   "cell_type": "code",
   "execution_count": 4,
   "metadata": {
    "collapsed": false
   },
   "outputs": [
    {
     "name": "stdout",
     "output_type": "stream",
     "text": [
      "  1: COMPNOS\r\n",
      "  2: NatureCode\r\n",
      "  3: INCIDENT_TYPE_DESCRIPTION\r\n",
      "  4: MAIN_CRIMECODE\r\n",
      "  5: REPTDISTRICT\r\n",
      "  6: REPORTINGAREA\r\n",
      "  7: FROMDATE\r\n",
      "  8: WEAPONTYPE\r\n",
      "  9: Shooting\r\n",
      " 10: DOMESTIC\r\n",
      " 11: SHIFT\r\n",
      " 12: Year\r\n",
      " 13: Month\r\n",
      " 14: DAY_WEEK\r\n",
      " 15: UCRPART\r\n",
      " 16: X\r\n",
      " 17: Y\r\n",
      " 18: STREETNAME\r\n",
      " 19: XSTREETNAME\r\n",
      " 20: Location\r\n"
     ]
    }
   ],
   "source": [
    "!csvcut -n boston.csv"
   ]
  },
  {
   "cell_type": "markdown",
   "metadata": {},
   "source": [
    "### What do all the columns mean?"
   ]
  },
  {
   "cell_type": "markdown",
   "metadata": {},
   "source": [
    "  1: COMPNOS: crime file number \n",
    "        \n",
    "  2: NatureCode: code decription for crime nature\n",
    "        \n",
    "  3: INCIDENT_TYPE_DESCRIPTION: the description of the incident type\n",
    "  \n",
    "  4: MAIN_CRIMECODE: code description for the main crime of the inccident\n",
    "  \n",
    "  5: REPTDISTRICT: crime inccident reported district code\n",
    "  \n",
    "  6: REPORTINGAREA: crime inccident reported area number \n",
    "  \n",
    "  7: FROMDATE: the exact time and date when the incident happened.\n",
    "  \n",
    "  8: WEAPONTYPE: the type of the weapon when the incident happened\n",
    "  \n",
    "  9: Shooting: whether shooting is involved in the incident.\n",
    "  \n",
    " 10: DOMESTIC: whether the crime is committed envolving a family or household member such as child abuse. \n",
    " \n",
    " 11: SHIFT: the shift period of the incident happened\n",
    " \n",
    " 12: Year: The year of the incident happend\n",
    " \n",
    " 13: Month: The month of the incident happend\n",
    " \n",
    " 14: DAY_WEEK: The day of the week of the incident happened\n",
    " \n",
    " 15: UCRPART:Uniform Crime Report parts that being applied in a specific crime\n",
    " \n",
    " 16: X: X Coordinate of the incident location \n",
    " \n",
    " 17: Y: Y Coordinate of the incident location \n",
    " \n",
    " 18: STREETNAME: The exact street name of the incident happened\n",
    " \n",
    " 19: XSTREETNAME: additional information of the street name of the incident happened\n",
    " \n",
    " 20: Location: the exact location including latitude and longitude where the incident happened."
   ]
  },
  {
   "cell_type": "markdown",
   "metadata": {},
   "source": [
    "### Are there null values?"
   ]
  },
  {
   "cell_type": "markdown",
   "metadata": {},
   "source": [
    "Yes, there are null values in:\n",
    "\n",
    "1: COMPNOS\n",
    "\n",
    "2: NatureCode\n",
    "\n",
    "5: REPTDISTRICT\n",
    "\n",
    "8: WEAPONTYPE\n",
    "\n",
    "11: SHIFT\n",
    "\n",
    "16: X\n",
    "\n",
    "17: Y\n",
    "\n",
    "18: STREETNAME\n",
    "\n",
    "19: XSTREETNAME"
   ]
  },
  {
   "cell_type": "markdown",
   "metadata": {},
   "source": [
    "### Which columns interest you the most?"
   ]
  },
  {
   "cell_type": "markdown",
   "metadata": {},
   "source": [
    "1: COMPNOS\n",
    "\n",
    "3: INCIDENT_TYPE_DESCRIPTION\n",
    "    \n",
    "8: WEAPONTYPE\n",
    "    \n",
    "9: Shooting\n",
    "\n",
    "12: Year\n",
    "    \n",
    "13: Month\n",
    "\n",
    "18: Street name\n",
    "\n"
   ]
  },
  {
   "cell_type": "code",
   "execution_count": 5,
   "metadata": {
    "collapsed": false
   },
   "outputs": [
    {
     "name": "stdout",
     "output_type": "stream",
     "text": [
      "|------------+---------------------------+------------+----------+------+-------+----------------|\r\n",
      "|  COMPNOS   | INCIDENT_TYPE_DESCRIPTION | WEAPONTYPE | Shooting | Year | Month | STREETNAME     |\r\n",
      "|------------+---------------------------+------------+----------+------+-------+----------------|\r\n",
      "|  120420285 | RESIDENTIAL BURGLARY      | Other      | No       | 2012 | 7     | ABERDEEN ST    |\r\n",
      "|  120419202 | AGGRAVATED ASSAULT        | Firearm    | Yes      | 2012 | 7     | HOWARD AV      |\r\n",
      "|  120419213 | ROBBERY                   | Firearm    | No       | 2012 | 7     | JERSEY ST      |\r\n",
      "|  120419223 | COMMERCIAL BURGLARY       | Other      | No       | 2012 | 7     | COLUMBIA RD    |\r\n",
      "|  120419236 | ROBBERY                   | Firearm    | No       | 2012 | 7     | COLLINS ST     |\r\n",
      "|  120419239 | ROBBERY                   | Firearm    | Yes      | 2012 | 7     | SYDNEY ST      |\r\n",
      "|  120419257 | ROBBERY                   | Firearm    | No       | 2012 | 7     | REGENT ST      |\r\n",
      "|  120419424 | SIMPLE ASSAULT            | Unarmed    | No       | 2012 | 7     | WASHINGTON ST  |\r\n",
      "|  120419255 | MedAssist                 | Unarmed    | No       | 2012 | 7     | FANEUIL ST     |\r\n",
      "|------------+---------------------------+------------+----------+------+-------+----------------|\r\n"
     ]
    }
   ],
   "source": [
    "!csvcut -c1,3,8,9,12,13,18 boston.csv | head | csvlook\n",
    "\n"
   ]
  },
  {
   "cell_type": "markdown",
   "metadata": {},
   "source": [
    "### Which columns present some opportunities, challenges, or questions you would like to ask?"
   ]
  },
  {
   "cell_type": "markdown",
   "metadata": {
    "collapsed": true
   },
   "source": [
    "1. What is the trend of the crime rate over years?\n",
    "2. What is the most common type of weapon type?\n",
    "3. Which type of the crimes that happens most frequently?\n",
    "4. When does the crimes happen most frequently in a year?\n",
    "5. When does the crimes happen most frequently during a week time?"
   ]
  },
  {
   "cell_type": "markdown",
   "metadata": {},
   "source": [
    "## Problem 2 - define a database model, load the data, and explore (20 points)\n",
    "\n",
    "Based on what you found above, create and connect to a new database, define a database table in it, and load this dataset into it.  You may use either of the methods for this step you have seen in earlier class notebooks.  You may choose to eliminate variables/columns if they are not relevant or interesting to you - explain your reasoning if you do.  Either way, you should load a majority of the columns present in the source dataset as it is in its raw form into the database, and all of its rows.\n",
    "\n",
    "Once your data has loaded successfully, run a `COUNT(*)` query to verify that all the data has loaded correctly.\n",
    "\n",
    "Explore the data to zero in on a few themes you would like to further study analytically.  Discuss columns that present opportunities for extraction into dimensions, and identify the specific columns that contain facts you want to measure."
   ]
  },
  {
   "cell_type": "code",
   "execution_count": 6,
   "metadata": {
    "collapsed": false
   },
   "outputs": [
    {
     "name": "stderr",
     "output_type": "stream",
     "text": [
      "/opt/conda/lib/python3.5/site-packages/IPython/config.py:13: ShimWarning: The `IPython.config` package has been deprecated. You should import from traitlets.config instead.\n",
      "  \"You should import from traitlets.config instead.\", ShimWarning)\n",
      "/opt/conda/lib/python3.5/site-packages/IPython/utils/traitlets.py:5: UserWarning: IPython.utils.traitlets has moved to a top-level traitlets package.\n",
      "  warn(\"IPython.utils.traitlets has moved to a top-level traitlets package.\")\n"
     ]
    }
   ],
   "source": [
    "%load_ext sql"
   ]
  },
  {
   "cell_type": "code",
   "execution_count": 7,
   "metadata": {
    "collapsed": false
   },
   "outputs": [
    {
     "name": "stdout",
     "output_type": "stream",
     "text": [
      "[sudo] password for jovyan: Restarting PostgreSQL 9.5 database server: main.\n"
     ]
    }
   ],
   "source": [
    "!echo 'redspot' | sudo -S service postgresql restart"
   ]
  },
  {
   "cell_type": "code",
   "execution_count": 8,
   "metadata": {
    "collapsed": false
   },
   "outputs": [
    {
     "name": "stdout",
     "output_type": "stream",
     "text": [
      "createdb: database creation failed: ERROR:  database \"boston\" already exists\r\n"
     ]
    }
   ],
   "source": [
    "!createdb -U dbuser boston"
   ]
  },
  {
   "cell_type": "code",
   "execution_count": 9,
   "metadata": {
    "collapsed": false
   },
   "outputs": [
    {
     "data": {
      "text/plain": [
       "'Connected: dbuser@boston'"
      ]
     },
     "execution_count": 9,
     "metadata": {},
     "output_type": "execute_result"
    }
   ],
   "source": [
    "%sql postgresql://dbuser@localhost:5432/bostonhttp://datanotebook.org/user/SEgFzzgLSvul/notebooks/project2_newest.ipynb#"
   ]
  },
  {
   "cell_type": "code",
   "execution_count": 10,
   "metadata": {
    "collapsed": false
   },
   "outputs": [
    {
     "name": "stdout",
     "output_type": "stream",
     "text": [
      "  1. 120793628\n",
      "\t<class 'int'>\n",
      "\tNulls: True\n",
      "\tMin: 120024083\n",
      "\tMax: 152049751\n",
      "\tSum: 1295974359495\n",
      "\tMean: 135576353.1221885\n",
      "\tMedian: 130785123\n",
      "\tStandard Deviation: 9808820.370473715\n",
      "\tUnique values: 9559\n",
      "  2. BERPT \n",
      "\t<class 'str'>\n",
      "\tNulls: True\n",
      "\tUnique values: 198\n",
      "\t5 most frequent values:\n",
      "\t\tIVPER:\t1103\n",
      "\t\tARREST:\t587\n",
      "\t\tLARCRT:\t578\n",
      "\t\tMVA:\t551\n",
      "\t\tLARCEN:\t409\n",
      "\tMax length: 6\n",
      "  3. RESIDENTIAL BURGLARY\n",
      "\t<class 'str'>\n",
      "\tNulls: False\n",
      "\tUnique values: 110\n",
      "\t5 most frequent values:\n",
      "\t\tVAL:\t1024\n",
      "\t\tOTHER LARCENY:\t867\n",
      "\t\tSIMPLE ASSAULT:\t654\n",
      "\t\tMedAssist:\t647\n",
      "\t\tVANDALISM:\t560\n",
      "\tMax length: 32\n",
      "  4. 05RB\n",
      "\t<class 'str'>\n",
      "\tNulls: False\n",
      "\tUnique values: 71\n",
      "\t5 most frequent values:\n",
      "\t\tVAL:\t1030\n",
      "\t\t06xx:\t905\n",
      "\t\t08xx:\t677\n",
      "\t\tMedAssist:\t673\n",
      "\t\t14xx:\t584\n",
      "\tMax length: 10\n",
      "  5. D14\n",
      "\t<class 'str'>\n",
      "\tNulls: True\n",
      "\tUnique values: 12\n",
      "\t5 most frequent values:\n",
      "\t\tB2:\t1486\n",
      "\t\tD4:\t1358\n",
      "\t\tC11:\t1334\n",
      "\t\tA1:\t1117\n",
      "\t\tB3:\t935\n",
      "\tMax length: 4\n",
      "  6. 794\n",
      "\t<class 'int'>\n",
      "\tNulls: False\n",
      "\tMin: 0\n",
      "\tMax: 960\n",
      "\tSum: 2506583\n",
      "\tMean: 250.6833683368337\n",
      "\tMedian: 167\n",
      "\tStandard Deviation: 267.7273683223096\n",
      "\tUnique values: 817\n",
      "\t5 most frequent values:\n",
      "\t\t0:\t3377\n",
      "\t\t282:\t68\n",
      "\t\t72:\t55\n",
      "\t\t26:\t50\n",
      "\t\t355:\t49\n",
      "  7. 12/19/2012 01:00:00 AM\n",
      "\t<class 'datetime.datetime'>\n",
      "\tNulls: False\n",
      "\tMin: 2012-07-08 13:27:00\n",
      "\tMax: 2015-08-10 00:00:00\n",
      "\tUnique values: 9437\n",
      "\t5 most frequent values:\n",
      "\t\t2015-07-23 00:00:00:\t14\n",
      "\t\t2015-06-19 00:00:00:\t13\n",
      "\t\t2015-08-05 00:00:00:\t10\n",
      "\t\t2015-07-13 00:00:00:\t10\n",
      "\t\t2015-07-08 00:00:00:\t9\n",
      "  8. Unarmed\n",
      "\t<class 'str'>\n",
      "\tNulls: True\n",
      "\tUnique values: 7\n",
      "\t5 most frequent values:\n",
      "\t\tUnarmed:\t7241\n",
      "\t\tOther:\t1982\n",
      "\t\tFirearm:\t215\n",
      "\t\tKnife:\t136\n",
      "\t\tPersonal Weapon (hand  foot  etc.):\t15\n",
      "\tMax length: 34\n",
      "  9. No\n",
      "\t<class 'bool'>\n",
      "\tNulls: False\n",
      "\tUnique values: 2\n",
      "\t5 most frequent values:\n",
      "\t\tFalse:\t9971\n",
      "\t\tTrue:\t28\n",
      " 10. No\n",
      "\t<class 'bool'>\n",
      "\tNulls: False\n",
      "\tUnique values: 1\n",
      "\t5 most frequent values:\n",
      "\t\tFalse:\t9999\n",
      " 11. Last\n",
      "\t<class 'str'>\n",
      "\tNulls: True\n",
      "\tValues: Day, Last, First\n",
      " 12. 2012\n",
      "\t<class 'int'>\n",
      "\tNulls: False\n",
      "\tValues: 2012, 2013, 2014, 2015\n",
      " 13. 12\n",
      "\t<class 'int'>\n",
      "\tNulls: False\n",
      "\tMin: 1\n",
      "\tMax: 12\n",
      "\tSum: 66043\n",
      "\tMean: 6.604960496049605\n",
      "\tMedian: 7\n",
      "\tStandard Deviation: 3.306062975985069\n",
      "\tUnique values: 12\n",
      "\t5 most frequent values:\n",
      "\t\t7:\t1083\n",
      "\t\t8:\t978\n",
      "\t\t9:\t910\n",
      "\t\t6:\t876\n",
      "\t\t5:\t850\n",
      " 14. Wednesday\n",
      "\t<class 'str'>\n",
      "\tNulls: False\n",
      "\tUnique values: 7\n",
      "\t5 most frequent values:\n",
      "\t\tFriday:\t1619\n",
      "\t\tThursday:\t1455\n",
      "\t\tWednesday:\t1424\n",
      "\t\tSaturday:\t1412\n",
      "\t\tTuesday:\t1405\n",
      "\tMax length: 9\n",
      " 15. Part One\n",
      "\t<class 'str'>\n",
      "\tNulls: False\n",
      "\tValues: Part three, Part Three, Other, Part One, Part Two\n",
      " 16. 754433.5091\n",
      "\t<class 'float'>\n",
      "\tNulls: True\n",
      "\tMin: 743774.3644\n",
      "\tMax: 798964.0477\n",
      "\tSum: 7274779196.628294\n",
      "\tMean: 768922.8619203354\n",
      "\tMedian: 770360.3001\n",
      "\tStandard Deviation: 8328.02043712393\n",
      "\tUnique values: 5526\n",
      "\t5 most frequent values:\n",
      "\t\t768218.0809:\t55\n",
      "\t\t774104.1328:\t37\n",
      "\t\t774845.858:\t30\n",
      "\t\t775087.02:\t28\n",
      "\t\t774107.7181:\t27\n",
      " 17. 2952431.179\n",
      "\t<class 'float'>\n",
      "\tNulls: True\n",
      "\tMin: 2909881.75\n",
      "\tMax: 2970000.0\n",
      "\tSum: 27846115847.998928\n",
      "\tMean: 2943252.917027685\n",
      "\tMedian: 2945016.925\n",
      "\tStandard Deviation: 11783.649027711894\n",
      "\tUnique values: 5204\n",
      "\t5 most frequent values:\n",
      "\t\t2950000.0:\t111\n",
      "\t\t2930000.0:\t90\n",
      "\t\t2940000.0:\t86\n",
      "\t\t2945064.255:\t55\n",
      "\t\t2943918.604:\t37\n",
      " 18. GLENVILLE AV\n",
      "\t<class 'str'>\n",
      "\tNulls: True\n",
      "\tUnique values: 1995\n",
      "\t5 most frequent values:\n",
      "\t\tWASHINGTON ST:\t480\n",
      "\t\tBOYLSTON ST:\t235\n",
      "\t\tBLUE HILL AV:\t234\n",
      "\t\tDORCHESTER AV:\t168\n",
      "\t\tMASSACHUSETTS AV:\t166\n",
      "\tMax length: 34\n",
      " 19. _unnamed\n",
      "\t<class 'str'>\n",
      "\tNulls: True\n",
      "\tUnique values: 824\n",
      "\t5 most frequent values:\n",
      "\t\tWASHINGTON ST:\t82\n",
      "\t\tCOLUMBUS AV:\t29\n",
      "\t\tBOYLSTON ST:\t28\n",
      "\t\tMASSACHUSETTS AV:\t28\n",
      "\t\tTREMONT ST:\t28\n",
      "\tMax length: 29\n",
      " 20. (42.34904741, -71.1364789)\n",
      "\t<class 'str'>\n",
      "\tNulls: False\n",
      "\tUnique values: 5518\n",
      "\t5 most frequent values:\n",
      "\t\t(0.0, 0.0):\t538\n",
      "\t\t(42.3286598, -71.08561842):\t55\n",
      "\t\t(42.32543556, -71.06387302):\t37\n",
      "\t\t(42.31037135, -71.06123456):\t30\n",
      "\t\t(42.36164815, -71.05998657):\t28\n",
      "\tMax length: 37\n",
      "\n",
      "Row count: 9999\n"
     ]
    }
   ],
   "source": [
    "!shuf -n 10000 boston.csv | csvstat"
   ]
  },
  {
   "cell_type": "code",
   "execution_count": 11,
   "metadata": {
    "collapsed": false
   },
   "outputs": [
    {
     "name": "stdout",
     "output_type": "stream",
     "text": [
      "Done.\n",
      "Done.\n"
     ]
    },
    {
     "data": {
      "text/plain": [
       "[]"
      ]
     },
     "execution_count": 11,
     "metadata": {},
     "output_type": "execute_result"
    }
   ],
   "source": [
    "%%sql\n",
    "DROP TABLE IF EXISTS boston;\n",
    "CREATE TABLE boston (\n",
    "    COMPNOS INTEGER,\n",
    "    NatureCode VARCHAR(6),\n",
    "    INCIDENT_TYPE_DESCRIPTION VARCHAR(255),\n",
    "    MAIN_CRIMECODE VARCHAR(10),\n",
    "    REPTDISTRICT VARCHAR(4),\n",
    "    REPORTINGAREA INTEGER,\n",
    "    FROMDATE TIMESTAMP,\n",
    "    WEAPONTYPE VARCHAR(34),\n",
    "    Shooting BOOLEAN,\n",
    "    DOMESTIC BOOLEAN,\n",
    "    SHIFT VARCHAR(255),\n",
    "    Year INTEGER,\n",
    "    Month INTEGER,\n",
    "    DAY_WEEK VARCHAR(9),\n",
    "    UCRPART VARCHAR(255),\n",
    "    X FLOAT,\n",
    "    Y FLOAT,\n",
    "    STREETNAME VARCHAR(255),\n",
    "    XSTREETNAME VARCHAR(255),\n",
    "    Location VARCHAR(37)\n",
    "    )"
   ]
  },
  {
   "cell_type": "code",
   "execution_count": 12,
   "metadata": {
    "collapsed": false
   },
   "outputs": [
    {
     "name": "stdout",
     "output_type": "stream",
     "text": [
      "/home/jovyan/work\r\n"
     ]
    }
   ],
   "source": [
    "!pwd"
   ]
  },
  {
   "cell_type": "code",
   "execution_count": 13,
   "metadata": {
    "collapsed": false
   },
   "outputs": [
    {
     "name": "stdout",
     "output_type": "stream",
     "text": [
      "268056 rows affected.\n"
     ]
    },
    {
     "data": {
      "text/plain": [
       "[]"
      ]
     },
     "execution_count": 13,
     "metadata": {},
     "output_type": "execute_result"
    }
   ],
   "source": [
    "%%sql\n",
    "COPY boston FROM '/home/jovyan/work/boston.csv'\n",
    "CSV\n",
    "HEADER\n",
    "QUOTE '\"'\n",
    "DELIMITER ',';"
   ]
  },
  {
   "cell_type": "code",
   "execution_count": 14,
   "metadata": {
    "collapsed": false
   },
   "outputs": [
    {
     "name": "stdout",
     "output_type": "stream",
     "text": [
      "1 rows affected.\n"
     ]
    },
    {
     "data": {
      "text/html": [
       "<table>\n",
       "    <tr>\n",
       "        <th>count</th>\n",
       "    </tr>\n",
       "    <tr>\n",
       "        <td>268056</td>\n",
       "    </tr>\n",
       "</table>"
      ],
      "text/plain": [
       "[(268056,)]"
      ]
     },
     "execution_count": 14,
     "metadata": {},
     "output_type": "execute_result"
    }
   ],
   "source": [
    "%%sql\n",
    "SELECT COUNT(*) FROM boston;"
   ]
  },
  {
   "cell_type": "code",
   "execution_count": 15,
   "metadata": {
    "collapsed": false
   },
   "outputs": [
    {
     "name": "stdout",
     "output_type": "stream",
     "text": [
      "20 rows affected.\n"
     ]
    },
    {
     "data": {
      "text/html": [
       "<table>\n",
       "    <tr>\n",
       "        <th>column_name</th>\n",
       "        <th>data_type</th>\n",
       "        <th>character_maximum_length</th>\n",
       "        <th>is_nullable</th>\n",
       "    </tr>\n",
       "    <tr>\n",
       "        <td>compnos</td>\n",
       "        <td>integer</td>\n",
       "        <td>None</td>\n",
       "        <td>YES</td>\n",
       "    </tr>\n",
       "    <tr>\n",
       "        <td>naturecode</td>\n",
       "        <td>character varying</td>\n",
       "        <td>6</td>\n",
       "        <td>YES</td>\n",
       "    </tr>\n",
       "    <tr>\n",
       "        <td>incident_type_description</td>\n",
       "        <td>character varying</td>\n",
       "        <td>255</td>\n",
       "        <td>YES</td>\n",
       "    </tr>\n",
       "    <tr>\n",
       "        <td>main_crimecode</td>\n",
       "        <td>character varying</td>\n",
       "        <td>10</td>\n",
       "        <td>YES</td>\n",
       "    </tr>\n",
       "    <tr>\n",
       "        <td>reptdistrict</td>\n",
       "        <td>character varying</td>\n",
       "        <td>4</td>\n",
       "        <td>YES</td>\n",
       "    </tr>\n",
       "    <tr>\n",
       "        <td>reportingarea</td>\n",
       "        <td>integer</td>\n",
       "        <td>None</td>\n",
       "        <td>YES</td>\n",
       "    </tr>\n",
       "    <tr>\n",
       "        <td>fromdate</td>\n",
       "        <td>timestamp without time zone</td>\n",
       "        <td>None</td>\n",
       "        <td>YES</td>\n",
       "    </tr>\n",
       "    <tr>\n",
       "        <td>weapontype</td>\n",
       "        <td>character varying</td>\n",
       "        <td>34</td>\n",
       "        <td>YES</td>\n",
       "    </tr>\n",
       "    <tr>\n",
       "        <td>shooting</td>\n",
       "        <td>boolean</td>\n",
       "        <td>None</td>\n",
       "        <td>YES</td>\n",
       "    </tr>\n",
       "    <tr>\n",
       "        <td>domestic</td>\n",
       "        <td>boolean</td>\n",
       "        <td>None</td>\n",
       "        <td>YES</td>\n",
       "    </tr>\n",
       "    <tr>\n",
       "        <td>shift</td>\n",
       "        <td>character varying</td>\n",
       "        <td>255</td>\n",
       "        <td>YES</td>\n",
       "    </tr>\n",
       "    <tr>\n",
       "        <td>year</td>\n",
       "        <td>integer</td>\n",
       "        <td>None</td>\n",
       "        <td>YES</td>\n",
       "    </tr>\n",
       "    <tr>\n",
       "        <td>month</td>\n",
       "        <td>integer</td>\n",
       "        <td>None</td>\n",
       "        <td>YES</td>\n",
       "    </tr>\n",
       "    <tr>\n",
       "        <td>day_week</td>\n",
       "        <td>character varying</td>\n",
       "        <td>9</td>\n",
       "        <td>YES</td>\n",
       "    </tr>\n",
       "    <tr>\n",
       "        <td>ucrpart</td>\n",
       "        <td>character varying</td>\n",
       "        <td>255</td>\n",
       "        <td>YES</td>\n",
       "    </tr>\n",
       "    <tr>\n",
       "        <td>x</td>\n",
       "        <td>double precision</td>\n",
       "        <td>None</td>\n",
       "        <td>YES</td>\n",
       "    </tr>\n",
       "    <tr>\n",
       "        <td>y</td>\n",
       "        <td>double precision</td>\n",
       "        <td>None</td>\n",
       "        <td>YES</td>\n",
       "    </tr>\n",
       "    <tr>\n",
       "        <td>streetname</td>\n",
       "        <td>character varying</td>\n",
       "        <td>255</td>\n",
       "        <td>YES</td>\n",
       "    </tr>\n",
       "    <tr>\n",
       "        <td>xstreetname</td>\n",
       "        <td>character varying</td>\n",
       "        <td>255</td>\n",
       "        <td>YES</td>\n",
       "    </tr>\n",
       "    <tr>\n",
       "        <td>location</td>\n",
       "        <td>character varying</td>\n",
       "        <td>37</td>\n",
       "        <td>YES</td>\n",
       "    </tr>\n",
       "</table>"
      ],
      "text/plain": [
       "[('compnos', 'integer', None, 'YES'),\n",
       " ('naturecode', 'character varying', 6, 'YES'),\n",
       " ('incident_type_description', 'character varying', 255, 'YES'),\n",
       " ('main_crimecode', 'character varying', 10, 'YES'),\n",
       " ('reptdistrict', 'character varying', 4, 'YES'),\n",
       " ('reportingarea', 'integer', None, 'YES'),\n",
       " ('fromdate', 'timestamp without time zone', None, 'YES'),\n",
       " ('weapontype', 'character varying', 34, 'YES'),\n",
       " ('shooting', 'boolean', None, 'YES'),\n",
       " ('domestic', 'boolean', None, 'YES'),\n",
       " ('shift', 'character varying', 255, 'YES'),\n",
       " ('year', 'integer', None, 'YES'),\n",
       " ('month', 'integer', None, 'YES'),\n",
       " ('day_week', 'character varying', 9, 'YES'),\n",
       " ('ucrpart', 'character varying', 255, 'YES'),\n",
       " ('x', 'double precision', None, 'YES'),\n",
       " ('y', 'double precision', None, 'YES'),\n",
       " ('streetname', 'character varying', 255, 'YES'),\n",
       " ('xstreetname', 'character varying', 255, 'YES'),\n",
       " ('location', 'character varying', 37, 'YES')]"
      ]
     },
     "execution_count": 15,
     "metadata": {},
     "output_type": "execute_result"
    }
   ],
   "source": [
    "%%sql\n",
    "SELECT column_name, data_type, character_maximum_length, is_nullable\n",
    "FROM INFORMATION_SCHEMA.COLUMNS WHERE table_name = 'boston';"
   ]
  },
  {
   "cell_type": "code",
   "execution_count": 16,
   "metadata": {
    "collapsed": false
   },
   "outputs": [
    {
     "name": "stdout",
     "output_type": "stream",
     "text": [
      "10 rows affected.\n"
     ]
    },
    {
     "data": {
      "text/html": [
       "<table>\n",
       "    <tr>\n",
       "        <th>day_of_year</th>\n",
       "        <th>year</th>\n",
       "        <th>month</th>\n",
       "        <th>day</th>\n",
       "        <th>day_of_week_str</th>\n",
       "        <th>day_of_week</th>\n",
       "        <th>is_weekend</th>\n",
       "        <th>is_weekday</th>\n",
       "        <th>hour_24</th>\n",
       "        <th>quarter</th>\n",
       "    </tr>\n",
       "    <tr>\n",
       "        <td>2012-07-08</td>\n",
       "        <td>2012</td>\n",
       "        <td>07</td>\n",
       "        <td>08</td>\n",
       "        <td>Sunday   </td>\n",
       "        <td>1</td>\n",
       "        <td>0</td>\n",
       "        <td>1</td>\n",
       "        <td>06</td>\n",
       "        <td>3</td>\n",
       "    </tr>\n",
       "    <tr>\n",
       "        <td>2012-07-08</td>\n",
       "        <td>2012</td>\n",
       "        <td>07</td>\n",
       "        <td>08</td>\n",
       "        <td>Sunday   </td>\n",
       "        <td>1</td>\n",
       "        <td>0</td>\n",
       "        <td>1</td>\n",
       "        <td>06</td>\n",
       "        <td>3</td>\n",
       "    </tr>\n",
       "    <tr>\n",
       "        <td>2012-07-08</td>\n",
       "        <td>2012</td>\n",
       "        <td>07</td>\n",
       "        <td>08</td>\n",
       "        <td>Sunday   </td>\n",
       "        <td>1</td>\n",
       "        <td>0</td>\n",
       "        <td>1</td>\n",
       "        <td>06</td>\n",
       "        <td>3</td>\n",
       "    </tr>\n",
       "    <tr>\n",
       "        <td>2012-07-08</td>\n",
       "        <td>2012</td>\n",
       "        <td>07</td>\n",
       "        <td>08</td>\n",
       "        <td>Sunday   </td>\n",
       "        <td>1</td>\n",
       "        <td>0</td>\n",
       "        <td>1</td>\n",
       "        <td>06</td>\n",
       "        <td>3</td>\n",
       "    </tr>\n",
       "    <tr>\n",
       "        <td>2012-07-08</td>\n",
       "        <td>2012</td>\n",
       "        <td>07</td>\n",
       "        <td>08</td>\n",
       "        <td>Sunday   </td>\n",
       "        <td>1</td>\n",
       "        <td>0</td>\n",
       "        <td>1</td>\n",
       "        <td>07</td>\n",
       "        <td>3</td>\n",
       "    </tr>\n",
       "    <tr>\n",
       "        <td>2012-07-08</td>\n",
       "        <td>2012</td>\n",
       "        <td>07</td>\n",
       "        <td>08</td>\n",
       "        <td>Sunday   </td>\n",
       "        <td>1</td>\n",
       "        <td>0</td>\n",
       "        <td>1</td>\n",
       "        <td>07</td>\n",
       "        <td>3</td>\n",
       "    </tr>\n",
       "    <tr>\n",
       "        <td>2012-07-08</td>\n",
       "        <td>2012</td>\n",
       "        <td>07</td>\n",
       "        <td>08</td>\n",
       "        <td>Sunday   </td>\n",
       "        <td>1</td>\n",
       "        <td>0</td>\n",
       "        <td>1</td>\n",
       "        <td>07</td>\n",
       "        <td>3</td>\n",
       "    </tr>\n",
       "    <tr>\n",
       "        <td>2012-07-08</td>\n",
       "        <td>2012</td>\n",
       "        <td>07</td>\n",
       "        <td>08</td>\n",
       "        <td>Sunday   </td>\n",
       "        <td>1</td>\n",
       "        <td>0</td>\n",
       "        <td>1</td>\n",
       "        <td>07</td>\n",
       "        <td>3</td>\n",
       "    </tr>\n",
       "    <tr>\n",
       "        <td>2012-07-08</td>\n",
       "        <td>2012</td>\n",
       "        <td>07</td>\n",
       "        <td>08</td>\n",
       "        <td>Sunday   </td>\n",
       "        <td>1</td>\n",
       "        <td>0</td>\n",
       "        <td>1</td>\n",
       "        <td>07</td>\n",
       "        <td>3</td>\n",
       "    </tr>\n",
       "    <tr>\n",
       "        <td>2012-07-08</td>\n",
       "        <td>2012</td>\n",
       "        <td>07</td>\n",
       "        <td>08</td>\n",
       "        <td>Sunday   </td>\n",
       "        <td>1</td>\n",
       "        <td>0</td>\n",
       "        <td>1</td>\n",
       "        <td>08</td>\n",
       "        <td>3</td>\n",
       "    </tr>\n",
       "</table>"
      ],
      "text/plain": [
       "[('2012-07-08', '2012', '07', '08', 'Sunday   ', '1', 0, 1, '06', '3'),\n",
       " ('2012-07-08', '2012', '07', '08', 'Sunday   ', '1', 0, 1, '06', '3'),\n",
       " ('2012-07-08', '2012', '07', '08', 'Sunday   ', '1', 0, 1, '06', '3'),\n",
       " ('2012-07-08', '2012', '07', '08', 'Sunday   ', '1', 0, 1, '06', '3'),\n",
       " ('2012-07-08', '2012', '07', '08', 'Sunday   ', '1', 0, 1, '07', '3'),\n",
       " ('2012-07-08', '2012', '07', '08', 'Sunday   ', '1', 0, 1, '07', '3'),\n",
       " ('2012-07-08', '2012', '07', '08', 'Sunday   ', '1', 0, 1, '07', '3'),\n",
       " ('2012-07-08', '2012', '07', '08', 'Sunday   ', '1', 0, 1, '07', '3'),\n",
       " ('2012-07-08', '2012', '07', '08', 'Sunday   ', '1', 0, 1, '07', '3'),\n",
       " ('2012-07-08', '2012', '07', '08', 'Sunday   ', '1', 0, 1, '08', '3')]"
      ]
     },
     "execution_count": 16,
     "metadata": {},
     "output_type": "execute_result"
    }
   ],
   "source": [
    "%%sql\n",
    "SELECT TO_CHAR(FROMDATE, 'YYYY-MM-DD') AS day_of_year, \n",
    "    TO_CHAR(FROMDATE, 'YYYY') AS year,\n",
    "    TO_CHAR(FROMDATE, 'MM') AS month,\n",
    "    TO_CHAR(FROMDATE, 'DD') AS day,\n",
    "    TO_CHAR(FROMDATE, 'Day') AS day_of_week_str,\n",
    "    TO_CHAR(FROMDATE, 'D') AS day_of_week,\n",
    "    CASE WHEN CAST(TO_CHAR(FROMDATE, 'D') AS INTEGER) >= 6 \n",
    "        THEN 1 \n",
    "        ELSE 0\n",
    "    END AS is_weekend,\n",
    "    CASE WHEN CAST(TO_CHAR(FROMDATE, 'D') AS INTEGER) < 6 \n",
    "        THEN 1 \n",
    "        ELSE 0\n",
    "    END AS is_weekday,\n",
    "    TO_CHAR(FROMDATE, 'HH24') AS hour_24,\n",
    "    TO_CHAR(FROMDATE, 'Q') AS quarter\n",
    "FROM boston\n",
    "LIMIT 10;"
   ]
  },
  {
   "cell_type": "code",
   "execution_count": 17,
   "metadata": {
    "collapsed": false
   },
   "outputs": [
    {
     "name": "stdout",
     "output_type": "stream",
     "text": [
      "100 rows affected.\n"
     ]
    },
    {
     "data": {
      "text/html": [
       "<table>\n",
       "    <tr>\n",
       "        <th>incident_type_description</th>\n",
       "        <th>weapontype</th>\n",
       "        <th>shooting</th>\n",
       "    </tr>\n",
       "    <tr>\n",
       "        <td>07RV</td>\n",
       "        <td>Unarmed</td>\n",
       "        <td>False</td>\n",
       "    </tr>\n",
       "    <tr>\n",
       "        <td>07RV</td>\n",
       "        <td>Other</td>\n",
       "        <td>False</td>\n",
       "    </tr>\n",
       "    <tr>\n",
       "        <td>07RV</td>\n",
       "        <td>Knife</td>\n",
       "        <td>False</td>\n",
       "    </tr>\n",
       "    <tr>\n",
       "        <td>32GUN</td>\n",
       "        <td>Knife</td>\n",
       "        <td>False</td>\n",
       "    </tr>\n",
       "    <tr>\n",
       "        <td>32GUN</td>\n",
       "        <td>Firearm</td>\n",
       "        <td>False</td>\n",
       "    </tr>\n",
       "    <tr>\n",
       "        <td>32GUN</td>\n",
       "        <td>Other</td>\n",
       "        <td>False</td>\n",
       "    </tr>\n",
       "    <tr>\n",
       "        <td>32GUN</td>\n",
       "        <td>Unarmed</td>\n",
       "        <td>False</td>\n",
       "    </tr>\n",
       "    <tr>\n",
       "        <td>AGGRAVATED ASSAULT</td>\n",
       "        <td>Firearm</td>\n",
       "        <td>False</td>\n",
       "    </tr>\n",
       "    <tr>\n",
       "        <td>AGGRAVATED ASSAULT</td>\n",
       "        <td>Unarmed</td>\n",
       "        <td>False</td>\n",
       "    </tr>\n",
       "    <tr>\n",
       "        <td>AGGRAVATED ASSAULT</td>\n",
       "        <td>Knife</td>\n",
       "        <td>False</td>\n",
       "    </tr>\n",
       "    <tr>\n",
       "        <td>AGGRAVATED ASSAULT</td>\n",
       "        <td>Other</td>\n",
       "        <td>False</td>\n",
       "    </tr>\n",
       "    <tr>\n",
       "        <td>AGGRAVATED ASSAULT</td>\n",
       "        <td>Firearm</td>\n",
       "        <td>True</td>\n",
       "    </tr>\n",
       "    <tr>\n",
       "        <td>AGGRAVATED ASSAULT</td>\n",
       "        <td>Other</td>\n",
       "        <td>True</td>\n",
       "    </tr>\n",
       "    <tr>\n",
       "        <td>ARSON</td>\n",
       "        <td>Other</td>\n",
       "        <td>False</td>\n",
       "    </tr>\n",
       "    <tr>\n",
       "        <td>ARSON</td>\n",
       "        <td>Unarmed</td>\n",
       "        <td>False</td>\n",
       "    </tr>\n",
       "    <tr>\n",
       "        <td>AUTO THEFT</td>\n",
       "        <td>Other</td>\n",
       "        <td>False</td>\n",
       "    </tr>\n",
       "    <tr>\n",
       "        <td>AUTO THEFT</td>\n",
       "        <td>Knife</td>\n",
       "        <td>False</td>\n",
       "    </tr>\n",
       "    <tr>\n",
       "        <td>AUTO THEFT</td>\n",
       "        <td>Unarmed</td>\n",
       "        <td>False</td>\n",
       "    </tr>\n",
       "    <tr>\n",
       "        <td>AUTO THEFT</td>\n",
       "        <td>Firearm</td>\n",
       "        <td>False</td>\n",
       "    </tr>\n",
       "    <tr>\n",
       "        <td>Aggravated Assault</td>\n",
       "        <td>Firearm</td>\n",
       "        <td>False</td>\n",
       "    </tr>\n",
       "    <tr>\n",
       "        <td>Aggravated Assault</td>\n",
       "        <td>None</td>\n",
       "        <td>False</td>\n",
       "    </tr>\n",
       "    <tr>\n",
       "        <td>Aggravated Assault</td>\n",
       "        <td>Knife/Cutting Instrument</td>\n",
       "        <td>False</td>\n",
       "    </tr>\n",
       "    <tr>\n",
       "        <td>Aggravated Assault</td>\n",
       "        <td>Other</td>\n",
       "        <td>False</td>\n",
       "    </tr>\n",
       "    <tr>\n",
       "        <td>Aggravated Assault</td>\n",
       "        <td>Personal Weapon (hand  foot  etc.)</td>\n",
       "        <td>False</td>\n",
       "    </tr>\n",
       "    <tr>\n",
       "        <td>Aggravated Assault</td>\n",
       "        <td>None</td>\n",
       "        <td>True</td>\n",
       "    </tr>\n",
       "    <tr>\n",
       "        <td>Aggravated Assault</td>\n",
       "        <td>Blunt Object</td>\n",
       "        <td>False</td>\n",
       "    </tr>\n",
       "    <tr>\n",
       "        <td>Aggravated Assault</td>\n",
       "        <td>Firearm</td>\n",
       "        <td>True</td>\n",
       "    </tr>\n",
       "    <tr>\n",
       "        <td>Aircraft</td>\n",
       "        <td>Other</td>\n",
       "        <td>False</td>\n",
       "    </tr>\n",
       "    <tr>\n",
       "        <td>Aircraft</td>\n",
       "        <td>Unarmed</td>\n",
       "        <td>False</td>\n",
       "    </tr>\n",
       "    <tr>\n",
       "        <td>Argue</td>\n",
       "        <td>Knife</td>\n",
       "        <td>False</td>\n",
       "    </tr>\n",
       "    <tr>\n",
       "        <td>Argue</td>\n",
       "        <td>Other</td>\n",
       "        <td>False</td>\n",
       "    </tr>\n",
       "    <tr>\n",
       "        <td>Argue</td>\n",
       "        <td>Firearm</td>\n",
       "        <td>False</td>\n",
       "    </tr>\n",
       "    <tr>\n",
       "        <td>Argue</td>\n",
       "        <td>Unarmed</td>\n",
       "        <td>False</td>\n",
       "    </tr>\n",
       "    <tr>\n",
       "        <td>Arrest</td>\n",
       "        <td>Firearm</td>\n",
       "        <td>False</td>\n",
       "    </tr>\n",
       "    <tr>\n",
       "        <td>Arrest</td>\n",
       "        <td>Other</td>\n",
       "        <td>False</td>\n",
       "    </tr>\n",
       "    <tr>\n",
       "        <td>Arrest</td>\n",
       "        <td>Knife</td>\n",
       "        <td>False</td>\n",
       "    </tr>\n",
       "    <tr>\n",
       "        <td>Arrest</td>\n",
       "        <td>Unarmed</td>\n",
       "        <td>False</td>\n",
       "    </tr>\n",
       "    <tr>\n",
       "        <td>Arson</td>\n",
       "        <td>None</td>\n",
       "        <td>False</td>\n",
       "    </tr>\n",
       "    <tr>\n",
       "        <td>Assembly or Gathering Violations</td>\n",
       "        <td>None</td>\n",
       "        <td>False</td>\n",
       "    </tr>\n",
       "    <tr>\n",
       "        <td>Auto Theft</td>\n",
       "        <td>None</td>\n",
       "        <td>False</td>\n",
       "    </tr>\n",
       "    <tr>\n",
       "        <td>Auto Theft Recovery</td>\n",
       "        <td>None</td>\n",
       "        <td>False</td>\n",
       "    </tr>\n",
       "    <tr>\n",
       "        <td>BENoProp</td>\n",
       "        <td>Knife</td>\n",
       "        <td>False</td>\n",
       "    </tr>\n",
       "    <tr>\n",
       "        <td>BENoProp</td>\n",
       "        <td>Other</td>\n",
       "        <td>False</td>\n",
       "    </tr>\n",
       "    <tr>\n",
       "        <td>BENoProp</td>\n",
       "        <td>Unarmed</td>\n",
       "        <td>False</td>\n",
       "    </tr>\n",
       "    <tr>\n",
       "        <td>BENoProp</td>\n",
       "        <td>Firearm</td>\n",
       "        <td>False</td>\n",
       "    </tr>\n",
       "    <tr>\n",
       "        <td>Ballist</td>\n",
       "        <td>Firearm</td>\n",
       "        <td>True</td>\n",
       "    </tr>\n",
       "    <tr>\n",
       "        <td>Ballist</td>\n",
       "        <td>Other</td>\n",
       "        <td>False</td>\n",
       "    </tr>\n",
       "    <tr>\n",
       "        <td>Ballist</td>\n",
       "        <td>Firearm</td>\n",
       "        <td>False</td>\n",
       "    </tr>\n",
       "    <tr>\n",
       "        <td>Ballist</td>\n",
       "        <td>Unarmed</td>\n",
       "        <td>False</td>\n",
       "    </tr>\n",
       "    <tr>\n",
       "        <td>Ballistics</td>\n",
       "        <td>Firearm</td>\n",
       "        <td>False</td>\n",
       "    </tr>\n",
       "    <tr>\n",
       "        <td>Ballistics</td>\n",
       "        <td>None</td>\n",
       "        <td>False</td>\n",
       "    </tr>\n",
       "    <tr>\n",
       "        <td>Ballistics</td>\n",
       "        <td>Other</td>\n",
       "        <td>False</td>\n",
       "    </tr>\n",
       "    <tr>\n",
       "        <td>BioThreat</td>\n",
       "        <td>Unarmed</td>\n",
       "        <td>False</td>\n",
       "    </tr>\n",
       "    <tr>\n",
       "        <td>BioThreat</td>\n",
       "        <td>Other</td>\n",
       "        <td>False</td>\n",
       "    </tr>\n",
       "    <tr>\n",
       "        <td>Bomb</td>\n",
       "        <td>Other</td>\n",
       "        <td>False</td>\n",
       "    </tr>\n",
       "    <tr>\n",
       "        <td>Bomb</td>\n",
       "        <td>Unarmed</td>\n",
       "        <td>False</td>\n",
       "    </tr>\n",
       "    <tr>\n",
       "        <td>Bomb Hoax</td>\n",
       "        <td>None</td>\n",
       "        <td>False</td>\n",
       "    </tr>\n",
       "    <tr>\n",
       "        <td>BurgTools</td>\n",
       "        <td>Knife</td>\n",
       "        <td>False</td>\n",
       "    </tr>\n",
       "    <tr>\n",
       "        <td>BurgTools</td>\n",
       "        <td>Other</td>\n",
       "        <td>False</td>\n",
       "    </tr>\n",
       "    <tr>\n",
       "        <td>BurgTools</td>\n",
       "        <td>Unarmed</td>\n",
       "        <td>False</td>\n",
       "    </tr>\n",
       "    <tr>\n",
       "        <td>COMMERCIAL BURGLARY</td>\n",
       "        <td>Firearm</td>\n",
       "        <td>False</td>\n",
       "    </tr>\n",
       "    <tr>\n",
       "        <td>COMMERCIAL BURGLARY</td>\n",
       "        <td>Other</td>\n",
       "        <td>False</td>\n",
       "    </tr>\n",
       "    <tr>\n",
       "        <td>COMMERCIAL BURGLARY</td>\n",
       "        <td>Unarmed</td>\n",
       "        <td>False</td>\n",
       "    </tr>\n",
       "    <tr>\n",
       "        <td>COMMERCIAL BURGLARY</td>\n",
       "        <td>Knife</td>\n",
       "        <td>False</td>\n",
       "    </tr>\n",
       "    <tr>\n",
       "        <td>CRIMES AGAINST CHILDREN</td>\n",
       "        <td>Unarmed</td>\n",
       "        <td>False</td>\n",
       "    </tr>\n",
       "    <tr>\n",
       "        <td>CRIMES AGAINST CHILDREN</td>\n",
       "        <td>Firearm</td>\n",
       "        <td>False</td>\n",
       "    </tr>\n",
       "    <tr>\n",
       "        <td>CRIMES AGAINST CHILDREN</td>\n",
       "        <td>Other</td>\n",
       "        <td>False</td>\n",
       "    </tr>\n",
       "    <tr>\n",
       "        <td>Commercial Burglary</td>\n",
       "        <td>None</td>\n",
       "        <td>False</td>\n",
       "    </tr>\n",
       "    <tr>\n",
       "        <td>Confidence Games</td>\n",
       "        <td>None</td>\n",
       "        <td>False</td>\n",
       "    </tr>\n",
       "    <tr>\n",
       "        <td>Counterfeiting</td>\n",
       "        <td>None</td>\n",
       "        <td>False</td>\n",
       "    </tr>\n",
       "    <tr>\n",
       "        <td>Criminal Harassment</td>\n",
       "        <td>None</td>\n",
       "        <td>False</td>\n",
       "    </tr>\n",
       "    <tr>\n",
       "        <td>DEATH INVESTIGATION</td>\n",
       "        <td>Other</td>\n",
       "        <td>False</td>\n",
       "    </tr>\n",
       "    <tr>\n",
       "        <td>DEATH INVESTIGATION</td>\n",
       "        <td>Firearm</td>\n",
       "        <td>False</td>\n",
       "    </tr>\n",
       "    <tr>\n",
       "        <td>DEATH INVESTIGATION</td>\n",
       "        <td>Unarmed</td>\n",
       "        <td>False</td>\n",
       "    </tr>\n",
       "    <tr>\n",
       "        <td>DISORDERLY</td>\n",
       "        <td>Knife</td>\n",
       "        <td>False</td>\n",
       "    </tr>\n",
       "    <tr>\n",
       "        <td>DISORDERLY</td>\n",
       "        <td>Unarmed</td>\n",
       "        <td>False</td>\n",
       "    </tr>\n",
       "    <tr>\n",
       "        <td>DISORDERLY</td>\n",
       "        <td>Firearm</td>\n",
       "        <td>False</td>\n",
       "    </tr>\n",
       "    <tr>\n",
       "        <td>DISORDERLY</td>\n",
       "        <td>Other</td>\n",
       "        <td>False</td>\n",
       "    </tr>\n",
       "    <tr>\n",
       "        <td>DRUG CHARGES</td>\n",
       "        <td>Firearm</td>\n",
       "        <td>False</td>\n",
       "    </tr>\n",
       "    <tr>\n",
       "        <td>DRUG CHARGES</td>\n",
       "        <td>Unarmed</td>\n",
       "        <td>False</td>\n",
       "    </tr>\n",
       "    <tr>\n",
       "        <td>DRUG CHARGES</td>\n",
       "        <td>Other</td>\n",
       "        <td>False</td>\n",
       "    </tr>\n",
       "    <tr>\n",
       "        <td>DRUG CHARGES</td>\n",
       "        <td>Knife</td>\n",
       "        <td>False</td>\n",
       "    </tr>\n",
       "    <tr>\n",
       "        <td>Disorderly Conduct</td>\n",
       "        <td>None</td>\n",
       "        <td>False</td>\n",
       "    </tr>\n",
       "    <tr>\n",
       "        <td>Drug Violation</td>\n",
       "        <td>None</td>\n",
       "        <td>False</td>\n",
       "    </tr>\n",
       "    <tr>\n",
       "        <td>EMBEZELLMENT</td>\n",
       "        <td>Other</td>\n",
       "        <td>False</td>\n",
       "    </tr>\n",
       "    <tr>\n",
       "        <td>EMBEZELLMENT</td>\n",
       "        <td>Knife</td>\n",
       "        <td>False</td>\n",
       "    </tr>\n",
       "    <tr>\n",
       "        <td>EMBEZELLMENT</td>\n",
       "        <td>Unarmed</td>\n",
       "        <td>False</td>\n",
       "    </tr>\n",
       "    <tr>\n",
       "        <td>Embezzlement</td>\n",
       "        <td>None</td>\n",
       "        <td>False</td>\n",
       "    </tr>\n",
       "    <tr>\n",
       "        <td>Evading Fare</td>\n",
       "        <td>None</td>\n",
       "        <td>False</td>\n",
       "    </tr>\n",
       "    <tr>\n",
       "        <td>Explos</td>\n",
       "        <td>Firearm</td>\n",
       "        <td>False</td>\n",
       "    </tr>\n",
       "    <tr>\n",
       "        <td>Explos</td>\n",
       "        <td>Other</td>\n",
       "        <td>False</td>\n",
       "    </tr>\n",
       "    <tr>\n",
       "        <td>Explos</td>\n",
       "        <td>Unarmed</td>\n",
       "        <td>False</td>\n",
       "    </tr>\n",
       "    <tr>\n",
       "        <td>Explosives</td>\n",
       "        <td>None</td>\n",
       "        <td>False</td>\n",
       "    </tr>\n",
       "    <tr>\n",
       "        <td>FIRE</td>\n",
       "        <td>Firearm</td>\n",
       "        <td>False</td>\n",
       "    </tr>\n",
       "    <tr>\n",
       "        <td>FIRE</td>\n",
       "        <td>Unarmed</td>\n",
       "        <td>False</td>\n",
       "    </tr>\n",
       "    <tr>\n",
       "        <td>FIRE</td>\n",
       "        <td>Other</td>\n",
       "        <td>False</td>\n",
       "    </tr>\n",
       "    <tr>\n",
       "        <td>FORGERY</td>\n",
       "        <td>Firearm</td>\n",
       "        <td>False</td>\n",
       "    </tr>\n",
       "    <tr>\n",
       "        <td>FORGERY</td>\n",
       "        <td>Other</td>\n",
       "        <td>False</td>\n",
       "    </tr>\n",
       "    <tr>\n",
       "        <td>FORGERY</td>\n",
       "        <td>Unarmed</td>\n",
       "        <td>False</td>\n",
       "    </tr>\n",
       "    <tr>\n",
       "        <td>FRAUD</td>\n",
       "        <td>Unarmed</td>\n",
       "        <td>False</td>\n",
       "    </tr>\n",
       "</table>"
      ],
      "text/plain": [
       "[('07RV', 'Unarmed', False),\n",
       " ('07RV', 'Other', False),\n",
       " ('07RV', 'Knife', False),\n",
       " ('32GUN', 'Knife', False),\n",
       " ('32GUN', 'Firearm', False),\n",
       " ('32GUN', 'Other', False),\n",
       " ('32GUN', 'Unarmed', False),\n",
       " ('AGGRAVATED ASSAULT', 'Firearm', False),\n",
       " ('AGGRAVATED ASSAULT', 'Unarmed', False),\n",
       " ('AGGRAVATED ASSAULT', 'Knife', False),\n",
       " ('AGGRAVATED ASSAULT', 'Other', False),\n",
       " ('AGGRAVATED ASSAULT', 'Firearm', True),\n",
       " ('AGGRAVATED ASSAULT', 'Other', True),\n",
       " ('ARSON', 'Other', False),\n",
       " ('ARSON', 'Unarmed', False),\n",
       " ('AUTO THEFT', 'Other', False),\n",
       " ('AUTO THEFT', 'Knife', False),\n",
       " ('AUTO THEFT', 'Unarmed', False),\n",
       " ('AUTO THEFT', 'Firearm', False),\n",
       " ('Aggravated Assault', 'Firearm', False),\n",
       " ('Aggravated Assault', 'None', False),\n",
       " ('Aggravated Assault', 'Knife/Cutting Instrument', False),\n",
       " ('Aggravated Assault', 'Other', False),\n",
       " ('Aggravated Assault', 'Personal Weapon (hand  foot  etc.)', False),\n",
       " ('Aggravated Assault', 'None', True),\n",
       " ('Aggravated Assault', 'Blunt Object', False),\n",
       " ('Aggravated Assault', 'Firearm', True),\n",
       " ('Aircraft', 'Other', False),\n",
       " ('Aircraft', 'Unarmed', False),\n",
       " ('Argue', 'Knife', False),\n",
       " ('Argue', 'Other', False),\n",
       " ('Argue', 'Firearm', False),\n",
       " ('Argue', 'Unarmed', False),\n",
       " ('Arrest', 'Firearm', False),\n",
       " ('Arrest', 'Other', False),\n",
       " ('Arrest', 'Knife', False),\n",
       " ('Arrest', 'Unarmed', False),\n",
       " ('Arson', 'None', False),\n",
       " ('Assembly or Gathering Violations', 'None', False),\n",
       " ('Auto Theft', 'None', False),\n",
       " ('Auto Theft Recovery', 'None', False),\n",
       " ('BENoProp', 'Knife', False),\n",
       " ('BENoProp', 'Other', False),\n",
       " ('BENoProp', 'Unarmed', False),\n",
       " ('BENoProp', 'Firearm', False),\n",
       " ('Ballist', 'Firearm', True),\n",
       " ('Ballist', 'Other', False),\n",
       " ('Ballist', 'Firearm', False),\n",
       " ('Ballist', 'Unarmed', False),\n",
       " ('Ballistics', 'Firearm', False),\n",
       " ('Ballistics', 'None', False),\n",
       " ('Ballistics', 'Other', False),\n",
       " ('BioThreat', 'Unarmed', False),\n",
       " ('BioThreat', 'Other', False),\n",
       " ('Bomb', 'Other', False),\n",
       " ('Bomb', 'Unarmed', False),\n",
       " ('Bomb Hoax', 'None', False),\n",
       " ('BurgTools', 'Knife', False),\n",
       " ('BurgTools', 'Other', False),\n",
       " ('BurgTools', 'Unarmed', False),\n",
       " ('COMMERCIAL BURGLARY', 'Firearm', False),\n",
       " ('COMMERCIAL BURGLARY', 'Other', False),\n",
       " ('COMMERCIAL BURGLARY', 'Unarmed', False),\n",
       " ('COMMERCIAL BURGLARY', 'Knife', False),\n",
       " ('CRIMES AGAINST CHILDREN', 'Unarmed', False),\n",
       " ('CRIMES AGAINST CHILDREN', 'Firearm', False),\n",
       " ('CRIMES AGAINST CHILDREN', 'Other', False),\n",
       " ('Commercial Burglary', 'None', False),\n",
       " ('Confidence Games', 'None', False),\n",
       " ('Counterfeiting', 'None', False),\n",
       " ('Criminal Harassment', 'None', False),\n",
       " ('DEATH INVESTIGATION', 'Other', False),\n",
       " ('DEATH INVESTIGATION', 'Firearm', False),\n",
       " ('DEATH INVESTIGATION', 'Unarmed', False),\n",
       " ('DISORDERLY', 'Knife', False),\n",
       " ('DISORDERLY', 'Unarmed', False),\n",
       " ('DISORDERLY', 'Firearm', False),\n",
       " ('DISORDERLY', 'Other', False),\n",
       " ('DRUG CHARGES', 'Firearm', False),\n",
       " ('DRUG CHARGES', 'Unarmed', False),\n",
       " ('DRUG CHARGES', 'Other', False),\n",
       " ('DRUG CHARGES', 'Knife', False),\n",
       " ('Disorderly Conduct', 'None', False),\n",
       " ('Drug Violation', 'None', False),\n",
       " ('EMBEZELLMENT', 'Other', False),\n",
       " ('EMBEZELLMENT', 'Knife', False),\n",
       " ('EMBEZELLMENT', 'Unarmed', False),\n",
       " ('Embezzlement', 'None', False),\n",
       " ('Evading Fare', 'None', False),\n",
       " ('Explos', 'Firearm', False),\n",
       " ('Explos', 'Other', False),\n",
       " ('Explos', 'Unarmed', False),\n",
       " ('Explosives', 'None', False),\n",
       " ('FIRE', 'Firearm', False),\n",
       " ('FIRE', 'Unarmed', False),\n",
       " ('FIRE', 'Other', False),\n",
       " ('FORGERY', 'Firearm', False),\n",
       " ('FORGERY', 'Other', False),\n",
       " ('FORGERY', 'Unarmed', False),\n",
       " ('FRAUD', 'Unarmed', False)]"
      ]
     },
     "execution_count": 17,
     "metadata": {},
     "output_type": "execute_result"
    }
   ],
   "source": [
    "%%sql\n",
    "SELECT DISTINCT INCIDENT_TYPE_DESCRIPTION, WEAPONTYPE,Shooting\n",
    "FROM boston ORDER BY INCIDENT_TYPE_DESCRIPTION\n",
    "limit 100;"
   ]
  },
  {
   "cell_type": "markdown",
   "metadata": {},
   "source": [
    "### What is the trend of the number of crimes happened from 2012-2015?"
   ]
  },
  {
   "cell_type": "markdown",
   "metadata": {},
   "source": [
    "Boston database is the collection of the crime rate from 2012 to 2015. So we are interested in the total number of the crimes happended each year and want to see if there is a trend regarding the crime rate over the years. \n",
    "\n",
    "There is a dramatic reduction of the crimes rate in 2015. There is approximately 43% reduction in Boston crime rate in 2015"
   ]
  },
  {
   "cell_type": "code",
   "execution_count": 18,
   "metadata": {
    "collapsed": false
   },
   "outputs": [
    {
     "name": "stdout",
     "output_type": "stream",
     "text": [
      "4 rows affected.\n"
     ]
    },
    {
     "data": {
      "text/html": [
       "<table>\n",
       "    <tr>\n",
       "        <th>crime_year</th>\n",
       "        <th>number_of_crimes</th>\n",
       "    </tr>\n",
       "    <tr>\n",
       "        <td>2012</td>\n",
       "        <td>43186</td>\n",
       "    </tr>\n",
       "    <tr>\n",
       "        <td>2013</td>\n",
       "        <td>87052</td>\n",
       "    </tr>\n",
       "    <tr>\n",
       "        <td>2014</td>\n",
       "        <td>88058</td>\n",
       "    </tr>\n",
       "    <tr>\n",
       "        <td>2015</td>\n",
       "        <td>49760</td>\n",
       "    </tr>\n",
       "</table>"
      ],
      "text/plain": [
       "[(2012, 43186), (2013, 87052), (2014, 88058), (2015, 49760)]"
      ]
     },
     "execution_count": 18,
     "metadata": {},
     "output_type": "execute_result"
    }
   ],
   "source": [
    "%%sql\n",
    "SELECT year as crime_Year, count(*) as Number_of_Crimes\n",
    "FROM boston\n",
    "GROUP BY crime_year\n",
    "ORDER BY crime_year ASC\n",
    ";"
   ]
  },
  {
   "cell_type": "code",
   "execution_count": 19,
   "metadata": {
    "collapsed": false
   },
   "outputs": [
    {
     "data": {
      "text/plain": [
       "<Container object of 4 artists>"
      ]
     },
     "execution_count": 19,
     "metadata": {},
     "output_type": "execute_result"
    },
    {
     "data": {
      "image/png": "[encoded data removed]",
      "text/plain": [
       "<matplotlib.figure.Figure at 0x7fee87589828>"
      ]
     },
     "metadata": {},
     "output_type": "display_data"
    }
   ],
   "source": [
    "%matplotlib inline\n",
    "result = _\n",
    "result.bar()"
   ]
  },
  {
   "cell_type": "code",
   "execution_count": 20,
   "metadata": {
    "collapsed": false
   },
   "outputs": [
    {
     "name": "stdout",
     "output_type": "stream",
     "text": [
      "5 rows affected.\n"
     ]
    },
    {
     "data": {
      "text/html": [
       "<table>\n",
       "    <tr>\n",
       "        <th>weapon_type</th>\n",
       "        <th>count</th>\n",
       "    </tr>\n",
       "    <tr>\n",
       "        <td>Unarmed</td>\n",
       "        <td>194932</td>\n",
       "    </tr>\n",
       "    <tr>\n",
       "        <td>Other</td>\n",
       "        <td>52102</td>\n",
       "    </tr>\n",
       "    <tr>\n",
       "        <td>None</td>\n",
       "        <td>11319</td>\n",
       "    </tr>\n",
       "    <tr>\n",
       "        <td>Firearm</td>\n",
       "        <td>5299</td>\n",
       "    </tr>\n",
       "    <tr>\n",
       "        <td>Knife</td>\n",
       "        <td>3867</td>\n",
       "    </tr>\n",
       "</table>"
      ],
      "text/plain": [
       "[('Unarmed', 194932),\n",
       " ('Other', 52102),\n",
       " ('None', 11319),\n",
       " ('Firearm', 5299),\n",
       " ('Knife', 3867)]"
      ]
     },
     "execution_count": 20,
     "metadata": {},
     "output_type": "execute_result"
    }
   ],
   "source": [
    "%%sql\n",
    "SELECT WEAPONTYPE as weapon_type, count(*) as count\n",
    "FROM boston\n",
    "GROUP BY WEAPONTYPE\n",
    "ORDER BY count DESC\n",
    "LIMIT 5\n",
    ";"
   ]
  },
  {
   "cell_type": "code",
   "execution_count": 21,
   "metadata": {
    "collapsed": false
   },
   "outputs": [
    {
     "data": {
      "text/plain": [
       "([<matplotlib.patches.Wedge at 0x7fee82846438>,\n",
       "  <matplotlib.patches.Wedge at 0x7fee8284f0b8>,\n",
       "  <matplotlib.patches.Wedge at 0x7fee8284fcf8>,\n",
       "  <matplotlib.patches.Wedge at 0x7fee828568d0>,\n",
       "  <matplotlib.patches.Wedge at 0x7fee8285a550>],\n",
       " [<matplotlib.text.Text at 0x7fee850f8358>,\n",
       "  <matplotlib.text.Text at 0x7fee8284f898>,\n",
       "  <matplotlib.text.Text at 0x7fee82856470>,\n",
       "  <matplotlib.text.Text at 0x7fee82856fd0>,\n",
       "  <matplotlib.text.Text at 0x7fee8285ad30>])"
      ]
     },
     "execution_count": 21,
     "metadata": {},
     "output_type": "execute_result"
    },
    {
     "data": {
      "image/png": "[encoded data removed]",
      "text/plain": [
       "<matplotlib.figure.Figure at 0x7fee851a5c50>"
      ]
     },
     "metadata": {},
     "output_type": "display_data"
    }
   ],
   "source": [
    "%matplotlib inline\n",
    "result = _\n",
    "result.pie()"
   ]
  },
  {
   "cell_type": "markdown",
   "metadata": {},
   "source": [
    "### Which type of the crimes that happens most frequently?"
   ]
  },
  {
   "cell_type": "markdown",
   "metadata": {},
   "source": [
    "VAL and Larceny / Theft hit the top of the crime list, far outweighing any other crime types."
   ]
  },
  {
   "cell_type": "code",
   "execution_count": 22,
   "metadata": {
    "collapsed": false
   },
   "outputs": [
    {
     "name": "stdout",
     "output_type": "stream",
     "text": [
      "127 rows affected.\n"
     ]
    },
    {
     "data": {
      "text/html": [
       "<table>\n",
       "    <tr>\n",
       "        <th>crime_type</th>\n",
       "        <th>number_of_crimes</th>\n",
       "    </tr>\n",
       "    <tr>\n",
       "        <td>VAL</td>\n",
       "        <td>27363</td>\n",
       "    </tr>\n",
       "    <tr>\n",
       "        <td>OTHER LARCENY</td>\n",
       "        <td>24443</td>\n",
       "    </tr>\n",
       "    <tr>\n",
       "        <td>SIMPLE ASSAULT</td>\n",
       "        <td>17697</td>\n",
       "    </tr>\n",
       "    <tr>\n",
       "        <td>MedAssist</td>\n",
       "        <td>17128</td>\n",
       "    </tr>\n",
       "    <tr>\n",
       "        <td>MVAcc</td>\n",
       "        <td>13832</td>\n",
       "    </tr>\n",
       "    <tr>\n",
       "        <td>VANDALISM</td>\n",
       "        <td>13339</td>\n",
       "    </tr>\n",
       "    <tr>\n",
       "        <td>InvPer</td>\n",
       "        <td>12937</td>\n",
       "    </tr>\n",
       "    <tr>\n",
       "        <td>LARCENY FROM MOTOR VEHICLE</td>\n",
       "        <td>12742</td>\n",
       "    </tr>\n",
       "    <tr>\n",
       "        <td>DRUG CHARGES</td>\n",
       "        <td>12042</td>\n",
       "    </tr>\n",
       "    <tr>\n",
       "        <td>FRAUD</td>\n",
       "        <td>8742</td>\n",
       "    </tr>\n",
       "    <tr>\n",
       "        <td>PropLost</td>\n",
       "        <td>8522</td>\n",
       "    </tr>\n",
       "    <tr>\n",
       "        <td>TOWED</td>\n",
       "        <td>7526</td>\n",
       "    </tr>\n",
       "    <tr>\n",
       "        <td>RESIDENTIAL BURGLARY</td>\n",
       "        <td>6737</td>\n",
       "    </tr>\n",
       "    <tr>\n",
       "        <td>InvProp</td>\n",
       "        <td>6592</td>\n",
       "    </tr>\n",
       "    <tr>\n",
       "        <td>AGGRAVATED ASSAULT</td>\n",
       "        <td>5649</td>\n",
       "    </tr>\n",
       "    <tr>\n",
       "        <td>Service</td>\n",
       "        <td>5353</td>\n",
       "    </tr>\n",
       "    <tr>\n",
       "        <td>ROBBERY</td>\n",
       "        <td>4974</td>\n",
       "    </tr>\n",
       "    <tr>\n",
       "        <td>PersLoc</td>\n",
       "        <td>4745</td>\n",
       "    </tr>\n",
       "    <tr>\n",
       "        <td>AUTO THEFT</td>\n",
       "        <td>4620</td>\n",
       "    </tr>\n",
       "    <tr>\n",
       "        <td>PropFound</td>\n",
       "        <td>4316</td>\n",
       "    </tr>\n",
       "    <tr>\n",
       "        <td>Argue</td>\n",
       "        <td>2833</td>\n",
       "    </tr>\n",
       "    <tr>\n",
       "        <td>Arrest</td>\n",
       "        <td>1959</td>\n",
       "    </tr>\n",
       "    <tr>\n",
       "        <td>OTHER</td>\n",
       "        <td>1902</td>\n",
       "    </tr>\n",
       "    <tr>\n",
       "        <td>FIRE</td>\n",
       "        <td>1848</td>\n",
       "    </tr>\n",
       "    <tr>\n",
       "        <td>DISORDERLY</td>\n",
       "        <td>1827</td>\n",
       "    </tr>\n",
       "    <tr>\n",
       "        <td>PhoneCalls</td>\n",
       "        <td>1525</td>\n",
       "    </tr>\n",
       "    <tr>\n",
       "        <td>COMMERCIAL BURGLARY</td>\n",
       "        <td>1497</td>\n",
       "    </tr>\n",
       "    <tr>\n",
       "        <td>Motor Vehicle Accident Response</td>\n",
       "        <td>1399</td>\n",
       "    </tr>\n",
       "    <tr>\n",
       "        <td>BENoProp</td>\n",
       "        <td>1367</td>\n",
       "    </tr>\n",
       "    <tr>\n",
       "        <td>FORGERY</td>\n",
       "        <td>1296</td>\n",
       "    </tr>\n",
       "    <tr>\n",
       "        <td>LICViol</td>\n",
       "        <td>1292</td>\n",
       "    </tr>\n",
       "    <tr>\n",
       "        <td>Larceny</td>\n",
       "        <td>1288</td>\n",
       "    </tr>\n",
       "    <tr>\n",
       "        <td>TRESPASS</td>\n",
       "        <td>1276</td>\n",
       "    </tr>\n",
       "    <tr>\n",
       "        <td>WEAPONS CHARGE</td>\n",
       "        <td>1191</td>\n",
       "    </tr>\n",
       "    <tr>\n",
       "        <td>PersMiss</td>\n",
       "        <td>1139</td>\n",
       "    </tr>\n",
       "    <tr>\n",
       "        <td>PubDrink</td>\n",
       "        <td>1123</td>\n",
       "    </tr>\n",
       "    <tr>\n",
       "        <td>Gather</td>\n",
       "        <td>1009</td>\n",
       "    </tr>\n",
       "    <tr>\n",
       "        <td>Landlord</td>\n",
       "        <td>1001</td>\n",
       "    </tr>\n",
       "    <tr>\n",
       "        <td>DEATH INVESTIGATION</td>\n",
       "        <td>937</td>\n",
       "    </tr>\n",
       "    <tr>\n",
       "        <td>32GUN</td>\n",
       "        <td>915</td>\n",
       "    </tr>\n",
       "    <tr>\n",
       "        <td>STOLEN PROPERTY CHARGES</td>\n",
       "        <td>815</td>\n",
       "    </tr>\n",
       "    <tr>\n",
       "        <td>Ballist</td>\n",
       "        <td>813</td>\n",
       "    </tr>\n",
       "    <tr>\n",
       "        <td>Investigate Person</td>\n",
       "        <td>800</td>\n",
       "    </tr>\n",
       "    <tr>\n",
       "        <td>SexReg</td>\n",
       "        <td>795</td>\n",
       "    </tr>\n",
       "    <tr>\n",
       "        <td>SearchWarr</td>\n",
       "        <td>737</td>\n",
       "    </tr>\n",
       "    <tr>\n",
       "        <td>Restrain</td>\n",
       "        <td>733</td>\n",
       "    </tr>\n",
       "    <tr>\n",
       "        <td>PropDam</td>\n",
       "        <td>731</td>\n",
       "    </tr>\n",
       "    <tr>\n",
       "        <td>OPERATING UNDER INFLUENCE</td>\n",
       "        <td>717</td>\n",
       "    </tr>\n",
       "    <tr>\n",
       "        <td>Medical Assistance</td>\n",
       "        <td>709</td>\n",
       "    </tr>\n",
       "    <tr>\n",
       "        <td>Other</td>\n",
       "        <td>697</td>\n",
       "    </tr>\n",
       "    <tr>\n",
       "        <td>Hazardous</td>\n",
       "        <td>689</td>\n",
       "    </tr>\n",
       "    <tr>\n",
       "        <td>Simple Assault</td>\n",
       "        <td>637</td>\n",
       "    </tr>\n",
       "    <tr>\n",
       "        <td>Vandalism</td>\n",
       "        <td>629</td>\n",
       "    </tr>\n",
       "    <tr>\n",
       "        <td>07RV</td>\n",
       "        <td>613</td>\n",
       "    </tr>\n",
       "    <tr>\n",
       "        <td>CRIMES AGAINST CHILDREN</td>\n",
       "        <td>579</td>\n",
       "    </tr>\n",
       "    <tr>\n",
       "        <td>Drug Violation</td>\n",
       "        <td>561</td>\n",
       "    </tr>\n",
       "    <tr>\n",
       "        <td>VIOLATION OF LIQUOR LAWS</td>\n",
       "        <td>540</td>\n",
       "    </tr>\n",
       "    <tr>\n",
       "        <td>Larceny From Motor Vehicle</td>\n",
       "        <td>523</td>\n",
       "    </tr>\n",
       "    <tr>\n",
       "        <td>SkipFare</td>\n",
       "        <td>459</td>\n",
       "    </tr>\n",
       "    <tr>\n",
       "        <td>Plates</td>\n",
       "        <td>404</td>\n",
       "    </tr>\n",
       "    <tr>\n",
       "        <td>Property Lost</td>\n",
       "        <td>396</td>\n",
       "    </tr>\n",
       "    <tr>\n",
       "        <td>Residential Burglary</td>\n",
       "        <td>382</td>\n",
       "    </tr>\n",
       "    <tr>\n",
       "        <td>Harass</td>\n",
       "        <td>380</td>\n",
       "    </tr>\n",
       "    <tr>\n",
       "        <td>Investigate Property</td>\n",
       "        <td>369</td>\n",
       "    </tr>\n",
       "    <tr>\n",
       "        <td>Verbal Disputes</td>\n",
       "        <td>361</td>\n",
       "    </tr>\n",
       "    <tr>\n",
       "        <td>Aggravated Assault</td>\n",
       "        <td>359</td>\n",
       "    </tr>\n",
       "    <tr>\n",
       "        <td>PROSTITUTION CHARGES</td>\n",
       "        <td>338</td>\n",
       "    </tr>\n",
       "    <tr>\n",
       "        <td>Towed</td>\n",
       "        <td>330</td>\n",
       "    </tr>\n",
       "    <tr>\n",
       "        <td>Harbor</td>\n",
       "        <td>235</td>\n",
       "    </tr>\n",
       "    <tr>\n",
       "        <td>Auto Theft</td>\n",
       "        <td>231</td>\n",
       "    </tr>\n",
       "    <tr>\n",
       "        <td>Violations</td>\n",
       "        <td>228</td>\n",
       "    </tr>\n",
       "    <tr>\n",
       "        <td>EMBEZELLMENT</td>\n",
       "        <td>220</td>\n",
       "    </tr>\n",
       "    <tr>\n",
       "        <td>Robbery</td>\n",
       "        <td>219</td>\n",
       "    </tr>\n",
       "    <tr>\n",
       "        <td>Fraud</td>\n",
       "        <td>187</td>\n",
       "    </tr>\n",
       "    <tr>\n",
       "        <td>Missing Person Reported</td>\n",
       "        <td>174</td>\n",
       "    </tr>\n",
       "    <tr>\n",
       "        <td>PRISON</td>\n",
       "        <td>173</td>\n",
       "    </tr>\n",
       "    <tr>\n",
       "        <td>Property Found</td>\n",
       "        <td>167</td>\n",
       "    </tr>\n",
       "    <tr>\n",
       "        <td>Warrant Arrests</td>\n",
       "        <td>167</td>\n",
       "    </tr>\n",
       "    <tr>\n",
       "        <td>Bomb</td>\n",
       "        <td>166</td>\n",
       "    </tr>\n",
       "    <tr>\n",
       "        <td>Disorderly Conduct</td>\n",
       "        <td>158</td>\n",
       "    </tr>\n",
       "    <tr>\n",
       "        <td>HOMICIDE</td>\n",
       "        <td>137</td>\n",
       "    </tr>\n",
       "    <tr>\n",
       "        <td>Confidence Games</td>\n",
       "        <td>136</td>\n",
       "    </tr>\n",
       "    <tr>\n",
       "        <td>Police Service Incidents</td>\n",
       "        <td>122</td>\n",
       "    </tr>\n",
       "    <tr>\n",
       "        <td>Firearm Violations</td>\n",
       "        <td>89</td>\n",
       "    </tr>\n",
       "    <tr>\n",
       "        <td>Missing Person Located</td>\n",
       "        <td>81</td>\n",
       "    </tr>\n",
       "    <tr>\n",
       "        <td>Fire Related Reports</td>\n",
       "        <td>80</td>\n",
       "    </tr>\n",
       "    <tr>\n",
       "        <td>Restraining Order Violations</td>\n",
       "        <td>68</td>\n",
       "    </tr>\n",
       "    <tr>\n",
       "        <td>Counterfeiting</td>\n",
       "        <td>64</td>\n",
       "    </tr>\n",
       "    <tr>\n",
       "        <td>InvVeh</td>\n",
       "        <td>56</td>\n",
       "    </tr>\n",
       "    <tr>\n",
       "        <td>Commercial Burglary</td>\n",
       "        <td>53</td>\n",
       "    </tr>\n",
       "    <tr>\n",
       "        <td>BurgTools</td>\n",
       "        <td>52</td>\n",
       "    </tr>\n",
       "    <tr>\n",
       "        <td>Recovered Stolen Property</td>\n",
       "        <td>51</td>\n",
       "    </tr>\n",
       "    <tr>\n",
       "        <td>Property Related Damage</td>\n",
       "        <td>49</td>\n",
       "    </tr>\n",
       "    <tr>\n",
       "        <td>License Violation</td>\n",
       "        <td>48</td>\n",
       "    </tr>\n",
       "    <tr>\n",
       "        <td>Ballistics</td>\n",
       "        <td>43</td>\n",
       "    </tr>\n",
       "    <tr>\n",
       "        <td>Explos</td>\n",
       "        <td>39</td>\n",
       "    </tr>\n",
       "    <tr>\n",
       "        <td>Offenses Against Child/Family</td>\n",
       "        <td>38</td>\n",
       "    </tr>\n",
       "    <tr>\n",
       "        <td>Landlord/Tenant Disputes</td>\n",
       "        <td>36</td>\n",
       "    </tr>\n",
       "    <tr>\n",
       "        <td>HateCrim</td>\n",
       "        <td>35</td>\n",
       "    </tr>\n",
       "    <tr>\n",
       "        <td>License Plate Related Incidents</td>\n",
       "        <td>34</td>\n",
       "    </tr>\n",
       "    <tr>\n",
       "        <td>Indecent Assault</td>\n",
       "        <td>34</td>\n",
       "    </tr>\n",
       "    <tr>\n",
       "        <td>ARSON</td>\n",
       "        <td>30</td>\n",
       "    </tr>\n",
       "    <tr>\n",
       "        <td>Runaway</td>\n",
       "        <td>30</td>\n",
       "    </tr>\n",
       "    <tr>\n",
       "        <td>Auto Theft Recovery</td>\n",
       "        <td>29</td>\n",
       "    </tr>\n",
       "    <tr>\n",
       "        <td>Assembly or Gathering Violations</td>\n",
       "        <td>29</td>\n",
       "    </tr>\n",
       "    <tr>\n",
       "        <td>Liquor Violation</td>\n",
       "        <td>25</td>\n",
       "    </tr>\n",
       "    <tr>\n",
       "        <td>Operating Under the Influence</td>\n",
       "        <td>23</td>\n",
       "    </tr>\n",
       "    <tr>\n",
       "        <td>Other Burglary</td>\n",
       "        <td>22</td>\n",
       "    </tr>\n",
       "    <tr>\n",
       "        <td>Sex Offender Registration</td>\n",
       "        <td>19</td>\n",
       "    </tr>\n",
       "    <tr>\n",
       "        <td>Search Warrants</td>\n",
       "        <td>19</td>\n",
       "    </tr>\n",
       "    <tr>\n",
       "        <td>Aircraft</td>\n",
       "        <td>18</td>\n",
       "    </tr>\n",
       "    <tr>\n",
       "        <td>Evading Fare</td>\n",
       "        <td>16</td>\n",
       "    </tr>\n",
       "    <tr>\n",
       "        <td>Prisoner Related Incidents</td>\n",
       "        <td>14</td>\n",
       "    </tr>\n",
       "    <tr>\n",
       "        <td>Prostitution</td>\n",
       "        <td>13</td>\n",
       "    </tr>\n",
       "    <tr>\n",
       "        <td>GAMBLING OFFENSE</td>\n",
       "        <td>13</td>\n",
       "    </tr>\n",
       "    <tr>\n",
       "        <td>Criminal Harassment</td>\n",
       "        <td>13</td>\n",
       "    </tr>\n",
       "    <tr>\n",
       "        <td>Manslaug</td>\n",
       "        <td>9</td>\n",
       "    </tr>\n",
       "    <tr>\n",
       "        <td>Labor</td>\n",
       "        <td>8</td>\n",
       "    </tr>\n",
       "    <tr>\n",
       "        <td>Harbor Related Incidents</td>\n",
       "        <td>8</td>\n",
       "    </tr>\n",
       "    <tr>\n",
       "        <td>Embezzlement</td>\n",
       "        <td>7</td>\n",
       "    </tr>\n",
       "    <tr>\n",
       "        <td>Homicide</td>\n",
       "        <td>7</td>\n",
       "    </tr>\n",
       "    <tr>\n",
       "        <td>Firearm Discovery</td>\n",
       "        <td>4</td>\n",
       "    </tr>\n",
       "    <tr>\n",
       "        <td>Arson</td>\n",
       "        <td>3</td>\n",
       "    </tr>\n",
       "    <tr>\n",
       "        <td>BioThreat</td>\n",
       "        <td>3</td>\n",
       "    </tr>\n",
       "    <tr>\n",
       "        <td>Explosives</td>\n",
       "        <td>2</td>\n",
       "    </tr>\n",
       "    <tr>\n",
       "        <td>Rape and Attempted</td>\n",
       "        <td>2</td>\n",
       "    </tr>\n",
       "    <tr>\n",
       "        <td>Bomb Hoax</td>\n",
       "        <td>1</td>\n",
       "    </tr>\n",
       "</table>"
      ],
      "text/plain": [
       "[('VAL', 27363),\n",
       " ('OTHER LARCENY', 24443),\n",
       " ('SIMPLE ASSAULT', 17697),\n",
       " ('MedAssist', 17128),\n",
       " ('MVAcc', 13832),\n",
       " ('VANDALISM', 13339),\n",
       " ('InvPer', 12937),\n",
       " ('LARCENY FROM MOTOR VEHICLE', 12742),\n",
       " ('DRUG CHARGES', 12042),\n",
       " ('FRAUD', 8742),\n",
       " ('PropLost', 8522),\n",
       " ('TOWED', 7526),\n",
       " ('RESIDENTIAL BURGLARY', 6737),\n",
       " ('InvProp', 6592),\n",
       " ('AGGRAVATED ASSAULT', 5649),\n",
       " ('Service', 5353),\n",
       " ('ROBBERY', 4974),\n",
       " ('PersLoc', 4745),\n",
       " ('AUTO THEFT', 4620),\n",
       " ('PropFound', 4316),\n",
       " ('Argue', 2833),\n",
       " ('Arrest', 1959),\n",
       " ('OTHER', 1902),\n",
       " ('FIRE', 1848),\n",
       " ('DISORDERLY', 1827),\n",
       " ('PhoneCalls', 1525),\n",
       " ('COMMERCIAL BURGLARY', 1497),\n",
       " ('Motor Vehicle Accident Response', 1399),\n",
       " ('BENoProp', 1367),\n",
       " ('FORGERY', 1296),\n",
       " ('LICViol', 1292),\n",
       " ('Larceny', 1288),\n",
       " ('TRESPASS', 1276),\n",
       " ('WEAPONS CHARGE', 1191),\n",
       " ('PersMiss', 1139),\n",
       " ('PubDrink', 1123),\n",
       " ('Gather', 1009),\n",
       " ('Landlord', 1001),\n",
       " ('DEATH INVESTIGATION', 937),\n",
       " ('32GUN', 915),\n",
       " ('STOLEN PROPERTY CHARGES', 815),\n",
       " ('Ballist', 813),\n",
       " ('Investigate Person', 800),\n",
       " ('SexReg', 795),\n",
       " ('SearchWarr', 737),\n",
       " ('Restrain', 733),\n",
       " ('PropDam', 731),\n",
       " ('OPERATING UNDER INFLUENCE', 717),\n",
       " ('Medical Assistance', 709),\n",
       " ('Other', 697),\n",
       " ('Hazardous', 689),\n",
       " ('Simple Assault', 637),\n",
       " ('Vandalism', 629),\n",
       " ('07RV', 613),\n",
       " ('CRIMES AGAINST CHILDREN', 579),\n",
       " ('Drug Violation', 561),\n",
       " ('VIOLATION OF LIQUOR LAWS', 540),\n",
       " ('Larceny From Motor Vehicle', 523),\n",
       " ('SkipFare', 459),\n",
       " ('Plates', 404),\n",
       " ('Property Lost', 396),\n",
       " ('Residential Burglary', 382),\n",
       " ('Harass', 380),\n",
       " ('Investigate Property', 369),\n",
       " ('Verbal Disputes', 361),\n",
       " ('Aggravated Assault', 359),\n",
       " ('PROSTITUTION CHARGES', 338),\n",
       " ('Towed', 330),\n",
       " ('Harbor', 235),\n",
       " ('Auto Theft', 231),\n",
       " ('Violations', 228),\n",
       " ('EMBEZELLMENT', 220),\n",
       " ('Robbery', 219),\n",
       " ('Fraud', 187),\n",
       " ('Missing Person Reported', 174),\n",
       " ('PRISON', 173),\n",
       " ('Property Found', 167),\n",
       " ('Warrant Arrests', 167),\n",
       " ('Bomb', 166),\n",
       " ('Disorderly Conduct', 158),\n",
       " ('HOMICIDE', 137),\n",
       " ('Confidence Games', 136),\n",
       " ('Police Service Incidents', 122),\n",
       " ('Firearm Violations', 89),\n",
       " ('Missing Person Located', 81),\n",
       " ('Fire Related Reports', 80),\n",
       " ('Restraining Order Violations', 68),\n",
       " ('Counterfeiting', 64),\n",
       " ('InvVeh', 56),\n",
       " ('Commercial Burglary', 53),\n",
       " ('BurgTools', 52),\n",
       " ('Recovered Stolen Property', 51),\n",
       " ('Property Related Damage', 49),\n",
       " ('License Violation', 48),\n",
       " ('Ballistics', 43),\n",
       " ('Explos', 39),\n",
       " ('Offenses Against Child/Family', 38),\n",
       " ('Landlord/Tenant Disputes', 36),\n",
       " ('HateCrim', 35),\n",
       " ('License Plate Related Incidents', 34),\n",
       " ('Indecent Assault', 34),\n",
       " ('ARSON', 30),\n",
       " ('Runaway', 30),\n",
       " ('Auto Theft Recovery', 29),\n",
       " ('Assembly or Gathering Violations', 29),\n",
       " ('Liquor Violation', 25),\n",
       " ('Operating Under the Influence', 23),\n",
       " ('Other Burglary', 22),\n",
       " ('Sex Offender Registration', 19),\n",
       " ('Search Warrants', 19),\n",
       " ('Aircraft', 18),\n",
       " ('Evading Fare', 16),\n",
       " ('Prisoner Related Incidents', 14),\n",
       " ('Prostitution', 13),\n",
       " ('GAMBLING OFFENSE', 13),\n",
       " ('Criminal Harassment', 13),\n",
       " ('Manslaug', 9),\n",
       " ('Labor', 8),\n",
       " ('Harbor Related Incidents', 8),\n",
       " ('Embezzlement', 7),\n",
       " ('Homicide', 7),\n",
       " ('Firearm Discovery', 4),\n",
       " ('Arson', 3),\n",
       " ('BioThreat', 3),\n",
       " ('Explosives', 2),\n",
       " ('Rape and Attempted', 2),\n",
       " ('Bomb Hoax', 1)]"
      ]
     },
     "execution_count": 22,
     "metadata": {},
     "output_type": "execute_result"
    }
   ],
   "source": [
    "%%sql\n",
    "SELECT INCIDENT_TYPE_DESCRIPTION as CRIME_TYPE, count(*) as Number_of_Crimes\n",
    "FROM boston\n",
    "GROUP BY CRIME_TYPE \n",
    "ORDER BY Number_of_Crimes DESC\n",
    ";"
   ]
  },
  {
   "cell_type": "markdown",
   "metadata": {},
   "source": [
    "Let's narrow down the search, we focus on the recent data year 2015. Which type of the crimes that happens most frequently in 2015? The answer to that is still the same: Val and other larceny\n"
   ]
  },
  {
   "cell_type": "code",
   "execution_count": 23,
   "metadata": {
    "collapsed": false
   },
   "outputs": [
    {
     "name": "stdout",
     "output_type": "stream",
     "text": [
      "20 rows affected.\n"
     ]
    },
    {
     "data": {
      "text/html": [
       "<table>\n",
       "    <tr>\n",
       "        <th>crime_type</th>\n",
       "        <th>number_of_crimes</th>\n",
       "    </tr>\n",
       "    <tr>\n",
       "        <td>VAL</td>\n",
       "        <td>4809</td>\n",
       "    </tr>\n",
       "    <tr>\n",
       "        <td>OTHER LARCENY</td>\n",
       "        <td>3228</td>\n",
       "    </tr>\n",
       "    <tr>\n",
       "        <td>MedAssist</td>\n",
       "        <td>2891</td>\n",
       "    </tr>\n",
       "    <tr>\n",
       "        <td>SIMPLE ASSAULT</td>\n",
       "        <td>2640</td>\n",
       "    </tr>\n",
       "    <tr>\n",
       "        <td>VANDALISM</td>\n",
       "        <td>2115</td>\n",
       "    </tr>\n",
       "    <tr>\n",
       "        <td>MVAcc</td>\n",
       "        <td>2078</td>\n",
       "    </tr>\n",
       "    <tr>\n",
       "        <td>InvPer</td>\n",
       "        <td>2048</td>\n",
       "    </tr>\n",
       "    <tr>\n",
       "        <td>DRUG CHARGES</td>\n",
       "        <td>1821</td>\n",
       "    </tr>\n",
       "    <tr>\n",
       "        <td>LARCENY FROM MOTOR VEHICLE</td>\n",
       "        <td>1434</td>\n",
       "    </tr>\n",
       "    <tr>\n",
       "        <td>TOWED</td>\n",
       "        <td>1411</td>\n",
       "    </tr>\n",
       "    <tr>\n",
       "        <td>Motor Vehicle Accident Response</td>\n",
       "        <td>1399</td>\n",
       "    </tr>\n",
       "    <tr>\n",
       "        <td>Larceny</td>\n",
       "        <td>1288</td>\n",
       "    </tr>\n",
       "    <tr>\n",
       "        <td>PropLost</td>\n",
       "        <td>1205</td>\n",
       "    </tr>\n",
       "    <tr>\n",
       "        <td>FRAUD</td>\n",
       "        <td>1079</td>\n",
       "    </tr>\n",
       "    <tr>\n",
       "        <td>InvProp</td>\n",
       "        <td>1050</td>\n",
       "    </tr>\n",
       "    <tr>\n",
       "        <td>AGGRAVATED ASSAULT</td>\n",
       "        <td>813</td>\n",
       "    </tr>\n",
       "    <tr>\n",
       "        <td>Investigate Person</td>\n",
       "        <td>800</td>\n",
       "    </tr>\n",
       "    <tr>\n",
       "        <td>Service</td>\n",
       "        <td>755</td>\n",
       "    </tr>\n",
       "    <tr>\n",
       "        <td>RESIDENTIAL BURGLARY</td>\n",
       "        <td>712</td>\n",
       "    </tr>\n",
       "    <tr>\n",
       "        <td>Medical Assistance</td>\n",
       "        <td>709</td>\n",
       "    </tr>\n",
       "</table>"
      ],
      "text/plain": [
       "[('VAL', 4809),\n",
       " ('OTHER LARCENY', 3228),\n",
       " ('MedAssist', 2891),\n",
       " ('SIMPLE ASSAULT', 2640),\n",
       " ('VANDALISM', 2115),\n",
       " ('MVAcc', 2078),\n",
       " ('InvPer', 2048),\n",
       " ('DRUG CHARGES', 1821),\n",
       " ('LARCENY FROM MOTOR VEHICLE', 1434),\n",
       " ('TOWED', 1411),\n",
       " ('Motor Vehicle Accident Response', 1399),\n",
       " ('Larceny', 1288),\n",
       " ('PropLost', 1205),\n",
       " ('FRAUD', 1079),\n",
       " ('InvProp', 1050),\n",
       " ('AGGRAVATED ASSAULT', 813),\n",
       " ('Investigate Person', 800),\n",
       " ('Service', 755),\n",
       " ('RESIDENTIAL BURGLARY', 712),\n",
       " ('Medical Assistance', 709)]"
      ]
     },
     "execution_count": 23,
     "metadata": {},
     "output_type": "execute_result"
    }
   ],
   "source": [
    "%%sql\n",
    "SELECT INCIDENT_TYPE_DESCRIPTION as CRIME_TYPE, count(*) as Number_of_Crimes\n",
    "FROM boston\n",
    "WHERE Year = '2015'\n",
    "GROUP BY CRIME_TYPE \n",
    "ORDER BY Number_of_Crimes DESC\n",
    "LIMIT 20\n",
    ";"
   ]
  },
  {
   "cell_type": "markdown",
   "metadata": {},
   "source": [
    "### In Boston, which area is the unsafest area, that has the most number of crimes occured?\n",
    "\n",
    "Washington ST seems to be the top 1 unsafest location that has the most number of crimes happened over the three years. It has 14552 crimes. "
   ]
  },
  {
   "cell_type": "code",
   "execution_count": 24,
   "metadata": {
    "collapsed": false
   },
   "outputs": [
    {
     "name": "stdout",
     "output_type": "stream",
     "text": [
      "10 rows affected.\n"
     ]
    },
    {
     "data": {
      "text/html": [
       "<table>\n",
       "    <tr>\n",
       "        <th>address</th>\n",
       "        <th>number_of_crimes</th>\n",
       "    </tr>\n",
       "    <tr>\n",
       "        <td>WASHINGTON ST</td>\n",
       "        <td>14552</td>\n",
       "    </tr>\n",
       "    <tr>\n",
       "        <td>BOYLSTON ST</td>\n",
       "        <td>6572</td>\n",
       "    </tr>\n",
       "    <tr>\n",
       "        <td>BLUE HILL AV</td>\n",
       "        <td>6172</td>\n",
       "    </tr>\n",
       "    <tr>\n",
       "        <td>DORCHESTER AV</td>\n",
       "        <td>4549</td>\n",
       "    </tr>\n",
       "    <tr>\n",
       "        <td>TREMONT ST</td>\n",
       "        <td>4447</td>\n",
       "    </tr>\n",
       "    <tr>\n",
       "        <td>MASSACHUSETTS AV</td>\n",
       "        <td>4434</td>\n",
       "    </tr>\n",
       "    <tr>\n",
       "        <td>COMMONWEALTH AV</td>\n",
       "        <td>4345</td>\n",
       "    </tr>\n",
       "    <tr>\n",
       "        <td>CENTRE ST</td>\n",
       "        <td>3903</td>\n",
       "    </tr>\n",
       "    <tr>\n",
       "        <td>HARRISON AV</td>\n",
       "        <td>3005</td>\n",
       "    </tr>\n",
       "    <tr>\n",
       "        <td>HYDE PARK AV</td>\n",
       "        <td>2897</td>\n",
       "    </tr>\n",
       "</table>"
      ],
      "text/plain": [
       "[('WASHINGTON ST', 14552),\n",
       " ('BOYLSTON ST', 6572),\n",
       " ('BLUE HILL AV', 6172),\n",
       " ('DORCHESTER AV', 4549),\n",
       " ('TREMONT ST', 4447),\n",
       " ('MASSACHUSETTS AV', 4434),\n",
       " ('COMMONWEALTH AV', 4345),\n",
       " ('CENTRE ST', 3903),\n",
       " ('HARRISON AV', 3005),\n",
       " ('HYDE PARK AV', 2897)]"
      ]
     },
     "execution_count": 24,
     "metadata": {},
     "output_type": "execute_result"
    }
   ],
   "source": [
    "%%sql\n",
    "SELECT STREETNAME as Address, count(*) as Number_of_Crimes\n",
    "FROM boston\n",
    "GROUP BY Address \n",
    "ORDER BY Number_of_Crimes DESC\n",
    "LIMIT 10\n",
    ";"
   ]
  },
  {
   "cell_type": "code",
   "execution_count": 25,
   "metadata": {
    "collapsed": false
   },
   "outputs": [
    {
     "name": "stdout",
     "output_type": "stream",
     "text": [
      "5 rows affected.\n"
     ]
    },
    {
     "data": {
      "text/html": [
       "<table>\n",
       "    <tr>\n",
       "        <th>crime_type</th>\n",
       "        <th>number_of_crimes</th>\n",
       "    </tr>\n",
       "    <tr>\n",
       "        <td>OTHER LARCENY</td>\n",
       "        <td>1933</td>\n",
       "    </tr>\n",
       "    <tr>\n",
       "        <td>DRUG CHARGES</td>\n",
       "        <td>1643</td>\n",
       "    </tr>\n",
       "    <tr>\n",
       "        <td>VAL</td>\n",
       "        <td>1247</td>\n",
       "    </tr>\n",
       "    <tr>\n",
       "        <td>SIMPLE ASSAULT</td>\n",
       "        <td>956</td>\n",
       "    </tr>\n",
       "    <tr>\n",
       "        <td>MVAcc</td>\n",
       "        <td>780</td>\n",
       "    </tr>\n",
       "</table>"
      ],
      "text/plain": [
       "[('OTHER LARCENY', 1933),\n",
       " ('DRUG CHARGES', 1643),\n",
       " ('VAL', 1247),\n",
       " ('SIMPLE ASSAULT', 956),\n",
       " ('MVAcc', 780)]"
      ]
     },
     "execution_count": 25,
     "metadata": {},
     "output_type": "execute_result"
    }
   ],
   "source": [
    "%%sql\n",
    "SELECT INCIDENT_TYPE_DESCRIPTION as CRIME_TYPE, count(*) as Number_of_Crimes\n",
    "FROM boston\n",
    "WHERE STREETNAME IN (\n",
    "    SELECT STREETNAME\n",
    "    FROM boston\n",
    "    GROUP BY STREETNAME\n",
    "    ORDER BY count(*) DESC\n",
    "    LIMIT 1)\n",
    "GROUP BY CRIME_TYPE\n",
    "ORDER BY Number_of_Crimes DESC\n",
    "LIMIT 5\n",
    ";"
   ]
  },
  {
   "cell_type": "code",
   "execution_count": 26,
   "metadata": {
    "collapsed": false
   },
   "outputs": [
    {
     "name": "stdout",
     "output_type": "stream",
     "text": [
      "12259 rows affected.\n",
      "0 rows affected.\n",
      "3 rows affected.\n",
      "0 rows affected.\n",
      "12265 rows affected.\n",
      "14981 rows affected.\n",
      "14981 rows affected.\n",
      "1 rows affected.\n",
      "208861 rows affected.\n"
     ]
    },
    {
     "data": {
      "text/plain": [
       "[]"
      ]
     },
     "execution_count": 26,
     "metadata": {},
     "output_type": "execute_result"
    }
   ],
   "source": [
    "%%sql\n",
    "UPDATE boston SET COMPNOS = -999 where COMPNOS is null;\n",
    "UPDATE boston SET NatureCode = 'Null' where naturecode is null;\n",
    "UPDATE boston SET REPTDISTRICT = 'Null' where reptdistrict is null;\n",
    "UPDATE boston SET WEAPONTYPE = 'Null' where weapontype is null;\n",
    "UPDATE boston SET SHIFT = 'Null' where shift is null;\n",
    "UPDATE boston SET X = -999 where x is null;\n",
    "UPDATE boston SET Y = -999 where y is null;\n",
    "UPDATE boston SET STREETNAME = 'Null' where streetname is null;\n",
    "UPDATE boston SET XSTREETNAME = 'Null' where xstreetname is null;\n"
   ]
  },
  {
   "cell_type": "markdown",
   "metadata": {},
   "source": [
    "## Problem 3 - define a star schema, and load your data into it (30 points)\n",
    "\n",
    "Define a star schema consisting of at least one fact table and at least two dimensions.  Transform your source data into the new fact table and dimensions.  Discuss your key modeling decisions.\n",
    "\n",
    "Document your star schema with a diagram.  There several tools available for this, such as Google Docs and Microsoft Visio."
   ]
  },
  {
   "cell_type": "code",
   "execution_count": 27,
   "metadata": {
    "collapsed": false
   },
   "outputs": [
    {
     "name": "stdout",
     "output_type": "stream",
     "text": [
      "/home/jovyan/work\r\n"
     ]
    }
   ],
   "source": [
    "!pwd"
   ]
  },
  {
   "cell_type": "code",
   "execution_count": 28,
   "metadata": {
    "collapsed": true
   },
   "outputs": [],
   "source": [
    "from IPython.display import Image\n",
    "PATH = \"/home/jovyan/work/\""
   ]
  },
  {
   "cell_type": "code",
   "execution_count": 29,
   "metadata": {
    "collapsed": false
   },
   "outputs": [
    {
     "data": {
      "image/png": "[encoded data removed]",
      "text/plain": [
       "<IPython.core.display.Image object>"
      ]
     },
     "execution_count": 29,
     "metadata": {
      "image/png": {
       "height": 1000,
       "width": 1000
      }
     },
     "output_type": "execute_result"
    }
   ],
   "source": [
    "Image(filename = PATH + \"schema.png\", width=1000, height=1000)"
   ]
  },
  {
   "cell_type": "markdown",
   "metadata": {},
   "source": [
    "### Create a dimension for location:"
   ]
  },
  {
   "cell_type": "code",
   "execution_count": 30,
   "metadata": {
    "collapsed": false
   },
   "outputs": [
    {
     "name": "stdout",
     "output_type": "stream",
     "text": [
      "Done.\n",
      "Done.\n"
     ]
    },
    {
     "data": {
      "text/plain": [
       "[]"
      ]
     },
     "execution_count": 30,
     "metadata": {},
     "output_type": "execute_result"
    }
   ],
   "source": [
    "%%sql\n",
    "DROP TABLE IF EXISTS location_dim;\n",
    "CREATE TABLE location_dim (\n",
    "  location_dim_id SERIAL PRIMARY KEY,\n",
    "  REPTDISTRICT VARCHAR(255),\n",
    "  REPORTINGAREA VARCHAR(255),\n",
    "  LOCATION VARCHAR(255),\n",
    "  STREETNAME VARCHAR(255) \n",
    ");"
   ]
  },
  {
   "cell_type": "markdown",
   "metadata": {},
   "source": [
    "Insert location data into location dimension table:"
   ]
  },
  {
   "cell_type": "code",
   "execution_count": 31,
   "metadata": {
    "collapsed": false
   },
   "outputs": [
    {
     "name": "stdout",
     "output_type": "stream",
     "text": [
      "268056 rows affected.\n"
     ]
    },
    {
     "data": {
      "text/plain": [
       "[]"
      ]
     },
     "execution_count": 31,
     "metadata": {},
     "output_type": "execute_result"
    }
   ],
   "source": [
    "%%sql\n",
    "INSERT INTO location_dim (REPTDISTRICT,REPORTINGAREA,LOCATION,STREETNAME)\n",
    "SELECT \n",
    "    REPTDISTRICT,\n",
    "    REPORTINGAREA,\n",
    "    LOCATION,\n",
    "    STREETNAME\n",
    "from boston\n",
    ";"
   ]
  },
  {
   "cell_type": "code",
   "execution_count": 32,
   "metadata": {
    "collapsed": false
   },
   "outputs": [
    {
     "name": "stdout",
     "output_type": "stream",
     "text": [
      "20 rows affected.\n"
     ]
    },
    {
     "data": {
      "text/html": [
       "<table>\n",
       "    <tr>\n",
       "        <th>location_dim_id</th>\n",
       "        <th>reptdistrict</th>\n",
       "        <th>reportingarea</th>\n",
       "        <th>location</th>\n",
       "        <th>streetname</th>\n",
       "    </tr>\n",
       "    <tr>\n",
       "        <td>1</td>\n",
       "        <td>D4</td>\n",
       "        <td>625</td>\n",
       "        <td>(42.34284135, -71.09698955)</td>\n",
       "        <td>JERSEY ST</td>\n",
       "    </tr>\n",
       "    <tr>\n",
       "        <td>2</td>\n",
       "        <td>B2</td>\n",
       "        <td>295</td>\n",
       "        <td>(42.32425136, -71.08620956)</td>\n",
       "        <td>REGENT ST</td>\n",
       "    </tr>\n",
       "    <tr>\n",
       "        <td>3</td>\n",
       "        <td>D4</td>\n",
       "        <td>162</td>\n",
       "        <td>(42.33490135, -71.07516956)</td>\n",
       "        <td>MASSACHUSETTS AV</td>\n",
       "    </tr>\n",
       "    <tr>\n",
       "        <td>4</td>\n",
       "        <td>B2</td>\n",
       "        <td>296</td>\n",
       "        <td>(42.32170135, -71.08190956)</td>\n",
       "        <td>WARREN ST</td>\n",
       "    </tr>\n",
       "    <tr>\n",
       "        <td>5</td>\n",
       "        <td>D14</td>\n",
       "        <td>796</td>\n",
       "        <td>(42.35168135, -71.12518954)</td>\n",
       "        <td>COMMONWEALTH AV</td>\n",
       "    </tr>\n",
       "    <tr>\n",
       "        <td>6</td>\n",
       "        <td>C11</td>\n",
       "        <td>462</td>\n",
       "        <td>(42.30147136, -71.07512956)</td>\n",
       "        <td>BULLARD ST</td>\n",
       "    </tr>\n",
       "    <tr>\n",
       "        <td>7</td>\n",
       "        <td>E18</td>\n",
       "        <td>493</td>\n",
       "        <td>(42.26728137, -71.11588955)</td>\n",
       "        <td>BRADLEE ST</td>\n",
       "    </tr>\n",
       "    <tr>\n",
       "        <td>8</td>\n",
       "        <td>D4</td>\n",
       "        <td>629</td>\n",
       "        <td>(42.34638135, -71.10379454)</td>\n",
       "        <td>ABERDEEN ST</td>\n",
       "    </tr>\n",
       "    <tr>\n",
       "        <td>9</td>\n",
       "        <td>C11</td>\n",
       "        <td>248</td>\n",
       "        <td>(42.31371136, -71.05572957)</td>\n",
       "        <td>AUCKLAND ST</td>\n",
       "    </tr>\n",
       "    <tr>\n",
       "        <td>10</td>\n",
       "        <td>B2</td>\n",
       "        <td>329</td>\n",
       "        <td>(42.30754136, -71.07608956)</td>\n",
       "        <td>COLUMBIA RD</td>\n",
       "    </tr>\n",
       "    <tr>\n",
       "        <td>11</td>\n",
       "        <td>C11</td>\n",
       "        <td>351</td>\n",
       "        <td>(42.29928135, -71.05918456)</td>\n",
       "        <td>SALISBURY PARK</td>\n",
       "    </tr>\n",
       "    <tr>\n",
       "        <td>12</td>\n",
       "        <td>A7</td>\n",
       "        <td>24</td>\n",
       "        <td>(42.38054134, -71.03925957)</td>\n",
       "        <td>MERIDIAN ST</td>\n",
       "    </tr>\n",
       "    <tr>\n",
       "        <td>13</td>\n",
       "        <td>E5</td>\n",
       "        <td>0</td>\n",
       "        <td>(42.26320137, -71.16580953)</td>\n",
       "        <td>SALMAN ST</td>\n",
       "    </tr>\n",
       "    <tr>\n",
       "        <td>14</td>\n",
       "        <td>B3</td>\n",
       "        <td>445</td>\n",
       "        <td>(42.29812136, -71.08109956)</td>\n",
       "        <td>GLENWAY ST</td>\n",
       "    </tr>\n",
       "    <tr>\n",
       "        <td>15</td>\n",
       "        <td>C11</td>\n",
       "        <td>337</td>\n",
       "        <td>(42.30746136, -71.07596956)</td>\n",
       "        <td>COLUMBIA RD</td>\n",
       "    </tr>\n",
       "    <tr>\n",
       "        <td>16</td>\n",
       "        <td>B2</td>\n",
       "        <td>276</td>\n",
       "        <td>(42.33105135, -71.08270956)</td>\n",
       "        <td>RUGGLES ST</td>\n",
       "    </tr>\n",
       "    <tr>\n",
       "        <td>17</td>\n",
       "        <td>B2</td>\n",
       "        <td>311</td>\n",
       "        <td>(42.31981136, -71.08138956)</td>\n",
       "        <td>WOODBINE ST</td>\n",
       "    </tr>\n",
       "    <tr>\n",
       "        <td>18</td>\n",
       "        <td>D4</td>\n",
       "        <td>0</td>\n",
       "        <td>(42.34805135, -71.08813956)</td>\n",
       "        <td>NEWBURY ST</td>\n",
       "    </tr>\n",
       "    <tr>\n",
       "        <td>19</td>\n",
       "        <td>D4</td>\n",
       "        <td>170</td>\n",
       "        <td>(42.33730135, -71.07805956)</td>\n",
       "        <td>MASSACHUSETTS AV</td>\n",
       "    </tr>\n",
       "    <tr>\n",
       "        <td>20</td>\n",
       "        <td>A1</td>\n",
       "        <td>95</td>\n",
       "        <td>(42.35876135, -71.05157957)</td>\n",
       "        <td>ATLANTIC AV</td>\n",
       "    </tr>\n",
       "</table>"
      ],
      "text/plain": [
       "[(1, 'D4', '625', '(42.34284135, -71.09698955)', 'JERSEY ST'),\n",
       " (2, 'B2', '295', '(42.32425136, -71.08620956)', 'REGENT ST'),\n",
       " (3, 'D4', '162', '(42.33490135, -71.07516956)', 'MASSACHUSETTS AV'),\n",
       " (4, 'B2', '296', '(42.32170135, -71.08190956)', 'WARREN ST'),\n",
       " (5, 'D14', '796', '(42.35168135, -71.12518954)', 'COMMONWEALTH AV'),\n",
       " (6, 'C11', '462', '(42.30147136, -71.07512956)', 'BULLARD ST'),\n",
       " (7, 'E18', '493', '(42.26728137, -71.11588955)', 'BRADLEE ST'),\n",
       " (8, 'D4', '629', '(42.34638135, -71.10379454)', 'ABERDEEN ST'),\n",
       " (9, 'C11', '248', '(42.31371136, -71.05572957)', 'AUCKLAND ST'),\n",
       " (10, 'B2', '329', '(42.30754136, -71.07608956)', 'COLUMBIA RD'),\n",
       " (11, 'C11', '351', '(42.29928135, -71.05918456)', 'SALISBURY PARK'),\n",
       " (12, 'A7', '24', '(42.38054134, -71.03925957)', 'MERIDIAN ST'),\n",
       " (13, 'E5', '0', '(42.26320137, -71.16580953)', 'SALMAN ST'),\n",
       " (14, 'B3', '445', '(42.29812136, -71.08109956)', 'GLENWAY ST'),\n",
       " (15, 'C11', '337', '(42.30746136, -71.07596956)', 'COLUMBIA RD'),\n",
       " (16, 'B2', '276', '(42.33105135, -71.08270956)', 'RUGGLES ST'),\n",
       " (17, 'B2', '311', '(42.31981136, -71.08138956)', 'WOODBINE ST'),\n",
       " (18, 'D4', '0', '(42.34805135, -71.08813956)', 'NEWBURY ST'),\n",
       " (19, 'D4', '170', '(42.33730135, -71.07805956)', 'MASSACHUSETTS AV'),\n",
       " (20, 'A1', '95', '(42.35876135, -71.05157957)', 'ATLANTIC AV')]"
      ]
     },
     "execution_count": 32,
     "metadata": {},
     "output_type": "execute_result"
    }
   ],
   "source": [
    "%%sql\n",
    "select * \n",
    "from location_dim \n",
    "limit 20;"
   ]
  },
  {
   "cell_type": "markdown",
   "metadata": {},
   "source": [
    "### Create a dimension table for weapon:"
   ]
  },
  {
   "cell_type": "code",
   "execution_count": 33,
   "metadata": {
    "collapsed": false
   },
   "outputs": [
    {
     "name": "stdout",
     "output_type": "stream",
     "text": [
      "Done.\n",
      "Done.\n"
     ]
    },
    {
     "data": {
      "text/plain": [
       "[]"
      ]
     },
     "execution_count": 33,
     "metadata": {},
     "output_type": "execute_result"
    }
   ],
   "source": [
    "%%sql\n",
    "DROP TABLE IF EXISTS weapon_dim;\n",
    "CREATE TABLE weapon_dim (\n",
    " weapon_dim_id SERIAL PRIMARY KEY,\n",
    " WEAPONTYPE VARCHAR(255) \n",
    ");"
   ]
  },
  {
   "cell_type": "markdown",
   "metadata": {},
   "source": [
    "Insert weapon data into weapon dimension table:"
   ]
  },
  {
   "cell_type": "code",
   "execution_count": 34,
   "metadata": {
    "collapsed": false
   },
   "outputs": [
    {
     "name": "stdout",
     "output_type": "stream",
     "text": [
      "268056 rows affected.\n"
     ]
    },
    {
     "data": {
      "text/plain": [
       "[]"
      ]
     },
     "execution_count": 34,
     "metadata": {},
     "output_type": "execute_result"
    }
   ],
   "source": [
    "%%sql\n",
    "INSERT INTO weapon_dim(WEAPONTYPE)\n",
    "SELECT WEAPONTYPE \n",
    "from boston;"
   ]
  },
  {
   "cell_type": "code",
   "execution_count": 35,
   "metadata": {
    "collapsed": false
   },
   "outputs": [
    {
     "name": "stdout",
     "output_type": "stream",
     "text": [
      "20 rows affected.\n"
     ]
    },
    {
     "data": {
      "text/html": [
       "<table>\n",
       "    <tr>\n",
       "        <th>weapon_dim_id</th>\n",
       "        <th>weapontype</th>\n",
       "    </tr>\n",
       "    <tr>\n",
       "        <td>1</td>\n",
       "        <td>Firearm</td>\n",
       "    </tr>\n",
       "    <tr>\n",
       "        <td>2</td>\n",
       "        <td>Firearm</td>\n",
       "    </tr>\n",
       "    <tr>\n",
       "        <td>3</td>\n",
       "        <td>Unarmed</td>\n",
       "    </tr>\n",
       "    <tr>\n",
       "        <td>4</td>\n",
       "        <td>Firearm</td>\n",
       "    </tr>\n",
       "    <tr>\n",
       "        <td>5</td>\n",
       "        <td>Unarmed</td>\n",
       "    </tr>\n",
       "    <tr>\n",
       "        <td>6</td>\n",
       "        <td>Unarmed</td>\n",
       "    </tr>\n",
       "    <tr>\n",
       "        <td>7</td>\n",
       "        <td>Unarmed</td>\n",
       "    </tr>\n",
       "    <tr>\n",
       "        <td>8</td>\n",
       "        <td>Other</td>\n",
       "    </tr>\n",
       "    <tr>\n",
       "        <td>9</td>\n",
       "        <td>Unarmed</td>\n",
       "    </tr>\n",
       "    <tr>\n",
       "        <td>10</td>\n",
       "        <td>Unarmed</td>\n",
       "    </tr>\n",
       "    <tr>\n",
       "        <td>11</td>\n",
       "        <td>Unarmed</td>\n",
       "    </tr>\n",
       "    <tr>\n",
       "        <td>12</td>\n",
       "        <td>Unarmed</td>\n",
       "    </tr>\n",
       "    <tr>\n",
       "        <td>13</td>\n",
       "        <td>Unarmed</td>\n",
       "    </tr>\n",
       "    <tr>\n",
       "        <td>14</td>\n",
       "        <td>Unarmed</td>\n",
       "    </tr>\n",
       "    <tr>\n",
       "        <td>15</td>\n",
       "        <td>Unarmed</td>\n",
       "    </tr>\n",
       "    <tr>\n",
       "        <td>16</td>\n",
       "        <td>Unarmed</td>\n",
       "    </tr>\n",
       "    <tr>\n",
       "        <td>17</td>\n",
       "        <td>Unarmed</td>\n",
       "    </tr>\n",
       "    <tr>\n",
       "        <td>18</td>\n",
       "        <td>Unarmed</td>\n",
       "    </tr>\n",
       "    <tr>\n",
       "        <td>19</td>\n",
       "        <td>Unarmed</td>\n",
       "    </tr>\n",
       "    <tr>\n",
       "        <td>20</td>\n",
       "        <td>Other</td>\n",
       "    </tr>\n",
       "</table>"
      ],
      "text/plain": [
       "[(1, 'Firearm'),\n",
       " (2, 'Firearm'),\n",
       " (3, 'Unarmed'),\n",
       " (4, 'Firearm'),\n",
       " (5, 'Unarmed'),\n",
       " (6, 'Unarmed'),\n",
       " (7, 'Unarmed'),\n",
       " (8, 'Other'),\n",
       " (9, 'Unarmed'),\n",
       " (10, 'Unarmed'),\n",
       " (11, 'Unarmed'),\n",
       " (12, 'Unarmed'),\n",
       " (13, 'Unarmed'),\n",
       " (14, 'Unarmed'),\n",
       " (15, 'Unarmed'),\n",
       " (16, 'Unarmed'),\n",
       " (17, 'Unarmed'),\n",
       " (18, 'Unarmed'),\n",
       " (19, 'Unarmed'),\n",
       " (20, 'Other')]"
      ]
     },
     "execution_count": 35,
     "metadata": {},
     "output_type": "execute_result"
    }
   ],
   "source": [
    "%%sql\n",
    "select * \n",
    "from weapon_dim \n",
    "limit 20;"
   ]
  },
  {
   "cell_type": "markdown",
   "metadata": {},
   "source": [
    "### Create another dimension for time:"
   ]
  },
  {
   "cell_type": "code",
   "execution_count": 36,
   "metadata": {
    "collapsed": false
   },
   "outputs": [
    {
     "name": "stdout",
     "output_type": "stream",
     "text": [
      "Done.\n",
      "Done.\n"
     ]
    },
    {
     "data": {
      "text/plain": [
       "[]"
      ]
     },
     "execution_count": 36,
     "metadata": {},
     "output_type": "execute_result"
    }
   ],
   "source": [
    "%%sql\n",
    "DROP TABLE IF EXISTS time_dim;\n",
    "CREATE TABLE time_dim (\n",
    "  time_dim_id SERIAL PRIMARY KEY,\n",
    "  FROMDATE TIMESTAMP,\n",
    "  YEAR INTEGER,\n",
    "  MONTH INTEGER,\n",
    "  DAY_WEEK VARCHAR(255)   \n",
    ");"
   ]
  },
  {
   "cell_type": "markdown",
   "metadata": {},
   "source": [
    "Insert time data into time dimension table:"
   ]
  },
  {
   "cell_type": "code",
   "execution_count": 37,
   "metadata": {
    "collapsed": false
   },
   "outputs": [
    {
     "name": "stdout",
     "output_type": "stream",
     "text": [
      "268056 rows affected.\n"
     ]
    },
    {
     "data": {
      "text/plain": [
       "[]"
      ]
     },
     "execution_count": 37,
     "metadata": {},
     "output_type": "execute_result"
    }
   ],
   "source": [
    "%%sql\n",
    "INSERT INTO time_dim (FROMDATE,YEAR,MONTH,DAY_WEEK)\n",
    "SELECT \n",
    "    FROMDATE,\n",
    "    YEAR,\n",
    "    MONTH,\n",
    "    DAY_WEEK\n",
    "from boston\n",
    ";"
   ]
  },
  {
   "cell_type": "code",
   "execution_count": 38,
   "metadata": {
    "collapsed": false
   },
   "outputs": [
    {
     "name": "stdout",
     "output_type": "stream",
     "text": [
      "20 rows affected.\n"
     ]
    },
    {
     "data": {
      "text/html": [
       "<table>\n",
       "    <tr>\n",
       "        <th>time_dim_id</th>\n",
       "        <th>fromdate</th>\n",
       "        <th>year</th>\n",
       "        <th>month</th>\n",
       "        <th>day_week</th>\n",
       "    </tr>\n",
       "    <tr>\n",
       "        <td>1</td>\n",
       "        <td>2012-07-08 06:26:00</td>\n",
       "        <td>2012</td>\n",
       "        <td>7</td>\n",
       "        <td>Sunday</td>\n",
       "    </tr>\n",
       "    <tr>\n",
       "        <td>2</td>\n",
       "        <td>2012-07-08 07:50:00</td>\n",
       "        <td>2012</td>\n",
       "        <td>7</td>\n",
       "        <td>Sunday</td>\n",
       "    </tr>\n",
       "    <tr>\n",
       "        <td>3</td>\n",
       "        <td>2012-07-08 09:30:00</td>\n",
       "        <td>2012</td>\n",
       "        <td>7</td>\n",
       "        <td>Sunday</td>\n",
       "    </tr>\n",
       "    <tr>\n",
       "        <td>4</td>\n",
       "        <td>2012-07-08 09:55:00</td>\n",
       "        <td>2012</td>\n",
       "        <td>7</td>\n",
       "        <td>Sunday</td>\n",
       "    </tr>\n",
       "    <tr>\n",
       "        <td>5</td>\n",
       "        <td>2012-07-08 10:01:00</td>\n",
       "        <td>2012</td>\n",
       "        <td>7</td>\n",
       "        <td>Sunday</td>\n",
       "    </tr>\n",
       "    <tr>\n",
       "        <td>6</td>\n",
       "        <td>2012-07-08 11:09:00</td>\n",
       "        <td>2012</td>\n",
       "        <td>7</td>\n",
       "        <td>Sunday</td>\n",
       "    </tr>\n",
       "    <tr>\n",
       "        <td>7</td>\n",
       "        <td>2012-07-08 11:51:00</td>\n",
       "        <td>2012</td>\n",
       "        <td>7</td>\n",
       "        <td>Sunday</td>\n",
       "    </tr>\n",
       "    <tr>\n",
       "        <td>8</td>\n",
       "        <td>2012-07-08 06:00:00</td>\n",
       "        <td>2012</td>\n",
       "        <td>7</td>\n",
       "        <td>Sunday</td>\n",
       "    </tr>\n",
       "    <tr>\n",
       "        <td>9</td>\n",
       "        <td>2012-07-08 12:30:00</td>\n",
       "        <td>2012</td>\n",
       "        <td>7</td>\n",
       "        <td>Sunday</td>\n",
       "    </tr>\n",
       "    <tr>\n",
       "        <td>10</td>\n",
       "        <td>2012-07-08 13:00:00</td>\n",
       "        <td>2012</td>\n",
       "        <td>7</td>\n",
       "        <td>Sunday</td>\n",
       "    </tr>\n",
       "    <tr>\n",
       "        <td>11</td>\n",
       "        <td>2012-07-08 14:14:00</td>\n",
       "        <td>2012</td>\n",
       "        <td>7</td>\n",
       "        <td>Sunday</td>\n",
       "    </tr>\n",
       "    <tr>\n",
       "        <td>12</td>\n",
       "        <td>2012-07-08 15:00:00</td>\n",
       "        <td>2012</td>\n",
       "        <td>7</td>\n",
       "        <td>Sunday</td>\n",
       "    </tr>\n",
       "    <tr>\n",
       "        <td>13</td>\n",
       "        <td>2012-07-08 15:00:00</td>\n",
       "        <td>2012</td>\n",
       "        <td>7</td>\n",
       "        <td>Sunday</td>\n",
       "    </tr>\n",
       "    <tr>\n",
       "        <td>14</td>\n",
       "        <td>2012-07-08 15:00:00</td>\n",
       "        <td>2012</td>\n",
       "        <td>7</td>\n",
       "        <td>Sunday</td>\n",
       "    </tr>\n",
       "    <tr>\n",
       "        <td>15</td>\n",
       "        <td>2012-07-08 15:05:00</td>\n",
       "        <td>2012</td>\n",
       "        <td>7</td>\n",
       "        <td>Sunday</td>\n",
       "    </tr>\n",
       "    <tr>\n",
       "        <td>16</td>\n",
       "        <td>2012-07-08 15:10:00</td>\n",
       "        <td>2012</td>\n",
       "        <td>7</td>\n",
       "        <td>Sunday</td>\n",
       "    </tr>\n",
       "    <tr>\n",
       "        <td>17</td>\n",
       "        <td>2012-07-08 15:35:00</td>\n",
       "        <td>2012</td>\n",
       "        <td>7</td>\n",
       "        <td>Sunday</td>\n",
       "    </tr>\n",
       "    <tr>\n",
       "        <td>18</td>\n",
       "        <td>2012-07-08 16:30:00</td>\n",
       "        <td>2012</td>\n",
       "        <td>7</td>\n",
       "        <td>Sunday</td>\n",
       "    </tr>\n",
       "    <tr>\n",
       "        <td>19</td>\n",
       "        <td>2012-07-08 16:55:00</td>\n",
       "        <td>2012</td>\n",
       "        <td>7</td>\n",
       "        <td>Sunday</td>\n",
       "    </tr>\n",
       "    <tr>\n",
       "        <td>20</td>\n",
       "        <td>2012-07-08 17:00:00</td>\n",
       "        <td>2012</td>\n",
       "        <td>7</td>\n",
       "        <td>Sunday</td>\n",
       "    </tr>\n",
       "</table>"
      ],
      "text/plain": [
       "[(1, datetime.datetime(2012, 7, 8, 6, 26), 2012, 7, 'Sunday'),\n",
       " (2, datetime.datetime(2012, 7, 8, 7, 50), 2012, 7, 'Sunday'),\n",
       " (3, datetime.datetime(2012, 7, 8, 9, 30), 2012, 7, 'Sunday'),\n",
       " (4, datetime.datetime(2012, 7, 8, 9, 55), 2012, 7, 'Sunday'),\n",
       " (5, datetime.datetime(2012, 7, 8, 10, 1), 2012, 7, 'Sunday'),\n",
       " (6, datetime.datetime(2012, 7, 8, 11, 9), 2012, 7, 'Sunday'),\n",
       " (7, datetime.datetime(2012, 7, 8, 11, 51), 2012, 7, 'Sunday'),\n",
       " (8, datetime.datetime(2012, 7, 8, 6, 0), 2012, 7, 'Sunday'),\n",
       " (9, datetime.datetime(2012, 7, 8, 12, 30), 2012, 7, 'Sunday'),\n",
       " (10, datetime.datetime(2012, 7, 8, 13, 0), 2012, 7, 'Sunday'),\n",
       " (11, datetime.datetime(2012, 7, 8, 14, 14), 2012, 7, 'Sunday'),\n",
       " (12, datetime.datetime(2012, 7, 8, 15, 0), 2012, 7, 'Sunday'),\n",
       " (13, datetime.datetime(2012, 7, 8, 15, 0), 2012, 7, 'Sunday'),\n",
       " (14, datetime.datetime(2012, 7, 8, 15, 0), 2012, 7, 'Sunday'),\n",
       " (15, datetime.datetime(2012, 7, 8, 15, 5), 2012, 7, 'Sunday'),\n",
       " (16, datetime.datetime(2012, 7, 8, 15, 10), 2012, 7, 'Sunday'),\n",
       " (17, datetime.datetime(2012, 7, 8, 15, 35), 2012, 7, 'Sunday'),\n",
       " (18, datetime.datetime(2012, 7, 8, 16, 30), 2012, 7, 'Sunday'),\n",
       " (19, datetime.datetime(2012, 7, 8, 16, 55), 2012, 7, 'Sunday'),\n",
       " (20, datetime.datetime(2012, 7, 8, 17, 0), 2012, 7, 'Sunday')]"
      ]
     },
     "execution_count": 38,
     "metadata": {},
     "output_type": "execute_result"
    }
   ],
   "source": [
    "%%sql\n",
    "select * \n",
    "from time_dim \n",
    "limit 20;"
   ]
  },
  {
   "cell_type": "markdown",
   "metadata": {},
   "source": [
    "### Create the fact table that contains the unique identifiers from dimension tables and the values we want to measure. "
   ]
  },
  {
   "cell_type": "code",
   "execution_count": 39,
   "metadata": {
    "collapsed": false
   },
   "outputs": [
    {
     "name": "stdout",
     "output_type": "stream",
     "text": [
      "Done.\n",
      "Done.\n"
     ]
    },
    {
     "data": {
      "text/plain": [
       "[]"
      ]
     },
     "execution_count": 39,
     "metadata": {},
     "output_type": "execute_result"
    }
   ],
   "source": [
    "%%sql\n",
    "DROP TABLE IF EXISTS fact;\n",
    "CREATE TABLE fact\n",
    "(   location_dim_id SERIAL NOT NULL,\n",
    "    time_dim_id SERIAL NOT NULL,\n",
    "    weapon_dim_id SERIAL NOT NULL,\n",
    "    \n",
    "    INCIDENT_TYPE_DESCRIPTION varchar(255),\n",
    "    MAIN_CRIMECODE varchar(10),\n",
    "    NatureCode varchar(6)\n",
    ");"
   ]
  },
  {
   "cell_type": "code",
   "execution_count": 40,
   "metadata": {
    "collapsed": false
   },
   "outputs": [
    {
     "name": "stdout",
     "output_type": "stream",
     "text": [
      "268056 rows affected.\n"
     ]
    },
    {
     "data": {
      "text/plain": [
       "[]"
      ]
     },
     "execution_count": 40,
     "metadata": {},
     "output_type": "execute_result"
    }
   ],
   "source": [
    "%%sql\n",
    "INSERT INTO fact(location_dim_id)\n",
    "SELECT location_dim_id\n",
    "FROM location_dim;"
   ]
  },
  {
   "cell_type": "code",
   "execution_count": 41,
   "metadata": {
    "collapsed": false
   },
   "outputs": [
    {
     "name": "stdout",
     "output_type": "stream",
     "text": [
      "268056 rows affected.\n"
     ]
    },
    {
     "data": {
      "text/plain": [
       "[]"
      ]
     },
     "execution_count": 41,
     "metadata": {},
     "output_type": "execute_result"
    }
   ],
   "source": [
    "%%sql\n",
    "INSERT INTO fact(time_dim_id)\n",
    "SELECT time_dim_id\n",
    "FROM time_dim;"
   ]
  },
  {
   "cell_type": "code",
   "execution_count": 42,
   "metadata": {
    "collapsed": false
   },
   "outputs": [
    {
     "name": "stdout",
     "output_type": "stream",
     "text": [
      "268056 rows affected.\n"
     ]
    },
    {
     "data": {
      "text/plain": [
       "[]"
      ]
     },
     "execution_count": 42,
     "metadata": {},
     "output_type": "execute_result"
    }
   ],
   "source": [
    "%%sql\n",
    "INSERT INTO fact(weapon_dim_id)\n",
    "SELECT weapon_dim_id\n",
    "FROM weapon_dim;"
   ]
  },
  {
   "cell_type": "code",
   "execution_count": 43,
   "metadata": {
    "collapsed": false
   },
   "outputs": [
    {
     "name": "stdout",
     "output_type": "stream",
     "text": [
      "268056 rows affected.\n"
     ]
    },
    {
     "data": {
      "text/plain": [
       "[]"
      ]
     },
     "execution_count": 43,
     "metadata": {},
     "output_type": "execute_result"
    }
   ],
   "source": [
    "%%sql\n",
    "INSERT INTO fact(INCIDENT_TYPE_DESCRIPTION, MAIN_CRIMECODE, NatureCode )\n",
    "SELECT INCIDENT_TYPE_DESCRIPTION, MAIN_CRIMECODE, NatureCode\n",
    "from boston\n",
    ";"
   ]
  },
  {
   "cell_type": "markdown",
   "metadata": {},
   "source": [
    "## Problem 4 - explore your data in its new schema (30 points)\n",
    "\n",
    "Strictly using the dimensional model tables you defined and populated for Problem 3, explore your data in its new form.  Use any of the query strategies we've seen in class, including transformations, aggregates, subqueries, rollups, and, of course, joins.  Add plots to highlight particular themes that stand out.  Describe your thinking and observations along the way."
   ]
  },
  {
   "cell_type": "markdown",
   "metadata": {},
   "source": [
    "Now we can take a look at how those crime incidents distributed in years from 2012-2015 and see if we can find any pattern. It seems that the result peaks in year 2013 and 2014 and started to go down in year 2015."
   ]
  },
  {
   "cell_type": "code",
   "execution_count": 44,
   "metadata": {
    "collapsed": false
   },
   "outputs": [
    {
     "name": "stdout",
     "output_type": "stream",
     "text": [
      "4 rows affected.\n"
     ]
    },
    {
     "data": {
      "text/html": [
       "<table>\n",
       "    <tr>\n",
       "        <th>year</th>\n",
       "        <th>count</th>\n",
       "    </tr>\n",
       "    <tr>\n",
       "        <td>2012</td>\n",
       "        <td>86372</td>\n",
       "    </tr>\n",
       "    <tr>\n",
       "        <td>2013</td>\n",
       "        <td>174104</td>\n",
       "    </tr>\n",
       "    <tr>\n",
       "        <td>2014</td>\n",
       "        <td>176116</td>\n",
       "    </tr>\n",
       "    <tr>\n",
       "        <td>2015</td>\n",
       "        <td>99520</td>\n",
       "    </tr>\n",
       "</table>"
      ],
      "text/plain": [
       "[(2012, 86372), (2013, 174104), (2014, 176116), (2015, 99520)]"
      ]
     },
     "execution_count": 44,
     "metadata": {},
     "output_type": "execute_result"
    }
   ],
   "source": [
    "%%sql\n",
    "SELECT year, COUNT(*) \n",
    "FROM time_dim a, fact b\n",
    "WHERE a.time_dim_id = b.time_dim_id\n",
    "GROUP BY a.year\n",
    "ORDER BY year;"
   ]
  },
  {
   "cell_type": "code",
   "execution_count": 45,
   "metadata": {
    "collapsed": false
   },
   "outputs": [
    {
     "data": {
      "text/plain": [
       "<Container object of 4 artists>"
      ]
     },
     "execution_count": 45,
     "metadata": {},
     "output_type": "execute_result"
    },
    {
     "data": {
      "image/png": "[encoded data removed]",
      "text/plain": [
       "<matplotlib.figure.Figure at 0x7fee850f82e8>"
      ]
     },
     "metadata": {},
     "output_type": "display_data"
    }
   ],
   "source": [
    "%matplotlib inline\n",
    "result = _\n",
    "result.bar()"
   ]
  },
  {
   "cell_type": "markdown",
   "metadata": {},
   "source": [
    "we are interested in the crime rates in each month over the 4 years. It seems like that July has the most number of crimes occured. The rest of each month has the similar crime rate."
   ]
  },
  {
   "cell_type": "code",
   "execution_count": 46,
   "metadata": {
    "collapsed": false
   },
   "outputs": [
    {
     "name": "stdout",
     "output_type": "stream",
     "text": [
      "12 rows affected.\n"
     ]
    },
    {
     "data": {
      "text/html": [
       "<table>\n",
       "    <tr>\n",
       "        <th>month</th>\n",
       "        <th>count</th>\n",
       "    </tr>\n",
       "    <tr>\n",
       "        <td>1</td>\n",
       "        <td>41394</td>\n",
       "    </tr>\n",
       "    <tr>\n",
       "        <td>2</td>\n",
       "        <td>36922</td>\n",
       "    </tr>\n",
       "    <tr>\n",
       "        <td>3</td>\n",
       "        <td>42590</td>\n",
       "    </tr>\n",
       "    <tr>\n",
       "        <td>4</td>\n",
       "        <td>41860</td>\n",
       "    </tr>\n",
       "    <tr>\n",
       "        <td>5</td>\n",
       "        <td>46588</td>\n",
       "    </tr>\n",
       "    <tr>\n",
       "        <td>6</td>\n",
       "        <td>44264</td>\n",
       "    </tr>\n",
       "    <tr>\n",
       "        <td>7</td>\n",
       "        <td>58226</td>\n",
       "    </tr>\n",
       "    <tr>\n",
       "        <td>8</td>\n",
       "        <td>51050</td>\n",
       "    </tr>\n",
       "    <tr>\n",
       "        <td>9</td>\n",
       "        <td>46318</td>\n",
       "    </tr>\n",
       "    <tr>\n",
       "        <td>10</td>\n",
       "        <td>45672</td>\n",
       "    </tr>\n",
       "    <tr>\n",
       "        <td>11</td>\n",
       "        <td>40758</td>\n",
       "    </tr>\n",
       "    <tr>\n",
       "        <td>12</td>\n",
       "        <td>40470</td>\n",
       "    </tr>\n",
       "</table>"
      ],
      "text/plain": [
       "[(1, 41394),\n",
       " (2, 36922),\n",
       " (3, 42590),\n",
       " (4, 41860),\n",
       " (5, 46588),\n",
       " (6, 44264),\n",
       " (7, 58226),\n",
       " (8, 51050),\n",
       " (9, 46318),\n",
       " (10, 45672),\n",
       " (11, 40758),\n",
       " (12, 40470)]"
      ]
     },
     "execution_count": 46,
     "metadata": {},
     "output_type": "execute_result"
    }
   ],
   "source": [
    "%%sql\n",
    "SELECT month, COUNT(*) \n",
    "FROM time_dim a, fact b\n",
    "WHERE a.time_dim_id = b.time_dim_id\n",
    "GROUP BY a.month\n",
    "ORDER BY month;"
   ]
  },
  {
   "cell_type": "code",
   "execution_count": 47,
   "metadata": {
    "collapsed": false
   },
   "outputs": [
    {
     "data": {
      "text/plain": [
       "<Container object of 12 artists>"
      ]
     },
     "execution_count": 47,
     "metadata": {},
     "output_type": "execute_result"
    },
    {
     "data": {
      "image/png": "[encoded data removed]",
      "text/plain": [
       "<matplotlib.figure.Figure at 0x7fee828717f0>"
      ]
     },
     "metadata": {},
     "output_type": "display_data"
    }
   ],
   "source": [
    "%matplotlib inline\n",
    "result = _\n",
    "result.bar()"
   ]
  },
  {
   "cell_type": "markdown",
   "metadata": {},
   "source": [
    "We are also interested in finding out whether the crime incidents happened around some particular areas more often so we run the query to look at the relationship between location and crime count. "
   ]
  },
  {
   "cell_type": "code",
   "execution_count": 48,
   "metadata": {
    "collapsed": false
   },
   "outputs": [
    {
     "name": "stdout",
     "output_type": "stream",
     "text": [
      "10 rows affected.\n"
     ]
    },
    {
     "data": {
      "text/html": [
       "<table>\n",
       "    <tr>\n",
       "        <th>location</th>\n",
       "        <th>count</th>\n",
       "    </tr>\n",
       "    <tr>\n",
       "        <td>(0.0, 0.0)</td>\n",
       "        <td>29962</td>\n",
       "    </tr>\n",
       "    <tr>\n",
       "        <td>(42.23226359, -71.12924508)</td>\n",
       "        <td>10</td>\n",
       "    </tr>\n",
       "    <tr>\n",
       "        <td>(42.23236137, -71.12969454)</td>\n",
       "        <td>14</td>\n",
       "    </tr>\n",
       "    <tr>\n",
       "        <td>(42.2324132977634, -71.1297152979246)</td>\n",
       "        <td>2</td>\n",
       "    </tr>\n",
       "    <tr>\n",
       "        <td>(42.23264637, -71.13066455)</td>\n",
       "        <td>6</td>\n",
       "    </tr>\n",
       "    <tr>\n",
       "        <td>(42.23282637, -71.13002954)</td>\n",
       "        <td>4</td>\n",
       "    </tr>\n",
       "    <tr>\n",
       "        <td>(42.23289147, -71.13165489)</td>\n",
       "        <td>10</td>\n",
       "    </tr>\n",
       "    <tr>\n",
       "        <td>(42.23296137, -71.13050955)</td>\n",
       "        <td>2</td>\n",
       "    </tr>\n",
       "    <tr>\n",
       "        <td>(42.23304637, -71.13265954)</td>\n",
       "        <td>2</td>\n",
       "    </tr>\n",
       "    <tr>\n",
       "        <td>(42.23308637, -71.13099954)</td>\n",
       "        <td>2</td>\n",
       "    </tr>\n",
       "</table>"
      ],
      "text/plain": [
       "[('(0.0, 0.0)', 29962),\n",
       " ('(42.23226359, -71.12924508)', 10),\n",
       " ('(42.23236137, -71.12969454)', 14),\n",
       " ('(42.2324132977634, -71.1297152979246)', 2),\n",
       " ('(42.23264637, -71.13066455)', 6),\n",
       " ('(42.23282637, -71.13002954)', 4),\n",
       " ('(42.23289147, -71.13165489)', 10),\n",
       " ('(42.23296137, -71.13050955)', 2),\n",
       " ('(42.23304637, -71.13265954)', 2),\n",
       " ('(42.23308637, -71.13099954)', 2)]"
      ]
     },
     "execution_count": 48,
     "metadata": {},
     "output_type": "execute_result"
    }
   ],
   "source": [
    "%%sql\n",
    "SELECT LOCATION, COUNT(*) \n",
    "FROM location_dim a, fact b\n",
    "WHERE a.location_dim_id = b.location_dim_id\n",
    "GROUP BY a.LOCATION\n",
    "ORDER BY LOCATION\n",
    "limit 10;"
   ]
  },
  {
   "cell_type": "markdown",
   "metadata": {},
   "source": [
    "From the result above, we can see that a majority of incident's location is ambigous and not clearly recorded. "
   ]
  },
  {
   "cell_type": "markdown",
   "metadata": {},
   "source": [
    "We are also interested in which kind of weapon the offender used when they omitted crimes"
   ]
  },
  {
   "cell_type": "code",
   "execution_count": 49,
   "metadata": {
    "collapsed": false
   },
   "outputs": [
    {
     "name": "stdout",
     "output_type": "stream",
     "text": [
      "8 rows affected.\n"
     ]
    },
    {
     "data": {
      "text/html": [
       "<table>\n",
       "    <tr>\n",
       "        <th>weapontype</th>\n",
       "        <th>count</th>\n",
       "    </tr>\n",
       "    <tr>\n",
       "        <td>Blunt Object</td>\n",
       "        <td>156</td>\n",
       "    </tr>\n",
       "    <tr>\n",
       "        <td>Firearm</td>\n",
       "        <td>10598</td>\n",
       "    </tr>\n",
       "    <tr>\n",
       "        <td>Knife</td>\n",
       "        <td>7734</td>\n",
       "    </tr>\n",
       "    <tr>\n",
       "        <td>Knife/Cutting Instrument</td>\n",
       "        <td>354</td>\n",
       "    </tr>\n",
       "    <tr>\n",
       "        <td>None</td>\n",
       "        <td>22638</td>\n",
       "    </tr>\n",
       "    <tr>\n",
       "        <td>Other</td>\n",
       "        <td>104204</td>\n",
       "    </tr>\n",
       "    <tr>\n",
       "        <td>Personal Weapon (hand  foot  etc.)</td>\n",
       "        <td>564</td>\n",
       "    </tr>\n",
       "    <tr>\n",
       "        <td>Unarmed</td>\n",
       "        <td>389864</td>\n",
       "    </tr>\n",
       "</table>"
      ],
      "text/plain": [
       "[('Blunt Object', 156),\n",
       " ('Firearm', 10598),\n",
       " ('Knife', 7734),\n",
       " ('Knife/Cutting Instrument', 354),\n",
       " ('None', 22638),\n",
       " ('Other', 104204),\n",
       " ('Personal Weapon (hand  foot  etc.)', 564),\n",
       " ('Unarmed', 389864)]"
      ]
     },
     "execution_count": 49,
     "metadata": {},
     "output_type": "execute_result"
    }
   ],
   "source": [
    "%%sql\n",
    "SELECT WEAPONTYPE, COUNT(*) \n",
    "FROM weapon_dim a, fact b\n",
    "WHERE a.weapon_dim_id = b.weapon_dim_id\n",
    "GROUP BY a.weapontype\n",
    "ORDER BY weapontype\n",
    "LIMIT 10\n",
    ";"
   ]
  },
  {
   "cell_type": "markdown",
   "metadata": {},
   "source": [
    "We see from the result that Unarmed is the top 1 weapon type that a crime used, so most of the crimes were comitted with some factor of impulse and irrationality. Except for some ambiguouness, the other two mostly used weapon types are firearm and knife, which are in some degree belongs to planned crimes. "
   ]
  },
  {
   "cell_type": "code",
   "execution_count": 50,
   "metadata": {
    "collapsed": false
   },
   "outputs": [
    {
     "data": {
      "text/plain": [
       "([<matplotlib.patches.Wedge at 0x7fee80edf6d8>,\n",
       "  <matplotlib.patches.Wedge at 0x7fee80ee5390>,\n",
       "  <matplotlib.patches.Wedge at 0x7fee80ee5f98>,\n",
       "  <matplotlib.patches.Wedge at 0x7fee80eecc18>,\n",
       "  <matplotlib.patches.Wedge at 0x7fee80e71898>,\n",
       "  <matplotlib.patches.Wedge at 0x7fee80e76518>,\n",
       "  <matplotlib.patches.Wedge at 0x7fee80e7e198>,\n",
       "  <matplotlib.patches.Wedge at 0x7fee80e7edd8>],\n",
       " [<matplotlib.text.Text at 0x7fee80edfef0>,\n",
       "  <matplotlib.text.Text at 0x7fee80ee5b38>,\n",
       "  <matplotlib.text.Text at 0x7fee80eec7b8>,\n",
       "  <matplotlib.text.Text at 0x7fee80e71438>,\n",
       "  <matplotlib.text.Text at 0x7fee80e71f98>,\n",
       "  <matplotlib.text.Text at 0x7fee80e76cf8>,\n",
       "  <matplotlib.text.Text at 0x7fee80e7e978>,\n",
       "  <matplotlib.text.Text at 0x7fee80e825f8>])"
      ]
     },
     "execution_count": 50,
     "metadata": {},
     "output_type": "execute_result"
    },
    {
     "data": {
      "image/png": "[encoded data removed]",
      "text/plain": [
       "<matplotlib.figure.Figure at 0x7fee850eea90>"
      ]
     },
     "metadata": {},
     "output_type": "display_data"
    }
   ],
   "source": [
    "%matplotlib inline\n",
    "result = _\n",
    "result.pie()"
   ]
  },
  {
   "cell_type": "markdown",
   "metadata": {},
   "source": [
    "We also want to see whether the seasonal changes has any effect on the crime rates, so we picked one month from each quarter to see the crime count. And it seems that summer has the highest count of crime, which coincide with some scientific idea that crime rates peak in summer due to the relatively high temperature and some other factors. "
   ]
  },
  {
   "cell_type": "code",
   "execution_count": 51,
   "metadata": {
    "collapsed": false
   },
   "outputs": [
    {
     "name": "stdout",
     "output_type": "stream",
     "text": [
      "4 rows affected.\n"
     ]
    },
    {
     "data": {
      "text/html": [
       "<table>\n",
       "    <tr>\n",
       "        <th>month</th>\n",
       "        <th>count</th>\n",
       "    </tr>\n",
       "    <tr>\n",
       "        <td>7</td>\n",
       "        <td>58226</td>\n",
       "    </tr>\n",
       "    <tr>\n",
       "        <td>10</td>\n",
       "        <td>45672</td>\n",
       "    </tr>\n",
       "    <tr>\n",
       "        <td>12</td>\n",
       "        <td>40470</td>\n",
       "    </tr>\n",
       "    <tr>\n",
       "        <td>2</td>\n",
       "        <td>36922</td>\n",
       "    </tr>\n",
       "</table>"
      ],
      "text/plain": [
       "[(7, 58226), (10, 45672), (12, 40470), (2, 36922)]"
      ]
     },
     "execution_count": 51,
     "metadata": {},
     "output_type": "execute_result"
    }
   ],
   "source": [
    "%%sql\n",
    "SELECT a.Month, COUNT(*) \n",
    "FROM time_dim a, fact b\n",
    "WHERE a.time_dim_id = b.time_dim_id\n",
    "AND (a.Month =2 OR a.Month = 7  OR a.Month = 10 OR a.Month = 12)\n",
    "GROUP BY Month\n",
    "ORDER BY COUNT DESC;"
   ]
  },
  {
   "cell_type": "markdown",
   "metadata": {},
   "source": [
    "Lastly, we wanted to see whether crimes happened more on a specific day of the week or on weekends. Our guess is that the results would not differs too much however on weekends there might be more crimes because of more drinking and more outdoor activities on weekends. "
   ]
  },
  {
   "cell_type": "code",
   "execution_count": 52,
   "metadata": {
    "collapsed": false,
    "scrolled": true
   },
   "outputs": [
    {
     "name": "stdout",
     "output_type": "stream",
     "text": [
      "7 rows affected.\n"
     ]
    },
    {
     "data": {
      "text/html": [
       "<table>\n",
       "    <tr>\n",
       "        <th>day_week</th>\n",
       "        <th>count</th>\n",
       "    </tr>\n",
       "    <tr>\n",
       "        <td>Saturday</td>\n",
       "        <td>76892</td>\n",
       "    </tr>\n",
       "    <tr>\n",
       "        <td>Friday</td>\n",
       "        <td>84062</td>\n",
       "    </tr>\n",
       "    <tr>\n",
       "        <td>Thursday</td>\n",
       "        <td>77254</td>\n",
       "    </tr>\n",
       "    <tr>\n",
       "        <td>Wednesday</td>\n",
       "        <td>76784</td>\n",
       "    </tr>\n",
       "    <tr>\n",
       "        <td>Tuesday</td>\n",
       "        <td>75822</td>\n",
       "    </tr>\n",
       "    <tr>\n",
       "        <td>Monday</td>\n",
       "        <td>76512</td>\n",
       "    </tr>\n",
       "    <tr>\n",
       "        <td>Sunday</td>\n",
       "        <td>68786</td>\n",
       "    </tr>\n",
       "</table>"
      ],
      "text/plain": [
       "[('Saturday', 76892),\n",
       " ('Friday', 84062),\n",
       " ('Thursday', 77254),\n",
       " ('Wednesday', 76784),\n",
       " ('Tuesday', 75822),\n",
       " ('Monday', 76512),\n",
       " ('Sunday', 68786)]"
      ]
     },
     "execution_count": 52,
     "metadata": {},
     "output_type": "execute_result"
    }
   ],
   "source": [
    "%%sql\n",
    "SELECT a.day_week, COUNT(*) as count\n",
    "FROM time_dim a, fact b\n",
    "WHERE a.time_dim_id = b.time_dim_id\n",
    "GROUP BY day_week\n",
    "ORDER BY CASE WHEN day_week = 'Sunday' THEN '1'\n",
    "              WHEN day_week = 'Monday' THEN '2'\n",
    "              WHEN day_week = 'Tuesday' THEN '3'\n",
    "              WHEN day_week = 'Wednesday' THEN '4'\n",
    "              WHEN day_week = 'Thursday' THEN '5'\n",
    "              WHEN day_week = 'Friday' THEN '6'\n",
    "              WHEN day_week = 'Saturday' THEN '7'\n",
    "              ELSE day_week END \n",
    "\n",
    "DESC;"
   ]
  },
  {
   "cell_type": "code",
   "execution_count": 53,
   "metadata": {
    "collapsed": false
   },
   "outputs": [
    {
     "data": {
      "text/plain": [
       "([<matplotlib.patches.Wedge at 0x7fee80e52e80>,\n",
       "  <matplotlib.patches.Wedge at 0x7fee80e57b70>,\n",
       "  <matplotlib.patches.Wedge at 0x7fee80e5e7f0>,\n",
       "  <matplotlib.patches.Wedge at 0x7fee80e63470>,\n",
       "  <matplotlib.patches.Wedge at 0x7fee80e6a0f0>,\n",
       "  <matplotlib.patches.Wedge at 0x7fee80e6ad30>,\n",
       "  <matplotlib.patches.Wedge at 0x7fee80def9b0>],\n",
       " [<matplotlib.text.Text at 0x7fee80e57710>,\n",
       "  <matplotlib.text.Text at 0x7fee80e5e390>,\n",
       "  <matplotlib.text.Text at 0x7fee80e5efd0>,\n",
       "  <matplotlib.text.Text at 0x7fee80e63c50>,\n",
       "  <matplotlib.text.Text at 0x7fee80e6a8d0>,\n",
       "  <matplotlib.text.Text at 0x7fee80def550>,\n",
       "  <matplotlib.text.Text at 0x7fee80df6128>])"
      ]
     },
     "execution_count": 53,
     "metadata": {},
     "output_type": "execute_result"
    },
    {
     "data": {
      "image/png": "[encoded data removed]",
      "text/plain": [
       "<matplotlib.figure.Figure at 0x7fee80f08b38>"
      ]
     },
     "metadata": {},
     "output_type": "display_data"
    }
   ],
   "source": [
    "%matplotlib inline\n",
    "result = _\n",
    "result.pie()"
   ]
  },
  {
   "cell_type": "markdown",
   "metadata": {},
   "source": [
    "## Bonus (10 points for one of A or B)\n",
    "\n",
    "\n",
    "### Option A - Automating ETL\n",
    "\n",
    "Consider the work you did to load your original raw dataset and then transform it into a dimensional model for analysis.  What would it take to automate this process?  How often would you need to update the data?  Could you easily automate any data cleaning steps?  What checks would you need to put in place to ensure quality?  Would humans need to be involved, or could you automate it all?\n",
    "\n",
    "Discuss.\n",
    "\n",
    "\n",
    "### Option B - Augmenting dimensions\n",
    "\n",
    "Considering your dimensional model, what external data could you find to augment it?  As in the case of bike trips, where weather might provide an interesting added dimension/context not present in the original data, you can probably find another source of data to complement your own model.  Identify one such source and add it to your model, demonstrating its value with a few new queries."
   ]
  },
  {
   "cell_type": "markdown",
   "metadata": {},
   "source": [
    "In order to automate the process, we would need to have a time mechanism to accomendate the time change. For example, we can have a primary key for time so that whenever the process is updated the new process will be update according to time changes automatically.\n",
    "\n",
    "It will be better to update the data every time it is being received, which means, we should update the data in real time. However, it doesnt seem to be practical when it comes to realilty to deal with millions of data. So update twice a day or daily sounds practical.So practically speaking, these data can be updated in real-time or in batch (daily, weekly, monthly) depending on how much data we’re working with.\n",
    "\n",
    "When a data is collected, we should always deal with the data quality issue before we move to analyze the data. We have to avoid the null variables or keep on improving the missing values. This cleaning process can be done automatically by setting up a stored procedure.So when there is new data entering into the system, the procedure can start to clean the data automatically.\n",
    "\n",
    "Human is surely needed to be involved in the process in order to maintain the accuracy of the auto procedure's function.But to what extent of the human involvment, it depends on the set up of the auto procedure and data quality."
   ]
  },
  {
   "cell_type": "markdown",
   "metadata": {},
   "source": [
    "### The End"
   ]
  },
  {
   "cell_type": "markdown",
   "metadata": {},
   "source": [
    "Di Niu and Yi Yang shared equal amount of workload for project 2 and we worked on all the problems together. "
   ]
  },
  {
   "cell_type": "code",
   "execution_count": null,
   "metadata": {
    "collapsed": true
   },
   "outputs": [],
   "source": []
  }
 ],
 "metadata": {
  "anaconda-cloud": {},
  "kernelspec": {
   "display_name": "Python 3",
   "language": "python",
   "name": "python3"
  },
  "language_info": {
   "codemirror_mode": {
    "name": "ipython",
    "version": 3
   },
   "file_extension": ".py",
   "mimetype": "text/x-python",
   "name": "python",
   "nbconvert_exporter": "python",
   "pygments_lexer": "ipython3",
   "version": "3.5.2"
  }
 },
 "nbformat": 4,
 "nbformat_minor": 1
}

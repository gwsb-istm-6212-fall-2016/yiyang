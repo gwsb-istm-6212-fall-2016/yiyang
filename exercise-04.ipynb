{
 "cells": [
  {
   "cell_type": "markdown",
   "metadata": {},
   "source": [
    "# Exercise 04 - Due Friday, October 21 at 12pm\n",
    "\n",
    "*Objectives*: Gain experience loading a CSV dataset into a database model you define yourself and using SQL to explore its contents. Explore the data by writing and executing a number of SQL queries using common syntax and functions and describing your findings.\n",
    "\n",
    "*Grading criteria*: The tasks should all be completed, and questions should all be answered with SQL queries in the space provided, unless a text answer is requested. Results should be correct, according to the embedded tests. The notebook itself should be completely reproducible; from start to finish, another person should be able to use the same code to obtain the same results as yours.  Note that you will receive no more than partial credit if you do not add text/markdown cells explaining your thinking at each major step in each problem.\n",
    "\n",
    "*Deadline*: Friday, October 21, 12pm. Submit your notebook to Blackboard and push it to your GitHub repository.\n",
    "\n",
    "## Setup - obtain data and create database\n",
    "\n",
    "The US City Open Data Census has data on [restaurant inspections from all over the country](http://us-city.census.okfn.org/dataset/food-safety).  Let's take a look at data from Albuquerque.  *Note*: metadata and other details for this dataset are available at http://data.cabq.gov/business/foodinspections/.\n",
    "\n",
    "Fyi, to save you a step, I've converted this file into a clean CSV file by using the `dos2unix` command to change its line endings and to switch it to use commas instead of tabs using `csvformat -t inputfile.csv > outputfile.csv`.\n",
    "\n",
    "First we download the dataset:"
   ]
  },
  {
   "cell_type": "code",
   "execution_count": 1,
   "metadata": {
    "collapsed": false
   },
   "outputs": [
    {
     "name": "stdout",
     "output_type": "stream",
     "text": [
      "--2016-10-24 04:13:25--  https://raw.githubusercontent.com/gwsb-istm-6212-fall-2016/syllabus-and-schedule/master/exercises/abq-food-inspections-fy2010.csv\n",
      "Resolving raw.githubusercontent.com (raw.githubusercontent.com)... 151.101.32.133\n",
      "Connecting to raw.githubusercontent.com (raw.githubusercontent.com)|151.101.32.133|:443... connected.\n",
      "HTTP request sent, awaiting response... 200 OK\n",
      "Length: 5025226 (4.8M) [text/plain]\n",
      "Saving to: ‘abq-food-inspections-fy2010.csv’\n",
      "\n",
      "abq-food-inspection 100%[=====================>]   4.79M  --.-KB/s   in 0.1s   \n",
      "\n",
      "2016-10-24 04:13:25 (35.5 MB/s) - ‘abq-food-inspections-fy2010.csv’ saved [5025226/5025226]\n",
      "\n"
     ]
    }
   ],
   "source": [
    "!wget https://raw.githubusercontent.com/gwsb-istm-6212-fall-2016/syllabus-and-schedule/master/exercises/abq-food-inspections-fy2010.csv"
   ]
  },
  {
   "cell_type": "markdown",
   "metadata": {},
   "source": [
    "## Problem 1 - examine the data (35 points)\n",
    "\n",
    "Use `csvstat` and other tools as you see fit and observe its contents.  Review the metadata definitions linked to above.  Describe what you see:  What do all the columns mean?  Are there null values?  Which columns interest you the most?  Which columns present some complications or questions you would like to ask?"
   ]
  },
  {
   "cell_type": "markdown",
   "metadata": {},
   "source": [
    "rename the data with something shorter than the original name"
   ]
  },
  {
   "cell_type": "code",
   "execution_count": 2,
   "metadata": {
    "collapsed": true
   },
   "outputs": [],
   "source": [
    "!mv abq-food-inspections-fy2010.csv abq.csv"
   ]
  },
  {
   "cell_type": "markdown",
   "metadata": {},
   "source": [
    "Here are all variables we have."
   ]
  },
  {
   "cell_type": "code",
   "execution_count": 3,
   "metadata": {
    "collapsed": false
   },
   "outputs": [
    {
     "name": "stdout",
     "output_type": "stream",
     "text": [
      "  1: FACILITY_NAME\r\n",
      "  2: FACILITY_KEY\r\n",
      "  3: SITE_ADDRESS\r\n",
      "  4: CITY\r\n",
      "  5: STATE\r\n",
      "  6: ZIP\r\n",
      "  7: OWNER_KEY\r\n",
      "  8: OWNER_NAME\r\n",
      "  9: NATURE_OF_BUSINESS\r\n",
      " 10: STREET_NUMBER\r\n",
      " 11: STREET_NAME\r\n",
      " 12: STREET_TYPE\r\n",
      " 13: POST_DIRECTIONAL\r\n",
      " 14: PHONE\r\n",
      " 15: PROGRAM_CATEGORY\r\n",
      " 16: PROGRAM_CATEGORY_DESCRIPTION\r\n",
      " 17: INSPECTION_DATE\r\n",
      " 18: INSPECTION_TYPE\r\n",
      " 19: INSPECTION_DESC\r\n",
      " 20: SERIAL_NUM\r\n",
      " 21: ACTION_CODE\r\n",
      " 22: ACTION_DESC\r\n",
      " 23: RESULT_CODE\r\n",
      " 24: RESULT_DESC\r\n",
      " 25: VIOLATION_CODE\r\n",
      " 26: VIOLATION_DESC\r\n",
      " 27: INSPECTION_MEMO\r\n"
     ]
    }
   ],
   "source": [
    "!csvcut -n abq.csv"
   ]
  },
  {
   "cell_type": "markdown",
   "metadata": {},
   "source": [
    "We can take a closer look at the stats of those variables."
   ]
  },
  {
   "cell_type": "code",
   "execution_count": 4,
   "metadata": {
    "collapsed": false
   },
   "outputs": [
    {
     "name": "stdout",
     "output_type": "stream",
     "text": [
      "  1. FACILITY_NAME\n",
      "\t<class 'str'>\n",
      "\tNulls: False\n",
      "\tUnique values: 2615\n",
      "\t5 most frequent values:\n",
      "\t\tSMITHS FOOD AND DRUG CENTERS INC:\t154\n",
      "\t\tISOTOPES PARK - OVATIONS:\t93\n",
      "\t\tPER EHSII CECELIA GARCIA OOB LA REYNA DEL SUR:\t85\n",
      "\t\tISLETA AMPHITHEATER:\t68\n",
      "\t\tECHO INC:\t68\n",
      "\tMax length: 77\n",
      "  2. FACILITY_KEY\n",
      "\t<class 'int'>\n",
      "\tNulls: False\n",
      "\tMin: 13\n",
      "\tMax: 101482\n",
      "\tSum: 820405773\n",
      "\tMean: 46730.79135338346\n",
      "\tMedian: 50866.0\n",
      "\tStandard Deviation: 32659.794578837962\n",
      "\tUnique values: 2835\n",
      "\t5 most frequent values:\n",
      "\t\t46323:\t93\n",
      "\t\t65863:\t85\n",
      "\t\t80949:\t68\n",
      "\t\t32817:\t68\n",
      "\t\t91825:\t66\n",
      "  3. SITE_ADDRESS\n",
      "\t<class 'str'>\n",
      "\tNulls: True\n",
      "\tUnique values: 2456\n",
      "\t5 most frequent values:\n",
      "\t\t1601 AVENIDA CESAR CHAVEZ SE:\t94\n",
      "\t\t644 OLD COORS BLVD SW:\t85\n",
      "\t\t8601 CENTRAL AV NE:\t77\n",
      "\t\t2200 SUNPORT BLVD SE:\t75\n",
      "\t\t5210 CENTRAL AV SE:\t73\n",
      "\tMax length: 35\n",
      "  4. CITY\n",
      "\t<class 'str'>\n",
      "\tNulls: False\n",
      "\tValues: ALBUQUERQUE\n",
      "  5. STATE\n",
      "\t<class 'str'>\n",
      "\tNulls: False\n",
      "\tValues: 87, NM\n",
      "  6. ZIP\n",
      "\t<class 'str'>\n",
      "\tNulls: False\n",
      "\tUnique values: 48\n",
      "\t5 most frequent values:\n",
      "\t\t87110:\t1996\n",
      "\t\t87108:\t1976\n",
      "\t\t87102:\t1601\n",
      "\t\t87106:\t1568\n",
      "\t\t87109:\t1552\n",
      "\tMax length: 10\n",
      "  7. OWNER_KEY\n",
      "\t<class 'int'>\n",
      "\tNulls: False\n",
      "\tMin: 11\n",
      "\tMax: 87302\n",
      "\tSum: 644760848\n",
      "\tMean: 36725.953975848715\n",
      "\tMedian: 33747.0\n",
      "\tStandard Deviation: 29428.207216739836\n",
      "\tUnique values: 1892\n",
      "\t5 most frequent values:\n",
      "\t\t1838:\t792\n",
      "\t\t3537:\t321\n",
      "\t\t1272:\t228\n",
      "\t\t36280:\t156\n",
      "\t\t80274:\t155\n",
      "  8. OWNER_NAME\n",
      "\t<class 'str'>\n",
      "\tNulls: False\n",
      "\tUnique values: 1852\n",
      "\t5 most frequent values:\n",
      "\t\tAPS:\t792\n",
      "\t\tSMITHS FOOD AND DRUG CENTERS INC:\t321\n",
      "\t\tCIRCLE K STORES INC:\t277\n",
      "\t\tALBERTSONS:\t228\n",
      "\t\tWAL MART STORES EAST  LP:\t156\n",
      "\tMax length: 82\n",
      "  9. NATURE_OF_BUSINESS\n",
      "\t<class 'str'>\n",
      "\tNulls: True\n",
      "\tUnique values: 594\n",
      "\t5 most frequent values:\n",
      "\t\tRESTAURANT:\t4994\n",
      "\t\tFOOD SERVICE:\t691\n",
      "\t\tGROCERY:\t618\n",
      "\t\tBAR/RESTAURANT:\t508\n",
      "\t\tAPS SCHOOL FOOD SERVICE:\t470\n",
      "\tMax length: 25\n",
      " 10. STREET_NUMBER\n",
      "\t<class 'str'>\n",
      "\tNulls: True\n",
      "\tUnique values: 1349\n",
      "\t5 most frequent values:\n",
      "\t\t6600:\t216\n",
      "\t\t10000:\t152\n",
      "\t\t300:\t143\n",
      "\t\t2200:\t127\n",
      "\t\t8100:\t125\n",
      "\tMax length: 7\n",
      " 11. STREET_NAME\n",
      "\t<class 'str'>\n",
      "\tNulls: True\n",
      "\tUnique values: 404\n",
      "\t5 most frequent values:\n",
      "\t\tCENTRAL:\t1898\n",
      "\t\tMENAUL:\t928\n",
      "\t\tCOORS:\t918\n",
      "\t\tMONTGOMERY:\t727\n",
      "\t\tSAN MATEO:\t707\n",
      "\tMax length: 24\n",
      " 12. STREET_TYPE\n",
      "\t<class 'str'>\n",
      "\tNulls: True\n",
      "\tUnique values: 13\n",
      "\t5 most frequent values:\n",
      "\t\tBLVD:\t7636\n",
      "\t\tAV:\t3005\n",
      "\t\tST:\t2065\n",
      "\t\tRD:\t1900\n",
      "\t\tDR:\t995\n",
      "\tMax length: 4\n",
      " 13. POST_DIRECTIONAL\n",
      "\t<class 'str'>\n",
      "\tNulls: True\n",
      "\tValues: NE, SW, SE, N, NW\n",
      " 14. PHONE\n",
      "\t<class 'int'>\n",
      "\tNulls: True\n",
      "\tMin: 2471094\n",
      "\tMax: 505345566137310\n",
      "\tSum: 2608539289633190\n",
      "\tMean: 161719732773.29138\n",
      "\tMedian: 5053454060.0\n",
      "\tStandard Deviation: 8895791545525.992\n",
      "\tUnique values: 2279\n",
      "\t5 most frequent values:\n",
      "\t\t9153321301:\t101\n",
      "\t\t3037929467:\t100\n",
      "\t\t5052224033:\t94\n",
      "\t\t3109680646:\t85\n",
      "\t\t2122383000:\t68\n",
      " 15. PROGRAM_CATEGORY\n",
      "\t<class 'str'>\n",
      "\tNulls: False\n",
      "\tUnique values: 25\n",
      "\t5 most frequent values:\n",
      "\t\t0406:\t7969\n",
      "\t\t0601:\t1159\n",
      "\t\t0607:\t894\n",
      "\t\t0606:\t865\n",
      "\t\t0501:\t832\n",
      "\tMax length: 4\n",
      " 16. PROGRAM_CATEGORY_DESCRIPTION\n",
      "\t<class 'str'>\n",
      "\tNulls: True\n",
      "\tUnique values: 24\n",
      "\t5 most frequent values:\n",
      "\t\tFood Service Establishment:\t7969\n",
      "\t\tRetail -Grocery:\t1159\n",
      "\t\tRetail - Self Service & Prepackage Foods:\t894\n",
      "\t\tRetail - Prepackage Only:\t865\n",
      "\t\tSchool:\t832\n",
      "\tMax length: 40\n",
      " 17. INSPECTION_DATE\n",
      "\t<class 'datetime.date'>\n",
      "\tNulls: False\n",
      "\tMin: 2009-07-01\n",
      "\tMax: 2010-06-30\n",
      "\tUnique values: 258\n",
      "\t5 most frequent values:\n",
      "\t\t2009-12-16:\t184\n",
      "\t\t2009-09-10:\t159\n",
      "\t\t2009-09-25:\t148\n",
      "\t\t2009-11-04:\t133\n",
      "\t\t2009-10-01:\t131\n",
      " 18. INSPECTION_TYPE\n",
      "\t<class 'NoneType'>\n",
      "\tNulls: True\n",
      "\tValues: \n",
      " 19. INSPECTION_DESC\n",
      "\t<class 'str'>\n",
      "\tNulls: False\n",
      "\tUnique values: 15\n",
      "\t5 most frequent values:\n",
      "\t\tROUTINE FOOD INSPECTION:\t12439\n",
      "\t\tEMERGENCY RESPONSE:\t1987\n",
      "\t\tNew Business Inspection:\t1005\n",
      "\t\tPRE-OPENING FOOD INSPECTION:\t743\n",
      "\t\tADDITIONAL SERVICE PROVIDED:\t439\n",
      "\tMax length: 32\n",
      " 20. SERIAL_NUM\n",
      "\t<class 'str'>\n",
      "\tNulls: False\n",
      "\tUnique values: 9046\n",
      "\t5 most frequent values:\n",
      "\t\tDA0047720:\t61\n",
      "\t\tDA0045676:\t61\n",
      "\t\tDA0059230:\t61\n",
      "\t\tDA0047290:\t61\n",
      "\t\tDA0045731:\t61\n",
      "\tMax length: 9\n",
      " 21. ACTION_CODE\n",
      "\t<class 'str'>\n",
      "\tNulls: False\n",
      "\tUnique values: 8\n",
      "\t5 most frequent values:\n",
      "\t\t11:\t14080\n",
      "\t\t00:\t2800\n",
      "\t\t09:\t382\n",
      "\t\t06:\t264\n",
      "\t\t10:\t21\n",
      "\tMax length: 2\n",
      " 22. ACTION_DESC\n",
      "\t<class 'str'>\n",
      "\tNulls: False\n",
      "\tUnique values: 8\n",
      "\t5 most frequent values:\n",
      "\t\tAPPROVED:\t14080\n",
      "\t\tNON-GRADED:\t2800\n",
      "\t\tANNUAL STICKER ISSUED:\t382\n",
      "\t\tUNSATISFACTORY:\t264\n",
      "\t\tANNUAL STICKER NOT ISSUED:\t21\n",
      "\tMax length: 34\n",
      " 23. RESULT_CODE\n",
      "\t<class 'str'>\n",
      "\tNulls: False\n",
      "\tUnique values: 19\n",
      "\t5 most frequent values:\n",
      "\t\t03:\t14389\n",
      "\t\t00:\t2416\n",
      "\t\t05:\t214\n",
      "\t\t22:\t142\n",
      "\t\t18:\t104\n",
      "\tMax length: 2\n",
      " 24. RESULT_DESC\n",
      "\t<class 'str'>\n",
      "\tNulls: False\n",
      "\tUnique values: 19\n",
      "\t5 most frequent values:\n",
      "\t\tIN COMPLIANCE:\t14389\n",
      "\t\tNOT APPLICABLE:\t2416\n",
      "\t\tDOWNGRADE:\t214\n",
      "\t\tOUT OF BUSINESS:\t142\n",
      "\t\tTRAINING RECEIVED:\t104\n",
      "\tMax length: 37\n",
      " 25. VIOLATION_CODE\n",
      "\t<class 'str'>\n",
      "\tNulls: True\n",
      "\tUnique values: 128\n",
      "\t5 most frequent values:\n",
      "\t\t55:\t6348\n",
      "\t\t00:\t3429\n",
      "\t\t68:\t1658\n",
      "\t\t42:\t487\n",
      "\t\t35:\t441\n",
      "\tMax length: 10\n",
      " 26. VIOLATION_DESC\n",
      "\t<class 'str'>\n",
      "\tNulls: True\n",
      "\tUnique values: 70\n",
      "\t5 most frequent values:\n",
      "\t\tAdditional Comments:\t6353\n",
      "\t\tNo Violations Found:\t3434\n",
      "\t\tDelivered Informational Brochure:\t1657\n",
      "\t\tPlumbing: Improperly installed/maintained/supplied:\t492\n",
      "\t\tNon-Food contact surfaces:\t446\n",
      "\tMax length: 50\n",
      " 27. INSPECTION_MEMO\n",
      "\t<class 'NoneType'>\n",
      "\tNulls: True\n",
      "\tValues: \n",
      "\n",
      "Row count: 17556\n"
     ]
    }
   ],
   "source": [
    "!csvstat abq.csv"
   ]
  },
  {
   "cell_type": "markdown",
   "metadata": {},
   "source": [
    "###### What do those columns mean?"
   ]
  },
  {
   "cell_type": "markdown",
   "metadata": {},
   "source": [
    "FACILITY_NAME: Name of the facility where the inspection occurred\n",
    "\n",
    "FACILITY_KEY: The unique identifier (key) of the facility where the inspection occurred\n",
    "\n",
    "SITE_ADDRESS: Street address of the facility where the inspection occurred\n",
    "\n",
    "CITY: City of the facility where the inspection occurred\n",
    "\n",
    "STATE: State of the facility where the inspection occurred\n",
    "\n",
    "ZIP:Zip of the facility where the inspection occurred\n",
    "\n",
    "OWNER_KEY:The unique identifier (key) of the Owner of the facility where the inspection occurred at the time of the inspection\n",
    "\n",
    "OWNER_NAME: Name of the Owner of the facility where the inspection occurred at the time of the inspection\n",
    "\n",
    "NATURE_OF_BUSINESS: The type of business, originally for internal use only, provides information about the business. This is not the information provided on the federal tax form\n",
    "\n",
    "STREET_NUMBER: Street number of the facility where the inspection occurred\n",
    "\n",
    "STREET_NAME:Street name of the facility where the inspection occurred\n",
    "\n",
    "STREET_TYPE: Street type of the facility where the inspection occurred\n",
    "\n",
    "POST_DIRECTIONAL: Postal direction of the facility where the inspection occurred\n",
    "\n",
    "PHONE:Phone number of the facility where the inspection occurred\n",
    "\n",
    "PROGRAM_CATEGORY: Id that indicates the type of facility permit the inspection was performed\n",
    "\n",
    "PROGRAM_CATEGORY_DESCRIPTION: Descript of the id that indicates the type of facility\n",
    "\n",
    "INSPECTION_DATE: Date the inspection occurred\n",
    "\n",
    "INSPECTION_TYPE: Code for type of inspection \n",
    "\n",
    "INSPECTION_DESC: Description of the inspection\n",
    "\n",
    "SERIAL_NUM: Unique ID for the inspection daily activity. This is a sequential number assigned chronologically as the data is entered into the system. \n",
    "\n",
    "ACTION_CODE: Code of the action taken. If the ACTION_CODE is equal to 00 – NON-GRADED this indicates that the inspector was unable to actually perform an inspection. The RESULT_CODE documents the situation. \n",
    "\n",
    "ACTION_DESC: Description of the action taken\n",
    "\n",
    "RESULT_CODE: Code of the result of the inspection\n",
    "\n",
    "RESULT_DESC: Description of the result of the inspection\n",
    "\n",
    "VIOLATION_CODE: The code for the violation\n",
    "\n",
    "VIOLATION_DESC: Description of the violation that was found\n",
    "\n",
    "INSPECTION_MEMO: Notes from the inspection made by the inspector\n"
   ]
  },
  {
   "cell_type": "markdown",
   "metadata": {},
   "source": [
    "###### Are there null values?"
   ]
  },
  {
   "cell_type": "markdown",
   "metadata": {},
   "source": [
    "According to the infomation above, there are Null values in : SITE_ADDRESS, NATURE_OF_BUSINESS, STREET_NUMBER, STREET_NAME, STREET_TYPE, POST_DIRECTIONAL, PHONE, PROGRAM_CATEGORY_DESCRIPTION, INSPECTION_TYPE, VIOLATION_CODE, VIOLATION_DESC, and INSPECTION_MEMO. "
   ]
  },
  {
   "cell_type": "markdown",
   "metadata": {},
   "source": [
    "###### Which columns interest you the most? "
   ]
  },
  {
   "cell_type": "markdown",
   "metadata": {},
   "source": [
    "Those columns that interest me most are description fields such as facility name, nature of business, inspection description, action description, result description, violation description and inspection memo. "
   ]
  },
  {
   "cell_type": "markdown",
   "metadata": {},
   "source": [
    "###### Which columns present some complications or questions you would like to ask?"
   ]
  },
  {
   "cell_type": "markdown",
   "metadata": {},
   "source": [
    "There are a few questions I'd like to ask:\n",
    "1. Which facilities had the most inspections?\n",
    "2. Which facilities had the most violations?\n",
    "3. What are some most frequent violation types or decriptions?\n",
    "4. Which business type got the most inspections?"
   ]
  },
  {
   "cell_type": "markdown",
   "metadata": {},
   "source": [
    "Insert a combination of code and text/markdown cells here to review the data and describe what you find."
   ]
  },
  {
   "cell_type": "markdown",
   "metadata": {},
   "source": [
    "## Problem 2 - define a database model and load the data (35 points)\n",
    "\n",
    "Based on what you found above, create and connect to a new database, define a database table in it, and load this dataset into it.  You may use either of the methods for this step you have seen in earlier class notebooks.  You may choose to eliminate variables/columns if they are not relevant or interesting to you - explain your reasoning if you do.  Either way, you should load a majority of the columns present in the source dataset into the database and all of its rows.\n",
    "\n",
    "Once your data has loaded successfully, run a `COUNT(*)` query to verify that all the data has loaded correctly.\n",
    "\n",
    "Insert a combination of code and text/markdown cells here to connect to your database, define your table, load its data, and verify the loaded records."
   ]
  },
  {
   "cell_type": "code",
   "execution_count": 5,
   "metadata": {
    "collapsed": false
   },
   "outputs": [
    {
     "name": "stdout",
     "output_type": "stream",
     "text": [
      "[sudo] password for jovyan: Restarting PostgreSQL 9.5 database server: main.\n"
     ]
    }
   ],
   "source": [
    "!echo 'redspot' | sudo -S service postgresql restart"
   ]
  },
  {
   "cell_type": "code",
   "execution_count": 6,
   "metadata": {
    "collapsed": false
   },
   "outputs": [
    {
     "name": "stderr",
     "output_type": "stream",
     "text": [
      "/opt/conda/lib/python3.5/site-packages/IPython/config.py:13: ShimWarning: The `IPython.config` package has been deprecated. You should import from traitlets.config instead.\n",
      "  \"You should import from traitlets.config instead.\", ShimWarning)\n",
      "/opt/conda/lib/python3.5/site-packages/IPython/utils/traitlets.py:5: UserWarning: IPython.utils.traitlets has moved to a top-level traitlets package.\n",
      "  warn(\"IPython.utils.traitlets has moved to a top-level traitlets package.\")\n"
     ]
    }
   ],
   "source": [
    "%load_ext sql"
   ]
  },
  {
   "cell_type": "code",
   "execution_count": 7,
   "metadata": {
    "collapsed": false
   },
   "outputs": [],
   "source": [
    "!createdb -U dbuser ex4"
   ]
  },
  {
   "cell_type": "code",
   "execution_count": 8,
   "metadata": {
    "collapsed": false
   },
   "outputs": [
    {
     "data": {
      "text/plain": [
       "'Connected: dbuser@ex4'"
      ]
     },
     "execution_count": 8,
     "metadata": {},
     "output_type": "execute_result"
    }
   ],
   "source": [
    "%sql postgresql://dbuser@localhost:5432/ex4"
   ]
  },
  {
   "cell_type": "code",
   "execution_count": 9,
   "metadata": {
    "collapsed": false
   },
   "outputs": [
    {
     "name": "stdout",
     "output_type": "stream",
     "text": [
      "  1. GRANT MIDDLE SCHOOL\n",
      "\t<class 'str'>\n",
      "\tNulls: False\n",
      "\tUnique values: 2479\n",
      "\t5 most frequent values:\n",
      "\t\tSMITHS FOOD AND DRUG CENTERS INC:\t83\n",
      "\t\tISOTOPES PARK - OVATIONS:\t51\n",
      "\t\tPER EHSII CECELIA GARCIA OOB LA REYNA DEL SUR:\t45\n",
      "\t\tCIRCLE K 8940:\t45\n",
      "\t\tECHO INC:\t44\n",
      "\tMax length: 77\n",
      "  2. 2138\n",
      "\t<class 'str'>\n",
      "\tNulls: False\n",
      "\tUnique values: 2685\n",
      "\t5 most frequent values:\n",
      "\t\t46323:\t51\n",
      "\t\t91821:\t45\n",
      "\t\t65863:\t45\n",
      "\t\t80949:\t44\n",
      "\t\t91825:\t39\n",
      "\tMax length: 12\n",
      "  3. 1111 EASTERDAY DR NE\n",
      "\t<class 'str'>\n",
      "\tNulls: True\n",
      "\tUnique values: 2352\n",
      "\t5 most frequent values:\n",
      "\t\t8601 CENTRAL AV NE:\t52\n",
      "\t\t1601 AVENIDA CESAR CHAVEZ SE:\t52\n",
      "\t\t2200 SUNPORT BLVD SE:\t45\n",
      "\t\t644 OLD COORS BLVD SW:\t45\n",
      "\t\t300 MENAUL NW:\t44\n",
      "\tMax length: 35\n",
      "  4. ALBUQUERQUE\n",
      "\t<class 'str'>\n",
      "\tNulls: False\n",
      "\tValues: ALBUQUERQUE, CITY\n",
      "  5. NM\n",
      "\t<class 'str'>\n",
      "\tNulls: False\n",
      "\tValues: 87, STATE, NM\n",
      "  6. 87112\n",
      "\t<class 'str'>\n",
      "\tNulls: False\n",
      "\tUnique values: 47\n",
      "\t5 most frequent values:\n",
      "\t\t87108:\t1124\n",
      "\t\t87110:\t1099\n",
      "\t\t87102:\t896\n",
      "\t\t87106:\t889\n",
      "\t\t87109:\t889\n",
      "\tMax length: 10\n",
      "  7. 1838\n",
      "\t<class 'str'>\n",
      "\tNulls: False\n",
      "\tUnique values: 1787\n",
      "\t5 most frequent values:\n",
      "\t\t1838:\t438\n",
      "\t\t3537:\t172\n",
      "\t\t1272:\t128\n",
      "\t\t80274:\t101\n",
      "\t\t6194:\t87\n",
      "\tMax length: 9\n",
      "  8. APS\n",
      "\t<class 'str'>\n",
      "\tNulls: False\n",
      "\tUnique values: 1751\n",
      "\t5 most frequent values:\n",
      "\t\tAPS:\t438\n",
      "\t\tSMITHS FOOD AND DRUG CENTERS INC:\t172\n",
      "\t\tCIRCLE K STORES INC:\t168\n",
      "\t\tALBERTSONS:\t128\n",
      "\t\tPALO ALTO INC:\t91\n",
      "\tMax length: 82\n",
      "  9. APS SCHOOL FOOD SERVICE\n",
      "\t<class 'str'>\n",
      "\tNulls: True\n",
      "\tUnique values: 564\n",
      "\t5 most frequent values:\n",
      "\t\tRESTAURANT:\t2857\n",
      "\t\tFOOD SERVICE:\t395\n",
      "\t\tGROCERY:\t342\n",
      "\t\tBAR/RESTAURANT:\t284\n",
      "\t\tAPS SCHOOL FOOD SERVICE:\t249\n",
      "\tMax length: 25\n",
      " 10. 1111\n",
      "\t<class 'str'>\n",
      "\tNulls: True\n",
      "\tUnique values: 1308\n",
      "\t5 most frequent values:\n",
      "\t\t6600:\t133\n",
      "\t\t10000:\t96\n",
      "\t\t300:\t84\n",
      "\t\t2200:\t78\n",
      "\t\t8100:\t77\n",
      "\tMax length: 13\n",
      " 11. EASTERDAY\n",
      "\t<class 'str'>\n",
      "\tNulls: True\n",
      "\tUnique values: 387\n",
      "\t5 most frequent values:\n",
      "\t\tCENTRAL:\t1121\n",
      "\t\tCOORS:\t546\n",
      "\t\tMENAUL:\t538\n",
      "\t\tMONTGOMERY:\t417\n",
      "\t\tSAN MATEO:\t408\n",
      "\tMax length: 24\n",
      " 12. DR\n",
      "\t<class 'str'>\n",
      "\tNulls: True\n",
      "\tUnique values: 14\n",
      "\t5 most frequent values:\n",
      "\t\tBLVD:\t4340\n",
      "\t\tAV:\t1754\n",
      "\t\tST:\t1140\n",
      "\t\tRD:\t1066\n",
      "\t\tDR:\t568\n",
      "\tMax length: 11\n",
      " 13. NE\n",
      "\t<class 'str'>\n",
      "\tNulls: True\n",
      "\tUnique values: 6\n",
      "\t5 most frequent values:\n",
      "\t\tNE:\t4886\n",
      "\t\tNW:\t2415\n",
      "\t\tSE:\t1810\n",
      "\t\tSW:\t773\n",
      "\t\tN:\t3\n",
      "\tMax length: 16\n",
      " 14. _unnamed\n",
      "\t<class 'str'>\n",
      "\tNulls: True\n",
      "\tUnique values: 2159\n",
      "\t5 most frequent values:\n",
      "\t\t9153321301:\t58\n",
      "\t\t5052224033:\t52\n",
      "\t\t3037929467:\t52\n",
      "\t\t3109680646:\t45\n",
      "\t\t5052549765:\t45\n",
      "\tMax length: 15\n",
      " 15. 0408\n",
      "\t<class 'str'>\n",
      "\tNulls: False\n",
      "\tUnique values: 26\n",
      "\t5 most frequent values:\n",
      "\t\t0406:\t4557\n",
      "\t\t0601:\t667\n",
      "\t\t0607:\t510\n",
      "\t\t0606:\t498\n",
      "\t\t0501:\t461\n",
      "\tMax length: 16\n",
      " 16. School\n",
      "\t<class 'str'>\n",
      "\tNulls: True\n",
      "\tUnique values: 25\n",
      "\t5 most frequent values:\n",
      "\t\tFood Service Establishment:\t4557\n",
      "\t\tRetail -Grocery:\t667\n",
      "\t\tRetail - Self Service & Prepackage Foods:\t510\n",
      "\t\tRetail - Prepackage Only:\t498\n",
      "\t\tBar:\t461\n",
      "\tMax length: 40\n",
      " 17. 2010-01-25 00:00:00\n",
      "\t<class 'str'>\n",
      "\tNulls: False\n",
      "\tUnique values: 254\n",
      "\t5 most frequent values:\n",
      "\t\t2009-12-16 00:00:00:\t105\n",
      "\t\t2009-09-10 00:00:00:\t96\n",
      "\t\t2009-11-04 00:00:00:\t84\n",
      "\t\t2009-09-25 00:00:00:\t82\n",
      "\t\t2009-07-16 00:00:00:\t79\n",
      "\tMax length: 19\n",
      " 18. _unnamed\n",
      "\t<class 'str'>\n",
      "\tNulls: True\n",
      "\tValues: INSPECTION_TYPE\n",
      " 19. ROUTINE FOOD INSPECTION\n",
      "\t<class 'str'>\n",
      "\tNulls: False\n",
      "\tUnique values: 15\n",
      "\t5 most frequent values:\n",
      "\t\tROUTINE FOOD INSPECTION:\t7113\n",
      "\t\tEMERGENCY RESPONSE:\t1110\n",
      "\t\tNew Business Inspection:\t575\n",
      "\t\tPRE-OPENING FOOD INSPECTION:\t433\n",
      "\t\tADDITIONAL SERVICE PROVIDED:\t256\n",
      "\tMax length: 32\n",
      " 20. DA7257045\n",
      "\t<class 'str'>\n",
      "\tNulls: False\n",
      "\tUnique values: 6655\n",
      "\t5 most frequent values:\n",
      "\t\tDA0047290:\t45\n",
      "\t\tDA0045731:\t39\n",
      "\t\tDA0045676:\t36\n",
      "\t\tDA0047720:\t33\n",
      "\t\tDA0059230:\t33\n",
      "\tMax length: 10\n",
      " 21. 11\n",
      "\t<class 'str'>\n",
      "\tNulls: False\n",
      "\tUnique values: 9\n",
      "\t5 most frequent values:\n",
      "\t\t11:\t8042\n",
      "\t\t00:\t1581\n",
      "\t\t09:\t204\n",
      "\t\t06:\t150\n",
      "\t\t10:\t12\n",
      "\tMax length: 11\n",
      " 22. APPROVED\n",
      "\t<class 'str'>\n",
      "\tNulls: False\n",
      "\tUnique values: 9\n",
      "\t5 most frequent values:\n",
      "\t\tAPPROVED:\t8042\n",
      "\t\tNON-GRADED:\t1581\n",
      "\t\tANNUAL STICKER ISSUED:\t204\n",
      "\t\tUNSATISFACTORY:\t150\n",
      "\t\tANNUAL STICKER NOT ISSUED:\t12\n",
      "\tMax length: 34\n",
      " 23. 03\n",
      "\t<class 'str'>\n",
      "\tNulls: False\n",
      "\tUnique values: 20\n",
      "\t5 most frequent values:\n",
      "\t\t03:\t8211\n",
      "\t\t00:\t1357\n",
      "\t\t05:\t123\n",
      "\t\t22:\t84\n",
      "\t\t18:\t65\n",
      "\tMax length: 11\n",
      " 24. IN COMPLIANCE\n",
      "\t<class 'str'>\n",
      "\tNulls: False\n",
      "\tUnique values: 20\n",
      "\t5 most frequent values:\n",
      "\t\tIN COMPLIANCE:\t8211\n",
      "\t\tNOT APPLICABLE:\t1357\n",
      "\t\tDOWNGRADE:\t123\n",
      "\t\tOUT OF BUSINESS:\t84\n",
      "\t\tTRAINING RECEIVED:\t65\n",
      "\tMax length: 37\n",
      " 25.     55    \n",
      "\t<class 'str'>\n",
      "\tNulls: True\n",
      "\tUnique values: 124\n",
      "\t5 most frequent values:\n",
      "\t\t55:\t3666\n",
      "\t\t00:\t1940\n",
      "\t\t68:\t909\n",
      "\t\t42:\t284\n",
      "\t\t35:\t256\n",
      "\tMax length: 14\n",
      " 26. Additional Comments\n",
      "\t<class 'str'>\n",
      "\tNulls: True\n",
      "\tUnique values: 70\n",
      "\t5 most frequent values:\n",
      "\t\tAdditional Comments:\t3668\n",
      "\t\tNo Violations Found:\t1941\n",
      "\t\tDelivered Informational Brochure:\t908\n",
      "\t\tPlumbing: Improperly installed/maintained/supplied:\t287\n",
      "\t\tNon-Food contact surfaces:\t257\n",
      "\tMax length: 50\n",
      " 27. _unnamed\n",
      "\t<class 'str'>\n",
      "\tNulls: True\n",
      "\tValues: INSPECTION_MEMO\n",
      "\n",
      "Row count: 9999\n"
     ]
    }
   ],
   "source": [
    "!shuf -n 10000 abq.csv | csvstat"
   ]
  },
  {
   "cell_type": "code",
   "execution_count": 10,
   "metadata": {
    "collapsed": false
   },
   "outputs": [
    {
     "name": "stdout",
     "output_type": "stream",
     "text": [
      "Done.\n",
      "Done.\n"
     ]
    },
    {
     "data": {
      "text/plain": [
       "[]"
      ]
     },
     "execution_count": 10,
     "metadata": {},
     "output_type": "execute_result"
    }
   ],
   "source": [
    "%%sql\n",
    "DROP TABLE IF EXISTS abq;\n",
    "CREATE TABLE abq (\n",
    "    FACILITY_NAME VARCHAR(77),\n",
    "    FACILITY_KEY INTEGER,\n",
    "    SITE_ADDRESS VARCHAR(35),\n",
    "    CITY VARCHAR(11),\n",
    "    STATE VARCHAR(2),\n",
    "    ZIP VARCHAR(10),\n",
    "    OWNER_KEY INTEGER,\n",
    "    OWNER_NAME VARCHAR(82),\n",
    "    NATURE_OF_BUSINESS VARCHAR(25),\n",
    "    STREET_NUMBER VARCHAR(7),\n",
    "    STREET_NAME VARCHAR(24),\n",
    "    STREET_TYPE VARCHAR(4),\n",
    "    POST_DIRECTIONAL VARCHAR(2),\n",
    "    PHONE VARCHAR(15),\n",
    "    PROGRAM_CATEGORY VARCHAR(4),\n",
    "    PROGRAM_CATEGORY_DESCRIPTION VARCHAR(40),\n",
    "    INSPECTION_DATE TIMESTAMP, \n",
    "    INSPECTION_TYPE VARCHAR(40),\n",
    "    INSPECTION_DESC VARCHAR(32),\n",
    "    SERIAL_NUM VARCHAR(9),\n",
    "    ACTION_CODE VARCHAR(2),\n",
    "    ACTION_DESC VARCHAR(50),\n",
    "    RESULT_CODE VARCHAR(2),\n",
    "    RESULT_DESC VARCHAR(37),\n",
    "    VIOLATION_CODE VARCHAR(10),\n",
    "    VIOLATION_DESC VARCHAR(50),\n",
    "    INSPECTION_MEMO VARCHAR(40)\n",
    "    )\n"
   ]
  },
  {
   "cell_type": "code",
   "execution_count": 11,
   "metadata": {
    "collapsed": false
   },
   "outputs": [
    {
     "name": "stdout",
     "output_type": "stream",
     "text": [
      "/home/jovyan/work\r\n"
     ]
    }
   ],
   "source": [
    "!pwd"
   ]
  },
  {
   "cell_type": "code",
   "execution_count": 12,
   "metadata": {
    "collapsed": false
   },
   "outputs": [
    {
     "name": "stdout",
     "output_type": "stream",
     "text": [
      "17556 rows affected.\n"
     ]
    },
    {
     "data": {
      "text/plain": [
       "[]"
      ]
     },
     "execution_count": 12,
     "metadata": {},
     "output_type": "execute_result"
    }
   ],
   "source": [
    "%%sql\n",
    "COPY abq FROM '/home/jovyan/work/abq.csv'\n",
    "CSV\n",
    "HEADER\n",
    "QUOTE '\"'\n",
    "DELIMITER ',';"
   ]
  },
  {
   "cell_type": "code",
   "execution_count": 13,
   "metadata": {
    "collapsed": false
   },
   "outputs": [
    {
     "name": "stdout",
     "output_type": "stream",
     "text": [
      "1 rows affected.\n"
     ]
    },
    {
     "data": {
      "text/html": [
       "<table>\n",
       "    <tr>\n",
       "        <th>count</th>\n",
       "    </tr>\n",
       "    <tr>\n",
       "        <td>17556</td>\n",
       "    </tr>\n",
       "</table>"
      ],
      "text/plain": [
       "[(17556,)]"
      ]
     },
     "execution_count": 13,
     "metadata": {},
     "output_type": "execute_result"
    }
   ],
   "source": [
    "%%sql\n",
    "SELECT COUNT(*) FROM abq;"
   ]
  },
  {
   "cell_type": "markdown",
   "metadata": {},
   "source": [
    "## Problem 3 - explore your data (30 points)\n",
    "\n",
    "Now that the data is loaded, ask some questions of it!  Identify key variables of interest and note their ranges along with other useful descriptive statistics.  Choose and define a few lines of inquiry, execute queries for each, and describe what you find in your result sets.  Use any query techniques we've seen in class, including aggregate functions, transformations, subqueries, or others as appropriate. \n",
    "\n",
    "If you find interesting patterns, adding plots to your exploration would be useful.\n",
    "\n",
    "Insert a combination of code and text/markdown cells here to explore your data."
   ]
  },
  {
   "cell_type": "code",
   "execution_count": 14,
   "metadata": {
    "collapsed": false
   },
   "outputs": [
    {
     "name": "stdout",
     "output_type": "stream",
     "text": [
      "27 rows affected.\n"
     ]
    },
    {
     "data": {
      "text/html": [
       "<table>\n",
       "    <tr>\n",
       "        <th>column_name</th>\n",
       "        <th>data_type</th>\n",
       "        <th>character_maximum_length</th>\n",
       "        <th>is_nullable</th>\n",
       "    </tr>\n",
       "    <tr>\n",
       "        <td>facility_name</td>\n",
       "        <td>character varying</td>\n",
       "        <td>77</td>\n",
       "        <td>YES</td>\n",
       "    </tr>\n",
       "    <tr>\n",
       "        <td>facility_key</td>\n",
       "        <td>integer</td>\n",
       "        <td>None</td>\n",
       "        <td>YES</td>\n",
       "    </tr>\n",
       "    <tr>\n",
       "        <td>site_address</td>\n",
       "        <td>character varying</td>\n",
       "        <td>35</td>\n",
       "        <td>YES</td>\n",
       "    </tr>\n",
       "    <tr>\n",
       "        <td>city</td>\n",
       "        <td>character varying</td>\n",
       "        <td>11</td>\n",
       "        <td>YES</td>\n",
       "    </tr>\n",
       "    <tr>\n",
       "        <td>state</td>\n",
       "        <td>character varying</td>\n",
       "        <td>2</td>\n",
       "        <td>YES</td>\n",
       "    </tr>\n",
       "    <tr>\n",
       "        <td>zip</td>\n",
       "        <td>character varying</td>\n",
       "        <td>10</td>\n",
       "        <td>YES</td>\n",
       "    </tr>\n",
       "    <tr>\n",
       "        <td>owner_key</td>\n",
       "        <td>integer</td>\n",
       "        <td>None</td>\n",
       "        <td>YES</td>\n",
       "    </tr>\n",
       "    <tr>\n",
       "        <td>owner_name</td>\n",
       "        <td>character varying</td>\n",
       "        <td>82</td>\n",
       "        <td>YES</td>\n",
       "    </tr>\n",
       "    <tr>\n",
       "        <td>nature_of_business</td>\n",
       "        <td>character varying</td>\n",
       "        <td>25</td>\n",
       "        <td>YES</td>\n",
       "    </tr>\n",
       "    <tr>\n",
       "        <td>street_number</td>\n",
       "        <td>character varying</td>\n",
       "        <td>7</td>\n",
       "        <td>YES</td>\n",
       "    </tr>\n",
       "    <tr>\n",
       "        <td>street_name</td>\n",
       "        <td>character varying</td>\n",
       "        <td>24</td>\n",
       "        <td>YES</td>\n",
       "    </tr>\n",
       "    <tr>\n",
       "        <td>street_type</td>\n",
       "        <td>character varying</td>\n",
       "        <td>4</td>\n",
       "        <td>YES</td>\n",
       "    </tr>\n",
       "    <tr>\n",
       "        <td>post_directional</td>\n",
       "        <td>character varying</td>\n",
       "        <td>2</td>\n",
       "        <td>YES</td>\n",
       "    </tr>\n",
       "    <tr>\n",
       "        <td>phone</td>\n",
       "        <td>character varying</td>\n",
       "        <td>15</td>\n",
       "        <td>YES</td>\n",
       "    </tr>\n",
       "    <tr>\n",
       "        <td>program_category</td>\n",
       "        <td>character varying</td>\n",
       "        <td>4</td>\n",
       "        <td>YES</td>\n",
       "    </tr>\n",
       "    <tr>\n",
       "        <td>program_category_description</td>\n",
       "        <td>character varying</td>\n",
       "        <td>40</td>\n",
       "        <td>YES</td>\n",
       "    </tr>\n",
       "    <tr>\n",
       "        <td>inspection_date</td>\n",
       "        <td>timestamp without time zone</td>\n",
       "        <td>None</td>\n",
       "        <td>YES</td>\n",
       "    </tr>\n",
       "    <tr>\n",
       "        <td>inspection_type</td>\n",
       "        <td>character varying</td>\n",
       "        <td>40</td>\n",
       "        <td>YES</td>\n",
       "    </tr>\n",
       "    <tr>\n",
       "        <td>inspection_desc</td>\n",
       "        <td>character varying</td>\n",
       "        <td>32</td>\n",
       "        <td>YES</td>\n",
       "    </tr>\n",
       "    <tr>\n",
       "        <td>serial_num</td>\n",
       "        <td>character varying</td>\n",
       "        <td>9</td>\n",
       "        <td>YES</td>\n",
       "    </tr>\n",
       "    <tr>\n",
       "        <td>action_code</td>\n",
       "        <td>character varying</td>\n",
       "        <td>2</td>\n",
       "        <td>YES</td>\n",
       "    </tr>\n",
       "    <tr>\n",
       "        <td>action_desc</td>\n",
       "        <td>character varying</td>\n",
       "        <td>50</td>\n",
       "        <td>YES</td>\n",
       "    </tr>\n",
       "    <tr>\n",
       "        <td>result_code</td>\n",
       "        <td>character varying</td>\n",
       "        <td>2</td>\n",
       "        <td>YES</td>\n",
       "    </tr>\n",
       "    <tr>\n",
       "        <td>result_desc</td>\n",
       "        <td>character varying</td>\n",
       "        <td>37</td>\n",
       "        <td>YES</td>\n",
       "    </tr>\n",
       "    <tr>\n",
       "        <td>violation_code</td>\n",
       "        <td>character varying</td>\n",
       "        <td>10</td>\n",
       "        <td>YES</td>\n",
       "    </tr>\n",
       "    <tr>\n",
       "        <td>violation_desc</td>\n",
       "        <td>character varying</td>\n",
       "        <td>50</td>\n",
       "        <td>YES</td>\n",
       "    </tr>\n",
       "    <tr>\n",
       "        <td>inspection_memo</td>\n",
       "        <td>character varying</td>\n",
       "        <td>40</td>\n",
       "        <td>YES</td>\n",
       "    </tr>\n",
       "</table>"
      ],
      "text/plain": [
       "[('facility_name', 'character varying', 77, 'YES'),\n",
       " ('facility_key', 'integer', None, 'YES'),\n",
       " ('site_address', 'character varying', 35, 'YES'),\n",
       " ('city', 'character varying', 11, 'YES'),\n",
       " ('state', 'character varying', 2, 'YES'),\n",
       " ('zip', 'character varying', 10, 'YES'),\n",
       " ('owner_key', 'integer', None, 'YES'),\n",
       " ('owner_name', 'character varying', 82, 'YES'),\n",
       " ('nature_of_business', 'character varying', 25, 'YES'),\n",
       " ('street_number', 'character varying', 7, 'YES'),\n",
       " ('street_name', 'character varying', 24, 'YES'),\n",
       " ('street_type', 'character varying', 4, 'YES'),\n",
       " ('post_directional', 'character varying', 2, 'YES'),\n",
       " ('phone', 'character varying', 15, 'YES'),\n",
       " ('program_category', 'character varying', 4, 'YES'),\n",
       " ('program_category_description', 'character varying', 40, 'YES'),\n",
       " ('inspection_date', 'timestamp without time zone', None, 'YES'),\n",
       " ('inspection_type', 'character varying', 40, 'YES'),\n",
       " ('inspection_desc', 'character varying', 32, 'YES'),\n",
       " ('serial_num', 'character varying', 9, 'YES'),\n",
       " ('action_code', 'character varying', 2, 'YES'),\n",
       " ('action_desc', 'character varying', 50, 'YES'),\n",
       " ('result_code', 'character varying', 2, 'YES'),\n",
       " ('result_desc', 'character varying', 37, 'YES'),\n",
       " ('violation_code', 'character varying', 10, 'YES'),\n",
       " ('violation_desc', 'character varying', 50, 'YES'),\n",
       " ('inspection_memo', 'character varying', 40, 'YES')]"
      ]
     },
     "execution_count": 14,
     "metadata": {},
     "output_type": "execute_result"
    }
   ],
   "source": [
    "%%sql\n",
    "SELECT column_name, data_type, character_maximum_length, is_nullable\n",
    "FROM INFORMATION_SCHEMA.COLUMNS WHERE table_name = 'abq';"
   ]
  },
  {
   "cell_type": "markdown",
   "metadata": {},
   "source": [
    "First, let's find out what's the most common reason for a inspection. "
   ]
  },
  {
   "cell_type": "code",
   "execution_count": 15,
   "metadata": {
    "collapsed": false
   },
   "outputs": [
    {
     "name": "stdout",
     "output_type": "stream",
     "text": [
      "15 rows affected.\n"
     ]
    },
    {
     "data": {
      "text/html": [
       "<table>\n",
       "    <tr>\n",
       "        <th>inspection_desc</th>\n",
       "        <th>count</th>\n",
       "    </tr>\n",
       "    <tr>\n",
       "        <td>ROUTINE FOOD INSPECTION</td>\n",
       "        <td>12439</td>\n",
       "    </tr>\n",
       "    <tr>\n",
       "        <td>EMERGENCY RESPONSE</td>\n",
       "        <td>1987</td>\n",
       "    </tr>\n",
       "    <tr>\n",
       "        <td>New Business Inspection</td>\n",
       "        <td>1005</td>\n",
       "    </tr>\n",
       "    <tr>\n",
       "        <td>PRE-OPENING FOOD INSPECTION</td>\n",
       "        <td>743</td>\n",
       "    </tr>\n",
       "    <tr>\n",
       "        <td>ADDITIONAL SERVICE PROVIDED</td>\n",
       "        <td>439</td>\n",
       "    </tr>\n",
       "    <tr>\n",
       "        <td>MOBILE UNIT FOOD INSPECTION</td>\n",
       "        <td>377</td>\n",
       "    </tr>\n",
       "    <tr>\n",
       "        <td>PHONE CALL</td>\n",
       "        <td>247</td>\n",
       "    </tr>\n",
       "    <tr>\n",
       "        <td>FOOD FOLLOW-UP INSPECTION</td>\n",
       "        <td>143</td>\n",
       "    </tr>\n",
       "    <tr>\n",
       "        <td>FOLLOW-UP DOCUMENTATION RECEIVED</td>\n",
       "        <td>75</td>\n",
       "    </tr>\n",
       "    <tr>\n",
       "        <td>MANAGERIAL ASSISTANCE</td>\n",
       "        <td>54</td>\n",
       "    </tr>\n",
       "    <tr>\n",
       "        <td>IMMINENT HEALTH HAZARD</td>\n",
       "        <td>36</td>\n",
       "    </tr>\n",
       "    <tr>\n",
       "        <td>FIRE CALL</td>\n",
       "        <td>5</td>\n",
       "    </tr>\n",
       "    <tr>\n",
       "        <td>PLAN REVIEW INSPECTION</td>\n",
       "        <td>4</td>\n",
       "    </tr>\n",
       "    <tr>\n",
       "        <td>COMPLAINT FOOD INSPECTION</td>\n",
       "        <td>1</td>\n",
       "    </tr>\n",
       "    <tr>\n",
       "        <td>E-MAIL</td>\n",
       "        <td>1</td>\n",
       "    </tr>\n",
       "</table>"
      ],
      "text/plain": [
       "[('ROUTINE FOOD INSPECTION', 12439),\n",
       " ('EMERGENCY RESPONSE', 1987),\n",
       " ('New Business Inspection', 1005),\n",
       " ('PRE-OPENING FOOD INSPECTION', 743),\n",
       " ('ADDITIONAL SERVICE PROVIDED', 439),\n",
       " ('MOBILE UNIT FOOD INSPECTION', 377),\n",
       " ('PHONE CALL', 247),\n",
       " ('FOOD FOLLOW-UP INSPECTION', 143),\n",
       " ('FOLLOW-UP DOCUMENTATION RECEIVED', 75),\n",
       " ('MANAGERIAL ASSISTANCE', 54),\n",
       " ('IMMINENT HEALTH HAZARD', 36),\n",
       " ('FIRE CALL', 5),\n",
       " ('PLAN REVIEW INSPECTION', 4),\n",
       " ('COMPLAINT FOOD INSPECTION', 1),\n",
       " ('E-MAIL', 1)]"
      ]
     },
     "execution_count": 15,
     "metadata": {},
     "output_type": "execute_result"
    }
   ],
   "source": [
    "%%sql\n",
    "SELECT inspection_desc, COUNT(*) AS count\n",
    "FROM abq\n",
    "GROUP BY inspection_desc\n",
    "ORDER BY count DESC"
   ]
  },
  {
   "cell_type": "markdown",
   "metadata": {},
   "source": [
    "We can see from the result that there are 15 reasons or descriptions for a inspection and the large portion of the inspections are just routine food inspection. "
   ]
  },
  {
   "cell_type": "markdown",
   "metadata": {},
   "source": [
    "Then let's take a look at which facilites got the most inspections. "
   ]
  },
  {
   "cell_type": "code",
   "execution_count": 16,
   "metadata": {
    "collapsed": false
   },
   "outputs": [
    {
     "name": "stdout",
     "output_type": "stream",
     "text": [
      "10 rows affected.\n"
     ]
    },
    {
     "data": {
      "text/html": [
       "<table>\n",
       "    <tr>\n",
       "        <th>facility_name</th>\n",
       "        <th>count</th>\n",
       "    </tr>\n",
       "    <tr>\n",
       "        <td>SMITHS FOOD AND DRUG CENTERS INC</td>\n",
       "        <td>130</td>\n",
       "    </tr>\n",
       "    <tr>\n",
       "        <td>ISOTOPES PARK - OVATIONS</td>\n",
       "        <td>93</td>\n",
       "    </tr>\n",
       "    <tr>\n",
       "        <td>ISLETA AMPHITHEATER</td>\n",
       "        <td>68</td>\n",
       "    </tr>\n",
       "    <tr>\n",
       "        <td>ECHO INC</td>\n",
       "        <td>65</td>\n",
       "    </tr>\n",
       "    <tr>\n",
       "        <td>OOB  PROS RANCH MARKETS OF ALBUQUERQUE</td>\n",
       "        <td>52</td>\n",
       "    </tr>\n",
       "    <tr>\n",
       "        <td>TALIN MARKET WORLD FOOD FARE</td>\n",
       "        <td>52</td>\n",
       "    </tr>\n",
       "    <tr>\n",
       "        <td>MCDONALDS</td>\n",
       "        <td>47</td>\n",
       "    </tr>\n",
       "    <tr>\n",
       "        <td>SUBWAY</td>\n",
       "        <td>46</td>\n",
       "    </tr>\n",
       "    <tr>\n",
       "        <td>OOB SUNFLOWER FARMERS MARKET</td>\n",
       "        <td>42</td>\n",
       "    </tr>\n",
       "    <tr>\n",
       "        <td>LA PETITE ACADEMY</td>\n",
       "        <td>41</td>\n",
       "    </tr>\n",
       "</table>"
      ],
      "text/plain": [
       "[('SMITHS FOOD AND DRUG CENTERS INC', 130),\n",
       " ('ISOTOPES PARK - OVATIONS', 93),\n",
       " ('ISLETA AMPHITHEATER', 68),\n",
       " ('ECHO INC', 65),\n",
       " ('OOB  PROS RANCH MARKETS OF ALBUQUERQUE', 52),\n",
       " ('TALIN MARKET WORLD FOOD FARE', 52),\n",
       " ('MCDONALDS', 47),\n",
       " ('SUBWAY', 46),\n",
       " ('OOB SUNFLOWER FARMERS MARKET', 42),\n",
       " ('LA PETITE ACADEMY', 41)]"
      ]
     },
     "execution_count": 16,
     "metadata": {},
     "output_type": "execute_result"
    }
   ],
   "source": [
    "%%sql\n",
    "SELECT facility_name, COUNT(*) AS count\n",
    "FROM abq\n",
    "WHERE inspection_desc IN (\n",
    "    SELECT inspection_desc\n",
    "    FROM abq\n",
    "    GROUP BY inspection_desc\n",
    "    ORDER BY COUNT(*) DESC\n",
    "    LIMIT 1)\n",
    "GROUP BY facility_name\n",
    "ORDER BY count DESC\n",
    "LIMIT 10;"
   ]
  },
  {
   "cell_type": "markdown",
   "metadata": {},
   "source": [
    "It's surprising to me that some restaurants can get as many as 130 inspections. "
   ]
  },
  {
   "cell_type": "markdown",
   "metadata": {},
   "source": [
    "I'm also curious about what are some most common violation descriptions. "
   ]
  },
  {
   "cell_type": "code",
   "execution_count": 17,
   "metadata": {
    "collapsed": false
   },
   "outputs": [
    {
     "name": "stdout",
     "output_type": "stream",
     "text": [
      "10 rows affected.\n"
     ]
    },
    {
     "data": {
      "text/html": [
       "<table>\n",
       "    <tr>\n",
       "        <th>violation_desc</th>\n",
       "        <th>count</th>\n",
       "    </tr>\n",
       "    <tr>\n",
       "        <td>Additional Comments</td>\n",
       "        <td>5052</td>\n",
       "    </tr>\n",
       "    <tr>\n",
       "        <td>No Violations Found</td>\n",
       "        <td>3048</td>\n",
       "    </tr>\n",
       "    <tr>\n",
       "        <td>Plumbing: Improperly installed/maintained/supplied</td>\n",
       "        <td>445</td>\n",
       "    </tr>\n",
       "    <tr>\n",
       "        <td>Non-Food contact surfaces</td>\n",
       "        <td>407</td>\n",
       "    </tr>\n",
       "    <tr>\n",
       "        <td>Improper sanitizing</td>\n",
       "        <td>398</td>\n",
       "    </tr>\n",
       "    <tr>\n",
       "        <td>Floors, Walls, Ceilings</td>\n",
       "        <td>373</td>\n",
       "    </tr>\n",
       "    <tr>\n",
       "        <td>Food unprotected</td>\n",
       "        <td>370</td>\n",
       "    </tr>\n",
       "    <tr>\n",
       "        <td>Food contact surfaces</td>\n",
       "        <td>230</td>\n",
       "    </tr>\n",
       "    <tr>\n",
       "        <td>Cold Holding</td>\n",
       "        <td>178</td>\n",
       "    </tr>\n",
       "    <tr>\n",
       "        <td>Thermometers not provided, not accurate/consp</td>\n",
       "        <td>154</td>\n",
       "    </tr>\n",
       "</table>"
      ],
      "text/plain": [
       "[('Additional Comments', 5052),\n",
       " ('No Violations Found', 3048),\n",
       " ('Plumbing: Improperly installed/maintained/supplied', 445),\n",
       " ('Non-Food contact surfaces', 407),\n",
       " ('Improper sanitizing', 398),\n",
       " ('Floors, Walls, Ceilings', 373),\n",
       " ('Food unprotected', 370),\n",
       " ('Food contact surfaces', 230),\n",
       " ('Cold Holding', 178),\n",
       " ('Thermometers not provided, not accurate/consp', 154)]"
      ]
     },
     "execution_count": 17,
     "metadata": {},
     "output_type": "execute_result"
    }
   ],
   "source": [
    "%%sql\n",
    "SELECT violation_desc, COUNT(*) AS count\n",
    "FROM abq\n",
    "WHERE inspection_desc IN (\n",
    "    SELECT inspection_desc\n",
    "    FROM abq\n",
    "    GROUP BY inspection_desc\n",
    "    ORDER BY COUNT(*) DESC\n",
    "    LIMIT 1)\n",
    "GROUP BY violation_desc\n",
    "ORDER BY count DESC\n",
    "LIMIT 10;"
   ]
  },
  {
   "cell_type": "markdown",
   "metadata": {},
   "source": [
    "There is a large portion of violation descriptions that needs furthur interpretion. "
   ]
  },
  {
   "cell_type": "markdown",
   "metadata": {},
   "source": [
    "We can also find out which facilities had a most violations. "
   ]
  },
  {
   "cell_type": "code",
   "execution_count": 18,
   "metadata": {
    "collapsed": false
   },
   "outputs": [
    {
     "name": "stdout",
     "output_type": "stream",
     "text": [
      "10 rows affected.\n"
     ]
    },
    {
     "data": {
      "text/html": [
       "<table>\n",
       "    <tr>\n",
       "        <th>facility_name</th>\n",
       "        <th>count</th>\n",
       "    </tr>\n",
       "    <tr>\n",
       "        <td>SMITHS FOOD AND DRUG CENTERS INC</td>\n",
       "        <td>64</td>\n",
       "    </tr>\n",
       "    <tr>\n",
       "        <td>ISOTOPES PARK - OVATIONS</td>\n",
       "        <td>46</td>\n",
       "    </tr>\n",
       "    <tr>\n",
       "        <td>PER EHSII CECELIA GARCIA OOB LA REYNA DEL SUR</td>\n",
       "        <td>43</td>\n",
       "    </tr>\n",
       "    <tr>\n",
       "        <td>ISLETA AMPHITHEATER</td>\n",
       "        <td>34</td>\n",
       "    </tr>\n",
       "    <tr>\n",
       "        <td>TALIN MARKET WORLD FOOD FARE</td>\n",
       "        <td>27</td>\n",
       "    </tr>\n",
       "    <tr>\n",
       "        <td>OOB  PROS RANCH MARKETS OF ALBUQUERQUE</td>\n",
       "        <td>25</td>\n",
       "    </tr>\n",
       "    <tr>\n",
       "        <td>SUBWAY</td>\n",
       "        <td>24</td>\n",
       "    </tr>\n",
       "    <tr>\n",
       "        <td>HOT DOG MAN &amp; CO</td>\n",
       "        <td>21</td>\n",
       "    </tr>\n",
       "    <tr>\n",
       "        <td>FACILITY OOB 2/28/14 PER EHSII RANDY MARTINEZ THE ICE CREAM MAN</td>\n",
       "        <td>21</td>\n",
       "    </tr>\n",
       "    <tr>\n",
       "        <td>WHOLE FOODS MARKET</td>\n",
       "        <td>21</td>\n",
       "    </tr>\n",
       "</table>"
      ],
      "text/plain": [
       "[('SMITHS FOOD AND DRUG CENTERS INC', 64),\n",
       " ('ISOTOPES PARK - OVATIONS', 46),\n",
       " ('PER EHSII CECELIA GARCIA OOB LA REYNA DEL SUR', 43),\n",
       " ('ISLETA AMPHITHEATER', 34),\n",
       " ('TALIN MARKET WORLD FOOD FARE', 27),\n",
       " ('OOB  PROS RANCH MARKETS OF ALBUQUERQUE', 25),\n",
       " ('SUBWAY', 24),\n",
       " ('HOT DOG MAN & CO', 21),\n",
       " ('FACILITY OOB 2/28/14 PER EHSII RANDY MARTINEZ THE ICE CREAM MAN', 21),\n",
       " ('WHOLE FOODS MARKET', 21)]"
      ]
     },
     "execution_count": 18,
     "metadata": {},
     "output_type": "execute_result"
    }
   ],
   "source": [
    "%%sql\n",
    "SELECT facility_name, COUNT(*) AS count\n",
    "FROM abq\n",
    "WHERE violation_desc IN (\n",
    "    SELECT violation_desc\n",
    "    FROM abq\n",
    "    GROUP BY violation_desc\n",
    "    ORDER BY COUNT(*) DESC\n",
    "    LIMIT 1)\n",
    "GROUP BY facility_name\n",
    "ORDER BY count DESC\n",
    "LIMIT 10;"
   ]
  },
  {
   "cell_type": "markdown",
   "metadata": {},
   "source": [
    "It's no surprise that some restaurants that have most inspections also have the most violations. This in return shows that those restaurants do need to be inspect more often. "
   ]
  },
  {
   "cell_type": "markdown",
   "metadata": {},
   "source": [
    "I also want to know about what are some most common business type to get the most inspections. "
   ]
  },
  {
   "cell_type": "code",
   "execution_count": 19,
   "metadata": {
    "collapsed": false
   },
   "outputs": [
    {
     "name": "stdout",
     "output_type": "stream",
     "text": [
      "10 rows affected.\n"
     ]
    },
    {
     "data": {
      "text/html": [
       "<table>\n",
       "    <tr>\n",
       "        <th>program_category_description</th>\n",
       "        <th>count</th>\n",
       "    </tr>\n",
       "    <tr>\n",
       "        <td>Food Service Establishment</td>\n",
       "        <td>2694</td>\n",
       "    </tr>\n",
       "    <tr>\n",
       "        <td>Retail -Grocery</td>\n",
       "        <td>461</td>\n",
       "    </tr>\n",
       "    <tr>\n",
       "        <td>School</td>\n",
       "        <td>352</td>\n",
       "    </tr>\n",
       "    <tr>\n",
       "        <td>Bar</td>\n",
       "        <td>344</td>\n",
       "    </tr>\n",
       "    <tr>\n",
       "        <td>Retail - Prepackage Only</td>\n",
       "        <td>342</td>\n",
       "    </tr>\n",
       "    <tr>\n",
       "        <td>Childcare</td>\n",
       "        <td>296</td>\n",
       "    </tr>\n",
       "    <tr>\n",
       "        <td>Retail - Self Service &amp; Prepackage Foods</td>\n",
       "        <td>252</td>\n",
       "    </tr>\n",
       "    <tr>\n",
       "        <td>Food Processor</td>\n",
       "        <td>201</td>\n",
       "    </tr>\n",
       "    <tr>\n",
       "        <td>Mobile Pre-Packaged</td>\n",
       "        <td>181</td>\n",
       "    </tr>\n",
       "    <tr>\n",
       "        <td>Institutional Kitchen</td>\n",
       "        <td>146</td>\n",
       "    </tr>\n",
       "</table>"
      ],
      "text/plain": [
       "[('Food Service Establishment', 2694),\n",
       " ('Retail -Grocery', 461),\n",
       " ('School', 352),\n",
       " ('Bar', 344),\n",
       " ('Retail - Prepackage Only', 342),\n",
       " ('Childcare', 296),\n",
       " ('Retail - Self Service & Prepackage Foods', 252),\n",
       " ('Food Processor', 201),\n",
       " ('Mobile Pre-Packaged', 181),\n",
       " ('Institutional Kitchen', 146)]"
      ]
     },
     "execution_count": 19,
     "metadata": {},
     "output_type": "execute_result"
    }
   ],
   "source": [
    "%%sql\n",
    "SELECT PROGRAM_CATEGORY_DESCRIPTION, COUNT(*) AS count\n",
    "FROM abq\n",
    "WHERE violation_desc IN (\n",
    "    SELECT violation_desc\n",
    "    FROM abq\n",
    "    GROUP BY violation_desc\n",
    "    ORDER BY COUNT(*) DESC\n",
    "    LIMIT 1)\n",
    "GROUP BY PROGRAM_CATEGORY_DESCRIPTION\n",
    "ORDER BY count DESC\n",
    "LIMIT 10;"
   ]
  },
  {
   "cell_type": "markdown",
   "metadata": {},
   "source": [
    "Sometimes it can be particularly useful to extract all kinds of dates out into variables, maybe we can find out some important patterns."
   ]
  },
  {
   "cell_type": "code",
   "execution_count": 20,
   "metadata": {
    "collapsed": false
   },
   "outputs": [
    {
     "name": "stdout",
     "output_type": "stream",
     "text": [
      "10 rows affected.\n"
     ]
    },
    {
     "data": {
      "text/html": [
       "<table>\n",
       "    <tr>\n",
       "        <th>day_of_year</th>\n",
       "        <th>year</th>\n",
       "        <th>month</th>\n",
       "        <th>day</th>\n",
       "        <th>day_of_week_str</th>\n",
       "        <th>day_of_week</th>\n",
       "        <th>is_weekend</th>\n",
       "        <th>is_weekday</th>\n",
       "        <th>hour_24</th>\n",
       "        <th>quarter</th>\n",
       "        <th>inspection_desc</th>\n",
       "    </tr>\n",
       "    <tr>\n",
       "        <td>2009-10-21</td>\n",
       "        <td>2009</td>\n",
       "        <td>10</td>\n",
       "        <td>21</td>\n",
       "        <td>Wednesday</td>\n",
       "        <td>4</td>\n",
       "        <td>0</td>\n",
       "        <td>1</td>\n",
       "        <td>00</td>\n",
       "        <td>4</td>\n",
       "        <td>EMERGENCY RESPONSE</td>\n",
       "    </tr>\n",
       "    <tr>\n",
       "        <td>2009-10-21</td>\n",
       "        <td>2009</td>\n",
       "        <td>10</td>\n",
       "        <td>21</td>\n",
       "        <td>Wednesday</td>\n",
       "        <td>4</td>\n",
       "        <td>0</td>\n",
       "        <td>1</td>\n",
       "        <td>00</td>\n",
       "        <td>4</td>\n",
       "        <td>ROUTINE FOOD INSPECTION</td>\n",
       "    </tr>\n",
       "    <tr>\n",
       "        <td>2009-10-21</td>\n",
       "        <td>2009</td>\n",
       "        <td>10</td>\n",
       "        <td>21</td>\n",
       "        <td>Wednesday</td>\n",
       "        <td>4</td>\n",
       "        <td>0</td>\n",
       "        <td>1</td>\n",
       "        <td>00</td>\n",
       "        <td>4</td>\n",
       "        <td>ROUTINE FOOD INSPECTION</td>\n",
       "    </tr>\n",
       "    <tr>\n",
       "        <td>2010-04-14</td>\n",
       "        <td>2010</td>\n",
       "        <td>04</td>\n",
       "        <td>14</td>\n",
       "        <td>Wednesday</td>\n",
       "        <td>4</td>\n",
       "        <td>0</td>\n",
       "        <td>1</td>\n",
       "        <td>00</td>\n",
       "        <td>2</td>\n",
       "        <td>ROUTINE FOOD INSPECTION</td>\n",
       "    </tr>\n",
       "    <tr>\n",
       "        <td>2010-04-14</td>\n",
       "        <td>2010</td>\n",
       "        <td>04</td>\n",
       "        <td>14</td>\n",
       "        <td>Wednesday</td>\n",
       "        <td>4</td>\n",
       "        <td>0</td>\n",
       "        <td>1</td>\n",
       "        <td>00</td>\n",
       "        <td>2</td>\n",
       "        <td>ROUTINE FOOD INSPECTION</td>\n",
       "    </tr>\n",
       "    <tr>\n",
       "        <td>2010-03-23</td>\n",
       "        <td>2010</td>\n",
       "        <td>03</td>\n",
       "        <td>23</td>\n",
       "        <td>Tuesday  </td>\n",
       "        <td>3</td>\n",
       "        <td>0</td>\n",
       "        <td>1</td>\n",
       "        <td>00</td>\n",
       "        <td>1</td>\n",
       "        <td>ROUTINE FOOD INSPECTION</td>\n",
       "    </tr>\n",
       "    <tr>\n",
       "        <td>2010-03-23</td>\n",
       "        <td>2010</td>\n",
       "        <td>03</td>\n",
       "        <td>23</td>\n",
       "        <td>Tuesday  </td>\n",
       "        <td>3</td>\n",
       "        <td>0</td>\n",
       "        <td>1</td>\n",
       "        <td>00</td>\n",
       "        <td>1</td>\n",
       "        <td>ROUTINE FOOD INSPECTION</td>\n",
       "    </tr>\n",
       "    <tr>\n",
       "        <td>2010-03-23</td>\n",
       "        <td>2010</td>\n",
       "        <td>03</td>\n",
       "        <td>23</td>\n",
       "        <td>Tuesday  </td>\n",
       "        <td>3</td>\n",
       "        <td>0</td>\n",
       "        <td>1</td>\n",
       "        <td>00</td>\n",
       "        <td>1</td>\n",
       "        <td>ROUTINE FOOD INSPECTION</td>\n",
       "    </tr>\n",
       "    <tr>\n",
       "        <td>2009-12-15</td>\n",
       "        <td>2009</td>\n",
       "        <td>12</td>\n",
       "        <td>15</td>\n",
       "        <td>Tuesday  </td>\n",
       "        <td>3</td>\n",
       "        <td>0</td>\n",
       "        <td>1</td>\n",
       "        <td>00</td>\n",
       "        <td>4</td>\n",
       "        <td>EMERGENCY RESPONSE</td>\n",
       "    </tr>\n",
       "    <tr>\n",
       "        <td>2009-12-15</td>\n",
       "        <td>2009</td>\n",
       "        <td>12</td>\n",
       "        <td>15</td>\n",
       "        <td>Tuesday  </td>\n",
       "        <td>3</td>\n",
       "        <td>0</td>\n",
       "        <td>1</td>\n",
       "        <td>00</td>\n",
       "        <td>4</td>\n",
       "        <td>ROUTINE FOOD INSPECTION</td>\n",
       "    </tr>\n",
       "</table>"
      ],
      "text/plain": [
       "[('2009-10-21', '2009', '10', '21', 'Wednesday', '4', 0, 1, '00', '4', 'EMERGENCY RESPONSE'),\n",
       " ('2009-10-21', '2009', '10', '21', 'Wednesday', '4', 0, 1, '00', '4', 'ROUTINE FOOD INSPECTION'),\n",
       " ('2009-10-21', '2009', '10', '21', 'Wednesday', '4', 0, 1, '00', '4', 'ROUTINE FOOD INSPECTION'),\n",
       " ('2010-04-14', '2010', '04', '14', 'Wednesday', '4', 0, 1, '00', '2', 'ROUTINE FOOD INSPECTION'),\n",
       " ('2010-04-14', '2010', '04', '14', 'Wednesday', '4', 0, 1, '00', '2', 'ROUTINE FOOD INSPECTION'),\n",
       " ('2010-03-23', '2010', '03', '23', 'Tuesday  ', '3', 0, 1, '00', '1', 'ROUTINE FOOD INSPECTION'),\n",
       " ('2010-03-23', '2010', '03', '23', 'Tuesday  ', '3', 0, 1, '00', '1', 'ROUTINE FOOD INSPECTION'),\n",
       " ('2010-03-23', '2010', '03', '23', 'Tuesday  ', '3', 0, 1, '00', '1', 'ROUTINE FOOD INSPECTION'),\n",
       " ('2009-12-15', '2009', '12', '15', 'Tuesday  ', '3', 0, 1, '00', '4', 'EMERGENCY RESPONSE'),\n",
       " ('2009-12-15', '2009', '12', '15', 'Tuesday  ', '3', 0, 1, '00', '4', 'ROUTINE FOOD INSPECTION')]"
      ]
     },
     "execution_count": 20,
     "metadata": {},
     "output_type": "execute_result"
    }
   ],
   "source": [
    "%%sql\n",
    "SELECT TO_CHAR(inspection_date, 'YYYY-MM-DD') AS day_of_year, \n",
    "    TO_CHAR(inspection_date, 'YYYY') AS year,\n",
    "    TO_CHAR(inspection_date, 'MM') AS month,\n",
    "    TO_CHAR(inspection_date, 'DD') AS day,\n",
    "    TO_CHAR(inspection_date, 'Day') AS day_of_week_str,\n",
    "    TO_CHAR(inspection_date, 'D') AS day_of_week,\n",
    "    CASE WHEN CAST(TO_CHAR(inspection_date, 'D') AS INTEGER) >= 6 \n",
    "        THEN 1 \n",
    "        ELSE 0\n",
    "    END AS is_weekend,\n",
    "    CASE WHEN CAST(TO_CHAR(inspection_date, 'D') AS INTEGER) < 6 \n",
    "        THEN 1 \n",
    "        ELSE 0\n",
    "    END AS is_weekday,\n",
    "    TO_CHAR(inspection_date, 'HH24') AS hour_24,\n",
    "    TO_CHAR(inspection_date, 'Q') AS quarter,\n",
    "    inspection_desc as inspection_desc\n",
    "FROM abq\n",
    "LIMIT 10;"
   ]
  },
  {
   "cell_type": "code",
   "execution_count": 22,
   "metadata": {
    "collapsed": false
   },
   "outputs": [
    {
     "name": "stdout",
     "output_type": "stream",
     "text": [
      "Done.\n",
      "Done.\n"
     ]
    },
    {
     "data": {
      "text/plain": [
       "[]"
      ]
     },
     "execution_count": 22,
     "metadata": {},
     "output_type": "execute_result"
    }
   ],
   "source": [
    "%%sql\n",
    "DROP TABLE IF EXISTS days;\n",
    "CREATE TABLE days_abq (\n",
    "    id SERIAL,\n",
    "    day_of_year CHAR(10),\n",
    "    year INTEGER,\n",
    "    month INTEGER,\n",
    "    day INTEGER,\n",
    "    day_of_week_str CHAR(9),\n",
    "    day_of_week INTEGER,\n",
    "    is_weekend BOOLEAN,\n",
    "    is_weekday BOOLEAN,\n",
    "    hour_24 INTEGER,\n",
    "    quarter INTEGER,\n",
    "    inspection_desc char(50)\n",
    ");\n"
   ]
  },
  {
   "cell_type": "code",
   "execution_count": 24,
   "metadata": {
    "collapsed": false
   },
   "outputs": [
    {
     "name": "stdout",
     "output_type": "stream",
     "text": [
      "1204 rows affected.\n"
     ]
    },
    {
     "data": {
      "text/plain": [
       "[]"
      ]
     },
     "execution_count": 24,
     "metadata": {},
     "output_type": "execute_result"
    }
   ],
   "source": [
    "%%sql\n",
    "INSERT INTO days_abq (day_of_year, year, month, day, day_of_week_str, day_of_week,\n",
    "                  is_weekend, is_weekday, hour_24, quarter, inspection_desc)\n",
    "SELECT DISTINCT TO_CHAR( inspection_date, 'YYYY-MM-DD') AS day_of_year, \n",
    "    CAST(TO_CHAR( inspection_date, 'YYYY') AS INTEGER) AS year,\n",
    "    CAST(TO_CHAR( inspection_date, 'MM') AS INTEGER) AS month,\n",
    "    CAST(TO_CHAR( inspection_date, 'DD') AS INTEGER) AS day,\n",
    "    TO_CHAR( inspection_date, 'Day') AS day_of_week_str,\n",
    "    CAST(TO_CHAR( inspection_date, 'D') AS INTEGER) AS day_of_week,\n",
    "    CASE WHEN CAST(TO_CHAR( inspection_date, 'D') AS INTEGER) IN (1, 7) \n",
    "        THEN TRUE\n",
    "        ELSE FALSE\n",
    "    END AS is_weekend,\n",
    "    CASE WHEN CAST(TO_CHAR( inspection_date, 'D') AS INTEGER) NOT IN (1, 7) \n",
    "        THEN TRUE\n",
    "        ELSE FALSE\n",
    "    END AS is_weekday,\n",
    "    CAST(TO_CHAR( inspection_date, 'HH24') AS INTEGER) AS hour_24,\n",
    "    CAST(TO_CHAR( inspection_date, 'Q') AS INTEGER) AS quarter,\n",
    "    inspection_desc as inspection\n",
    "FROM abq;\n"
   ]
  },
  {
   "cell_type": "markdown",
   "metadata": {},
   "source": [
    "Now we can take a look as how the inspections occurred in relation to dates and month. "
   ]
  },
  {
   "cell_type": "code",
   "execution_count": 27,
   "metadata": {
    "collapsed": false
   },
   "outputs": [
    {
     "name": "stdout",
     "output_type": "stream",
     "text": [
      "10 rows affected.\n"
     ]
    },
    {
     "data": {
      "text/html": [
       "<table>\n",
       "    <tr>\n",
       "        <th>month</th>\n",
       "        <th>month_count</th>\n",
       "    </tr>\n",
       "    <tr>\n",
       "        <td>12</td>\n",
       "        <td>131</td>\n",
       "    </tr>\n",
       "    <tr>\n",
       "        <td>9</td>\n",
       "        <td>123</td>\n",
       "    </tr>\n",
       "    <tr>\n",
       "        <td>10</td>\n",
       "        <td>119</td>\n",
       "    </tr>\n",
       "    <tr>\n",
       "        <td>11</td>\n",
       "        <td>108</td>\n",
       "    </tr>\n",
       "    <tr>\n",
       "        <td>1</td>\n",
       "        <td>103</td>\n",
       "    </tr>\n",
       "    <tr>\n",
       "        <td>3</td>\n",
       "        <td>101</td>\n",
       "    </tr>\n",
       "    <tr>\n",
       "        <td>8</td>\n",
       "        <td>99</td>\n",
       "    </tr>\n",
       "    <tr>\n",
       "        <td>7</td>\n",
       "        <td>92</td>\n",
       "    </tr>\n",
       "    <tr>\n",
       "        <td>6</td>\n",
       "        <td>91</td>\n",
       "    </tr>\n",
       "    <tr>\n",
       "        <td>4</td>\n",
       "        <td>86</td>\n",
       "    </tr>\n",
       "</table>"
      ],
      "text/plain": [
       "[(12, 131),\n",
       " (9, 123),\n",
       " (10, 119),\n",
       " (11, 108),\n",
       " (1, 103),\n",
       " (3, 101),\n",
       " (8, 99),\n",
       " (7, 92),\n",
       " (6, 91),\n",
       " (4, 86)]"
      ]
     },
     "execution_count": 27,
     "metadata": {},
     "output_type": "execute_result"
    }
   ],
   "source": [
    "%%sql\n",
    "select month, count(*) as month_count\n",
    "from days_abq\n",
    "where inspection_desc not in ('No Violations Found', 'None','Additional Comments', 'None', 'Delivered Informational Brochure')\n",
    "group by month\n",
    "order by month_count desc\n",
    "limit 10;"
   ]
  },
  {
   "cell_type": "markdown",
   "metadata": {},
   "source": [
    "## Bonus (10 points)\n",
    "\n",
    "We have seen a few simple techniques for normalizing data in class.  Choose a column or set of columns that might be redundant and normalize them out to another table:\n",
    "\n",
    "* Identify the columns to normalize in the source data table\n",
    "* Create one or more new tables to hold the normalized records\n",
    "* Extract data into the new tables\n",
    "* Re-insert the new foreign key references from the new table into the source table"
   ]
  },
  {
   "cell_type": "markdown",
   "metadata": {},
   "source": [
    "Through previous work, I think there are redundancy in facility_name and owner_name. I'm going to normalize those variables. "
   ]
  },
  {
   "cell_type": "code",
   "execution_count": 28,
   "metadata": {
    "collapsed": false
   },
   "outputs": [
    {
     "name": "stdout",
     "output_type": "stream",
     "text": [
      "10 rows affected.\n"
     ]
    },
    {
     "data": {
      "text/html": [
       "<table>\n",
       "    <tr>\n",
       "        <th>facility_name</th>\n",
       "        <th>facility_key</th>\n",
       "    </tr>\n",
       "    <tr>\n",
       "        <td>00BSAY IT WITH CAKE</td>\n",
       "        <td>50534</td>\n",
       "    </tr>\n",
       "    <tr>\n",
       "        <td>2000 VIETNAM RESTAURANT</td>\n",
       "        <td>31468</td>\n",
       "    </tr>\n",
       "    <tr>\n",
       "        <td>328 CHINESE CUISINE</td>\n",
       "        <td>72789</td>\n",
       "    </tr>\n",
       "    <tr>\n",
       "        <td>5 STAR BURGERS</td>\n",
       "        <td>90929</td>\n",
       "    </tr>\n",
       "    <tr>\n",
       "        <td>66 DINER</td>\n",
       "        <td>7820</td>\n",
       "    </tr>\n",
       "    <tr>\n",
       "        <td>7 BAR ELEMENTARY SCHOOL</td>\n",
       "        <td>2207</td>\n",
       "    </tr>\n",
       "    <tr>\n",
       "        <td>7 ELEVEN</td>\n",
       "        <td>21347</td>\n",
       "    </tr>\n",
       "    <tr>\n",
       "        <td>7 ELEVEN 57722</td>\n",
       "        <td>21346</td>\n",
       "    </tr>\n",
       "    <tr>\n",
       "        <td>7 ELEVEN 700</td>\n",
       "        <td>21348</td>\n",
       "    </tr>\n",
       "    <tr>\n",
       "        <td>7 ELEVEN 702</td>\n",
       "        <td>21350</td>\n",
       "    </tr>\n",
       "</table>"
      ],
      "text/plain": [
       "[('00BSAY IT WITH CAKE', 50534),\n",
       " ('2000 VIETNAM RESTAURANT', 31468),\n",
       " ('328 CHINESE CUISINE', 72789),\n",
       " ('5 STAR BURGERS', 90929),\n",
       " ('66 DINER', 7820),\n",
       " ('7 BAR ELEMENTARY SCHOOL', 2207),\n",
       " ('7 ELEVEN', 21347),\n",
       " ('7 ELEVEN 57722', 21346),\n",
       " ('7 ELEVEN 700', 21348),\n",
       " ('7 ELEVEN 702', 21350)]"
      ]
     },
     "execution_count": 28,
     "metadata": {},
     "output_type": "execute_result"
    }
   ],
   "source": [
    "%%sql\n",
    "SELECT DISTINCT facility_name, facility_key\n",
    "FROM abq\n",
    "ORDER BY facility_name\n",
    "limit 10;"
   ]
  },
  {
   "cell_type": "code",
   "execution_count": 29,
   "metadata": {
    "collapsed": false
   },
   "outputs": [
    {
     "name": "stdout",
     "output_type": "stream",
     "text": [
      "10 rows affected.\n"
     ]
    },
    {
     "data": {
      "text/html": [
       "<table>\n",
       "    <tr>\n",
       "        <th>owner_name</th>\n",
       "        <th>owner_key</th>\n",
       "    </tr>\n",
       "    <tr>\n",
       "        <td>110 SUNPORT LLC</td>\n",
       "        <td>80806</td>\n",
       "    </tr>\n",
       "    <tr>\n",
       "        <td>1ST CLASS LEARNING CENTER</td>\n",
       "        <td>39984</td>\n",
       "    </tr>\n",
       "    <tr>\n",
       "        <td>2000 VIETMAN RESTAURANT</td>\n",
       "        <td>29294</td>\n",
       "    </tr>\n",
       "    <tr>\n",
       "        <td>21ST CENTURY PUBLIC ACADEMY</td>\n",
       "        <td>65277</td>\n",
       "    </tr>\n",
       "    <tr>\n",
       "        <td>300 CLUB GRILL</td>\n",
       "        <td>80954</td>\n",
       "    </tr>\n",
       "    <tr>\n",
       "        <td>328 CHINESE CUISINE</td>\n",
       "        <td>66644</td>\n",
       "    </tr>\n",
       "    <tr>\n",
       "        <td>3RD ALARM COFFEE</td>\n",
       "        <td>67195</td>\n",
       "    </tr>\n",
       "    <tr>\n",
       "        <td>5 STAR ABQ INC</td>\n",
       "        <td>82383</td>\n",
       "    </tr>\n",
       "    <tr>\n",
       "        <td>6001 INC</td>\n",
       "        <td>15660</td>\n",
       "    </tr>\n",
       "    <tr>\n",
       "        <td>66 DINER</td>\n",
       "        <td>6743</td>\n",
       "    </tr>\n",
       "</table>"
      ],
      "text/plain": [
       "[('110 SUNPORT LLC', 80806),\n",
       " ('1ST CLASS LEARNING CENTER', 39984),\n",
       " ('2000 VIETMAN RESTAURANT', 29294),\n",
       " ('21ST CENTURY PUBLIC ACADEMY', 65277),\n",
       " ('300 CLUB GRILL', 80954),\n",
       " ('328 CHINESE CUISINE', 66644),\n",
       " ('3RD ALARM COFFEE', 67195),\n",
       " ('5 STAR ABQ INC', 82383),\n",
       " ('6001 INC', 15660),\n",
       " ('66 DINER', 6743)]"
      ]
     },
     "execution_count": 29,
     "metadata": {},
     "output_type": "execute_result"
    }
   ],
   "source": [
    "%%sql\n",
    "SELECT DISTINCT owner_name, owner_key\n",
    "FROM abq\n",
    "ORDER BY owner_name\n",
    "limit 10;"
   ]
  },
  {
   "cell_type": "code",
   "execution_count": 32,
   "metadata": {
    "collapsed": false
   },
   "outputs": [
    {
     "name": "stdout",
     "output_type": "stream",
     "text": [
      "10 rows affected.\n"
     ]
    },
    {
     "data": {
      "text/html": [
       "<table>\n",
       "    <tr>\n",
       "        <th>restaurant_name</th>\n",
       "        <th>restaurant_id</th>\n",
       "    </tr>\n",
       "    <tr>\n",
       "        <td>OOB SPECIALTY HOSPITAL OF ALBUQUER</td>\n",
       "        <td>91957</td>\n",
       "    </tr>\n",
       "    <tr>\n",
       "        <td>QUIZNOS SUB 12316</td>\n",
       "        <td>82796</td>\n",
       "    </tr>\n",
       "    <tr>\n",
       "        <td>QUALITY INN UNIVERSITY</td>\n",
       "        <td>92080</td>\n",
       "    </tr>\n",
       "    <tr>\n",
       "        <td>OOB WEENIE WAGON</td>\n",
       "        <td>85431</td>\n",
       "    </tr>\n",
       "    <tr>\n",
       "        <td>SUSHI GEN</td>\n",
       "        <td>54063</td>\n",
       "    </tr>\n",
       "    <tr>\n",
       "        <td>FEDERICO SR</td>\n",
       "        <td>77232</td>\n",
       "    </tr>\n",
       "    <tr>\n",
       "        <td>SMITHS 439</td>\n",
       "        <td>4291</td>\n",
       "    </tr>\n",
       "    <tr>\n",
       "        <td>SB RESTAURANT CO</td>\n",
       "        <td>61877</td>\n",
       "    </tr>\n",
       "    <tr>\n",
       "        <td>DUKE CITY AQUATICS FOUNDATION</td>\n",
       "        <td>79374</td>\n",
       "    </tr>\n",
       "    <tr>\n",
       "        <td>IL VICINO HEIGHTS</td>\n",
       "        <td>29317</td>\n",
       "    </tr>\n",
       "</table>"
      ],
      "text/plain": [
       "[('OOB SPECIALTY HOSPITAL OF ALBUQUER', 91957),\n",
       " ('QUIZNOS SUB 12316', 82796),\n",
       " ('QUALITY INN UNIVERSITY', 92080),\n",
       " ('OOB WEENIE WAGON', 85431),\n",
       " ('SUSHI GEN', 54063),\n",
       " ('FEDERICO SR', 77232),\n",
       " ('SMITHS 439', 4291),\n",
       " ('SB RESTAURANT CO', 61877),\n",
       " ('DUKE CITY AQUATICS FOUNDATION', 79374),\n",
       " ('IL VICINO HEIGHTS', 29317)]"
      ]
     },
     "execution_count": 32,
     "metadata": {},
     "output_type": "execute_result"
    }
   ],
   "source": [
    "%%sql\n",
    "SELECT restaurant_name, restaurant_id\n",
    "FROM (\n",
    "    SELECT DISTINCT facility_name as restaurant_name, facility_key AS restaurant_id FROM abq\n",
    "    UNION\n",
    "    SELECT DISTINCT owner_name as restaurant_name, owner_key AS restaurant_id FROM abq\n",
    "    ) AS d\n",
    "LIMIT 10;"
   ]
  },
  {
   "cell_type": "code",
   "execution_count": 37,
   "metadata": {
    "collapsed": false
   },
   "outputs": [
    {
     "name": "stdout",
     "output_type": "stream",
     "text": [
      "Done.\n",
      "Done.\n"
     ]
    },
    {
     "data": {
      "text/plain": [
       "[]"
      ]
     },
     "execution_count": 37,
     "metadata": {},
     "output_type": "execute_result"
    }
   ],
   "source": [
    "%%sql\n",
    "DROP TABLE IF EXISTS names;\n",
    "CREATE TABLE names(\n",
    "    id SERIAL,\n",
    "    name VARCHAR(180),\n",
    "    restaurant_id INTEGER\n",
    ");"
   ]
  },
  {
   "cell_type": "code",
   "execution_count": 38,
   "metadata": {
    "collapsed": false
   },
   "outputs": [
    {
     "name": "stdout",
     "output_type": "stream",
     "text": [
      "4727 rows affected.\n"
     ]
    },
    {
     "data": {
      "text/plain": [
       "[]"
      ]
     },
     "execution_count": 38,
     "metadata": {},
     "output_type": "execute_result"
    }
   ],
   "source": [
    "%%sql\n",
    "INSERT INTO names (name, restaurant_id)\n",
    "SELECT restaurant_name, restaurant_id FROM (\n",
    "   SELECT DISTINCT facility_name as restaurant_name, facility_key AS restaurant_id FROM abq\n",
    "    UNION\n",
    "    SELECT DISTINCT owner_name as restaurant_name, owner_key AS restaurant_id FROM abq\n",
    ") AS d;"
   ]
  },
  {
   "cell_type": "code",
   "execution_count": 44,
   "metadata": {
    "collapsed": false
   },
   "outputs": [
    {
     "name": "stdout",
     "output_type": "stream",
     "text": [
      "Done.\n"
     ]
    },
    {
     "data": {
      "text/plain": [
       "[]"
      ]
     },
     "execution_count": 44,
     "metadata": {},
     "output_type": "execute_result"
    }
   ],
   "source": [
    "%%sql\n",
    "ALTER TABLE abq \n",
    "ADD COLUMN facility_newid INTEGER;"
   ]
  },
  {
   "cell_type": "code",
   "execution_count": 45,
   "metadata": {
    "collapsed": false
   },
   "outputs": [
    {
     "name": "stdout",
     "output_type": "stream",
     "text": [
      "17556 rows affected.\n"
     ]
    },
    {
     "data": {
      "text/plain": [
       "[]"
      ]
     },
     "execution_count": 45,
     "metadata": {},
     "output_type": "execute_result"
    }
   ],
   "source": [
    "%%sql\n",
    "UPDATE abq as r\n",
    "SET facility_newid = n.id\n",
    "FROM names as n\n",
    "WHERE r.facility_name = n.name;"
   ]
  },
  {
   "cell_type": "code",
   "execution_count": 46,
   "metadata": {
    "collapsed": false
   },
   "outputs": [
    {
     "name": "stdout",
     "output_type": "stream",
     "text": [
      "Done.\n"
     ]
    },
    {
     "data": {
      "text/plain": [
       "[]"
      ]
     },
     "execution_count": 46,
     "metadata": {},
     "output_type": "execute_result"
    }
   ],
   "source": [
    "%%sql\n",
    "ALTER TABLE abq \n",
    "ADD COLUMN owner_newid INTEGER;"
   ]
  },
  {
   "cell_type": "code",
   "execution_count": 47,
   "metadata": {
    "collapsed": false
   },
   "outputs": [
    {
     "name": "stdout",
     "output_type": "stream",
     "text": [
      "17556 rows affected.\n"
     ]
    },
    {
     "data": {
      "text/plain": [
       "[]"
      ]
     },
     "execution_count": 47,
     "metadata": {},
     "output_type": "execute_result"
    }
   ],
   "source": [
    "%%sql\n",
    "UPDATE abq as r\n",
    "SET owner_newid = n.id\n",
    "FROM names as n\n",
    "WHERE r.owner_name = n.name;"
   ]
  },
  {
   "cell_type": "code",
   "execution_count": 48,
   "metadata": {
    "collapsed": false
   },
   "outputs": [
    {
     "name": "stdout",
     "output_type": "stream",
     "text": [
      "10 rows affected.\n"
     ]
    },
    {
     "data": {
      "text/html": [
       "<table>\n",
       "    <tr>\n",
       "        <th>facility_name</th>\n",
       "        <th>owner_name</th>\n",
       "        <th>facility_newid</th>\n",
       "        <th>owner_newid</th>\n",
       "    </tr>\n",
       "    <tr>\n",
       "        <td>OOB ACE SUSHI</td>\n",
       "        <td>ASIANA MANAGEMENT GROUP</td>\n",
       "        <td>2791</td>\n",
       "        <td>4710</td>\n",
       "    </tr>\n",
       "    <tr>\n",
       "        <td>OOB CAFE CHORONI</td>\n",
       "        <td>NEMESIO MORANTES</td>\n",
       "        <td>563</td>\n",
       "        <td>411</td>\n",
       "    </tr>\n",
       "    <tr>\n",
       "        <td>OOB NEW CHINA WOK INC</td>\n",
       "        <td>NEW CHINA WOK INC</td>\n",
       "        <td>2773</td>\n",
       "        <td>2075</td>\n",
       "    </tr>\n",
       "    <tr>\n",
       "        <td>OOB BUSINESS SOLD QUALITY INN &amp; ECONOLODGE</td>\n",
       "        <td>OOB BUSINESS SOLD ASN LLC</td>\n",
       "        <td>1168</td>\n",
       "        <td>713</td>\n",
       "    </tr>\n",
       "    <tr>\n",
       "        <td>OOB GRAND CHINA SUPER BUFFET</td>\n",
       "        <td>OOB B/W BUSINESS CLOSED GUO AND CHEN INC</td>\n",
       "        <td>924</td>\n",
       "        <td>3228</td>\n",
       "    </tr>\n",
       "    <tr>\n",
       "        <td>CANTEEN OF NM @ HOPE CHRISTIAN ES</td>\n",
       "        <td>CANTEEN SNACK BAR</td>\n",
       "        <td>1918</td>\n",
       "        <td>98</td>\n",
       "    </tr>\n",
       "    <tr>\n",
       "        <td>CARNICERIA LA ESPECIAL</td>\n",
       "        <td>SAUL MANRIQUEZ</td>\n",
       "        <td>1450</td>\n",
       "        <td>4420</td>\n",
       "    </tr>\n",
       "    <tr>\n",
       "        <td>OOB 03/20/12ROCKY MTN CHOCOLATE FACTORY</td>\n",
       "        <td>OOB 03/20/12SABROSO SWEETS LLC PER WRITTEN REQUEST</td>\n",
       "        <td>1537</td>\n",
       "        <td>971</td>\n",
       "    </tr>\n",
       "    <tr>\n",
       "        <td>FRONTIER RESTAURANT</td>\n",
       "        <td>FRONTIER RESTAURANT</td>\n",
       "        <td>4653</td>\n",
       "        <td>4653</td>\n",
       "    </tr>\n",
       "    <tr>\n",
       "        <td>MANZANO DECA STORE</td>\n",
       "        <td>MANZANO HIGH SCHOOL DECA</td>\n",
       "        <td>100</td>\n",
       "        <td>112</td>\n",
       "    </tr>\n",
       "</table>"
      ],
      "text/plain": [
       "[('OOB ACE SUSHI', 'ASIANA MANAGEMENT GROUP', 2791, 4710),\n",
       " ('OOB CAFE CHORONI', 'NEMESIO MORANTES', 563, 411),\n",
       " ('OOB NEW CHINA WOK INC', 'NEW CHINA WOK INC', 2773, 2075),\n",
       " ('OOB BUSINESS SOLD QUALITY INN & ECONOLODGE', 'OOB BUSINESS SOLD ASN LLC', 1168, 713),\n",
       " ('OOB GRAND CHINA SUPER BUFFET', 'OOB B/W BUSINESS CLOSED GUO AND CHEN INC', 924, 3228),\n",
       " ('CANTEEN OF NM @ HOPE CHRISTIAN ES', 'CANTEEN SNACK BAR', 1918, 98),\n",
       " ('CARNICERIA LA ESPECIAL', 'SAUL MANRIQUEZ', 1450, 4420),\n",
       " ('OOB 03/20/12ROCKY MTN CHOCOLATE FACTORY', 'OOB 03/20/12SABROSO SWEETS LLC PER WRITTEN REQUEST', 1537, 971),\n",
       " ('FRONTIER RESTAURANT', 'FRONTIER RESTAURANT', 4653, 4653),\n",
       " ('MANZANO DECA STORE', 'MANZANO HIGH SCHOOL DECA', 100, 112)]"
      ]
     },
     "execution_count": 48,
     "metadata": {},
     "output_type": "execute_result"
    }
   ],
   "source": [
    "%%sql\n",
    "select distinct facility_name,owner_name, facility_newid, owner_newid \n",
    "from abq \n",
    "limit 10;"
   ]
  },
  {
   "cell_type": "code",
   "execution_count": null,
   "metadata": {
    "collapsed": true
   },
   "outputs": [],
   "source": []
  }
 ],
 "metadata": {
  "anaconda-cloud": {},
  "kernelspec": {
   "display_name": "Python 3",
   "language": "python",
   "name": "python3"
  },
  "language_info": {
   "codemirror_mode": {
    "name": "ipython",
    "version": 3
   },
   "file_extension": ".py",
   "mimetype": "text/x-python",
   "name": "python",
   "nbconvert_exporter": "python",
   "pygments_lexer": "ipython3",
   "version": "3.5.2"
  }
 },
 "nbformat": 4,
 "nbformat_minor": 1
}
